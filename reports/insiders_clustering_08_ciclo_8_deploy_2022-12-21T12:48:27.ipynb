{
 "cells": [
  {
   "cell_type": "markdown",
   "id": "f08cdd85",
   "metadata": {
    "papermill": {
     "duration": 0.035872,
     "end_time": "2022-12-21T15:48:29.332242",
     "exception": false,
     "start_time": "2022-12-21T15:48:29.296370",
     "status": "completed"
    },
    "tags": []
   },
   "source": [
    "# Imports"
   ]
  },
  {
   "cell_type": "code",
   "execution_count": 1,
   "id": "032dfa43",
   "metadata": {
    "ExecuteTime": {
     "end_time": "2022-12-20T23:16:55.134382Z",
     "start_time": "2022-12-20T23:16:49.985930Z"
    },
    "execution": {
     "iopub.execute_input": "2022-12-21T15:48:29.359156Z",
     "iopub.status.busy": "2022-12-21T15:48:29.358927Z",
     "iopub.status.idle": "2022-12-21T15:48:33.868283Z",
     "shell.execute_reply": "2022-12-21T15:48:33.867490Z"
    },
    "papermill": {
     "duration": 4.521625,
     "end_time": "2022-12-21T15:48:33.869872",
     "exception": false,
     "start_time": "2022-12-21T15:48:29.348247",
     "status": "completed"
    },
    "tags": []
   },
   "outputs": [
    {
     "name": "stderr",
     "output_type": "stream",
     "text": [
      "/home/jonas/anaconda3/envs/pa005/lib/python3.9/site-packages/tqdm/auto.py:22: TqdmWarning: IProgress not found. Please update jupyter and ipywidgets. See https://ipywidgets.readthedocs.io/en/stable/user_install.html\n",
      "  from .autonotebook import tqdm as notebook_tqdm\n"
     ]
    }
   ],
   "source": [
    "import pandas as pd\n",
    "import numpy as np\n",
    "import seaborn as sns\n",
    "import inflection\n",
    "import umap\n",
    "import re\n",
    "import pickle \n",
    "import sqlite3\n",
    "from sqlalchemy import create_engine\n",
    "\n",
    "\n",
    "from sklearn.cluster         import KMeans, AgglomerativeClustering, DBSCAN\n",
    "from sklearn.ensemble        import RandomForestRegressor"
   ]
  },
  {
   "cell_type": "markdown",
   "id": "31e9e005",
   "metadata": {
    "papermill": {
     "duration": 0.008218,
     "end_time": "2022-12-21T15:48:33.886413",
     "exception": false,
     "start_time": "2022-12-21T15:48:33.878195",
     "status": "completed"
    },
    "tags": []
   },
   "source": [
    "## Loading"
   ]
  },
  {
   "cell_type": "code",
   "execution_count": 2,
   "id": "08b3b5e8",
   "metadata": {
    "ExecuteTime": {
     "end_time": "2022-12-20T23:16:55.749899Z",
     "start_time": "2022-12-20T23:16:55.148242Z"
    },
    "execution": {
     "iopub.execute_input": "2022-12-21T15:48:33.930163Z",
     "iopub.status.busy": "2022-12-21T15:48:33.929788Z",
     "iopub.status.idle": "2022-12-21T15:48:34.535475Z",
     "shell.execute_reply": "2022-12-21T15:48:34.534824Z"
    },
    "papermill": {
     "duration": 0.615965,
     "end_time": "2022-12-21T15:48:34.536959",
     "exception": false,
     "start_time": "2022-12-21T15:48:33.920994",
     "status": "completed"
    },
    "tags": []
   },
   "outputs": [],
   "source": [
    "path =  '/home/jonas/Documentos/repos/insiders_clustering/'\n",
    "data = pd.read_csv(path + 'datasets/ecommerce.csv', encoding='unicode_escape')"
   ]
  },
  {
   "cell_type": "code",
   "execution_count": 3,
   "id": "4fb3ad85",
   "metadata": {
    "ExecuteTime": {
     "end_time": "2022-12-20T23:16:55.790352Z",
     "start_time": "2022-12-20T23:16:55.752706Z"
    },
    "execution": {
     "iopub.execute_input": "2022-12-21T15:48:34.554191Z",
     "iopub.status.busy": "2022-12-21T15:48:34.553965Z",
     "iopub.status.idle": "2022-12-21T15:48:34.583961Z",
     "shell.execute_reply": "2022-12-21T15:48:34.583335Z"
    },
    "papermill": {
     "duration": 0.040255,
     "end_time": "2022-12-21T15:48:34.585420",
     "exception": false,
     "start_time": "2022-12-21T15:48:34.545165",
     "status": "completed"
    },
    "tags": []
   },
   "outputs": [],
   "source": [
    "# drop de coluna\n",
    "data = data.drop('Unnamed: 8', axis=1)"
   ]
  },
  {
   "cell_type": "markdown",
   "id": "fe92817a",
   "metadata": {
    "papermill": {
     "duration": 0.007881,
     "end_time": "2022-12-21T15:48:34.601641",
     "exception": false,
     "start_time": "2022-12-21T15:48:34.593760",
     "status": "completed"
    },
    "tags": []
   },
   "source": [
    "# 1 Descrição dos Dados"
   ]
  },
  {
   "cell_type": "markdown",
   "id": "dab82537",
   "metadata": {
    "papermill": {
     "duration": 0.007763,
     "end_time": "2022-12-21T15:48:34.617216",
     "exception": false,
     "start_time": "2022-12-21T15:48:34.609453",
     "status": "completed"
    },
    "tags": []
   },
   "source": [
    "## 1.1 Renomeando as Colunas"
   ]
  },
  {
   "cell_type": "code",
   "execution_count": 4,
   "id": "90deaa12",
   "metadata": {
    "ExecuteTime": {
     "end_time": "2022-12-20T23:16:55.802851Z",
     "start_time": "2022-12-20T23:16:55.791950Z"
    },
    "execution": {
     "iopub.execute_input": "2022-12-21T15:48:34.633631Z",
     "iopub.status.busy": "2022-12-21T15:48:34.633380Z",
     "iopub.status.idle": "2022-12-21T15:48:34.637491Z",
     "shell.execute_reply": "2022-12-21T15:48:34.637031Z"
    },
    "papermill": {
     "duration": 0.013793,
     "end_time": "2022-12-21T15:48:34.638719",
     "exception": false,
     "start_time": "2022-12-21T15:48:34.624926",
     "status": "completed"
    },
    "tags": []
   },
   "outputs": [],
   "source": [
    "old_cols = list(data.columns)\n",
    "\n",
    "new_cols = []\n",
    "\n",
    "for c in old_cols:\n",
    "    new_cols.append(inflection.underscore(c))\n",
    "\n",
    "data.columns = new_cols"
   ]
  },
  {
   "cell_type": "markdown",
   "id": "2b72ed6c",
   "metadata": {
    "papermill": {
     "duration": 0.007701,
     "end_time": "2022-12-21T15:48:34.654710",
     "exception": false,
     "start_time": "2022-12-21T15:48:34.647009",
     "status": "completed"
    },
    "tags": []
   },
   "source": [
    "## 1.5 Replace NA's"
   ]
  },
  {
   "cell_type": "code",
   "execution_count": 5,
   "id": "881dff18",
   "metadata": {
    "ExecuteTime": {
     "end_time": "2022-12-20T23:16:55.828057Z",
     "start_time": "2022-12-20T23:16:55.804768Z"
    },
    "execution": {
     "iopub.execute_input": "2022-12-21T15:48:34.671231Z",
     "iopub.status.busy": "2022-12-21T15:48:34.671006Z",
     "iopub.status.idle": "2022-12-21T15:48:34.691489Z",
     "shell.execute_reply": "2022-12-21T15:48:34.690834Z"
    },
    "papermill": {
     "duration": 0.030493,
     "end_time": "2022-12-21T15:48:34.692992",
     "exception": false,
     "start_time": "2022-12-21T15:48:34.662499",
     "status": "completed"
    },
    "tags": []
   },
   "outputs": [],
   "source": [
    "# criação de um dicionário com os novos customer_id {'invoice_no': novo_customer_id}\n",
    "invoice_customer_id_null = list(data[data['customer_id'].isna()]['invoice_no'].drop_duplicates())\n",
    "\n",
    "customer_id_null_dic = {}\n",
    "new_customer_id = 18500\n",
    "for invoice in invoice_customer_id_null:\n",
    "    customer_id_null_dic[invoice] = new_customer_id\n",
    "    new_customer_id += 1\n"
   ]
  },
  {
   "cell_type": "code",
   "execution_count": 6,
   "id": "1d6db5a1",
   "metadata": {
    "ExecuteTime": {
     "end_time": "2022-12-20T23:16:59.749480Z",
     "start_time": "2022-12-20T23:16:55.829527Z"
    },
    "execution": {
     "iopub.execute_input": "2022-12-21T15:48:34.710013Z",
     "iopub.status.busy": "2022-12-21T15:48:34.709791Z",
     "iopub.status.idle": "2022-12-21T15:48:38.695460Z",
     "shell.execute_reply": "2022-12-21T15:48:38.694828Z"
    },
    "papermill": {
     "duration": 3.995878,
     "end_time": "2022-12-21T15:48:38.696967",
     "exception": false,
     "start_time": "2022-12-21T15:48:34.701089",
     "status": "completed"
    },
    "tags": []
   },
   "outputs": [],
   "source": [
    "# Nova coluna de customer_id, com invoice_no no lugar do customer_id\n",
    "data['new_customer_id'] = data[['invoice_no', 'customer_id']].apply(lambda x: x['invoice_no'] if \n",
    "                                          np.isnan(x['customer_id']) == True else np.nan, axis=1)"
   ]
  },
  {
   "cell_type": "code",
   "execution_count": 7,
   "id": "dcdbeede",
   "metadata": {
    "ExecuteTime": {
     "end_time": "2022-12-20T23:16:59.785497Z",
     "start_time": "2022-12-20T23:16:59.751191Z"
    },
    "execution": {
     "iopub.execute_input": "2022-12-21T15:48:38.714125Z",
     "iopub.status.busy": "2022-12-21T15:48:38.713881Z",
     "iopub.status.idle": "2022-12-21T15:48:38.737466Z",
     "shell.execute_reply": "2022-12-21T15:48:38.736762Z"
    },
    "papermill": {
     "duration": 0.033771,
     "end_time": "2022-12-21T15:48:38.738924",
     "exception": false,
     "start_time": "2022-12-21T15:48:38.705153",
     "status": "completed"
    },
    "tags": []
   },
   "outputs": [],
   "source": [
    "# faz a troca de cada invoice_no pelo novo customer_id com o dicionário criado\n",
    "data['new_customer_id'] = data['new_customer_id'].map(customer_id_null_dic)"
   ]
  },
  {
   "cell_type": "code",
   "execution_count": 8,
   "id": "8cfc4aae",
   "metadata": {
    "ExecuteTime": {
     "end_time": "2022-12-20T23:17:04.409121Z",
     "start_time": "2022-12-20T23:16:59.788447Z"
    },
    "execution": {
     "iopub.execute_input": "2022-12-21T15:48:38.757121Z",
     "iopub.status.busy": "2022-12-21T15:48:38.756364Z",
     "iopub.status.idle": "2022-12-21T15:48:43.732164Z",
     "shell.execute_reply": "2022-12-21T15:48:43.731442Z"
    },
    "papermill": {
     "duration": 4.986626,
     "end_time": "2022-12-21T15:48:43.733716",
     "exception": false,
     "start_time": "2022-12-21T15:48:38.747090",
     "status": "completed"
    },
    "tags": []
   },
   "outputs": [],
   "source": [
    "# junta as colunas customer_id e new_customer_id em uma só\n",
    "data['customer_id'] = data[['customer_id', 'new_customer_id']].apply(lambda x: x['new_customer_id'] \n",
    "                                                                     if np.isnan(x['customer_id'])  == True \n",
    "                                                                     else x['customer_id'] , axis=1)"
   ]
  },
  {
   "cell_type": "code",
   "execution_count": 9,
   "id": "c6ccf09c",
   "metadata": {
    "ExecuteTime": {
     "end_time": "2022-12-20T23:17:04.444094Z",
     "start_time": "2022-12-20T23:17:04.412705Z"
    },
    "execution": {
     "iopub.execute_input": "2022-12-21T15:48:43.750872Z",
     "iopub.status.busy": "2022-12-21T15:48:43.750623Z",
     "iopub.status.idle": "2022-12-21T15:48:43.778507Z",
     "shell.execute_reply": "2022-12-21T15:48:43.777863Z"
    },
    "papermill": {
     "duration": 0.038075,
     "end_time": "2022-12-21T15:48:43.780033",
     "exception": false,
     "start_time": "2022-12-21T15:48:43.741958",
     "status": "completed"
    },
    "tags": []
   },
   "outputs": [],
   "source": [
    "# drop new_customer_id\n",
    "data = data.drop('new_customer_id', axis=1)"
   ]
  },
  {
   "cell_type": "markdown",
   "id": "38d6dd57",
   "metadata": {
    "papermill": {
     "duration": 0.007926,
     "end_time": "2022-12-21T15:48:43.795957",
     "exception": false,
     "start_time": "2022-12-21T15:48:43.788031",
     "status": "completed"
    },
    "tags": []
   },
   "source": [
    "## 1.6 Troca dos Tipos dos Dados"
   ]
  },
  {
   "cell_type": "code",
   "execution_count": 10,
   "id": "0edcdf87",
   "metadata": {
    "ExecuteTime": {
     "end_time": "2022-12-20T23:17:04.507630Z",
     "start_time": "2022-12-20T23:17:04.445901Z"
    },
    "execution": {
     "iopub.execute_input": "2022-12-21T15:48:43.812759Z",
     "iopub.status.busy": "2022-12-21T15:48:43.812501Z",
     "iopub.status.idle": "2022-12-21T15:48:43.870874Z",
     "shell.execute_reply": "2022-12-21T15:48:43.870228Z"
    },
    "papermill": {
     "duration": 0.068719,
     "end_time": "2022-12-21T15:48:43.872475",
     "exception": false,
     "start_time": "2022-12-21T15:48:43.803756",
     "status": "completed"
    },
    "tags": []
   },
   "outputs": [],
   "source": [
    "# invoice_date\n",
    "data['invoice_date'] = pd.to_datetime(data['invoice_date'], format='%d-%b-%y')\n",
    "\n",
    "# customer_id\n",
    "data['customer_id'] = data['customer_id'].astype('int64')\n"
   ]
  },
  {
   "cell_type": "markdown",
   "id": "9f272c5d",
   "metadata": {
    "papermill": {
     "duration": 0.00778,
     "end_time": "2022-12-21T15:48:43.888467",
     "exception": false,
     "start_time": "2022-12-21T15:48:43.880687",
     "status": "completed"
    },
    "tags": []
   },
   "source": [
    "# 2 Filtragem de Variáveis"
   ]
  },
  {
   "cell_type": "code",
   "execution_count": 11,
   "id": "064a978b",
   "metadata": {
    "ExecuteTime": {
     "end_time": "2022-12-20T23:17:04.530673Z",
     "start_time": "2022-12-20T23:17:04.509177Z"
    },
    "execution": {
     "iopub.execute_input": "2022-12-21T15:48:43.905351Z",
     "iopub.status.busy": "2022-12-21T15:48:43.905064Z",
     "iopub.status.idle": "2022-12-21T15:48:43.925610Z",
     "shell.execute_reply": "2022-12-21T15:48:43.924987Z"
    },
    "papermill": {
     "duration": 0.030721,
     "end_time": "2022-12-21T15:48:43.927119",
     "exception": false,
     "start_time": "2022-12-21T15:48:43.896398",
     "status": "completed"
    },
    "tags": []
   },
   "outputs": [],
   "source": [
    "df2 = data.copy()"
   ]
  },
  {
   "cell_type": "code",
   "execution_count": 12,
   "id": "959d9e47",
   "metadata": {
    "ExecuteTime": {
     "end_time": "2022-12-20T23:17:05.001483Z",
     "start_time": "2022-12-20T23:17:04.532443Z"
    },
    "execution": {
     "iopub.execute_input": "2022-12-21T15:48:43.945883Z",
     "iopub.status.busy": "2022-12-21T15:48:43.945646Z",
     "iopub.status.idle": "2022-12-21T15:48:44.119784Z",
     "shell.execute_reply": "2022-12-21T15:48:44.119135Z"
    },
    "papermill": {
     "duration": 0.184838,
     "end_time": "2022-12-21T15:48:44.121296",
     "exception": false,
     "start_time": "2022-12-21T15:48:43.936458",
     "status": "completed"
    },
    "tags": []
   },
   "outputs": [],
   "source": [
    "# Unit_price: maiores que 0.04\n",
    "df2 = df2[df2['unit_price'] > 0.04]\n",
    "\n",
    "# stock_code: drop 'POST', 'C2', 'BANK CHARGES', 'PADS', 'DOT', 'CRUK'\n",
    "df2 = df2[~df2['stock_code'].isin(['POST', 'C2', 'BANK CHARGES', 'PADS', 'DOT', 'CRUK', 'S', 'AMAZONFEE', 'B'])]\n",
    "\n",
    "# description: drop da coluna\n",
    "df2 = df2.drop('description', axis=1)\n",
    "\n",
    "# customer outlier (analise relizada na seção 4)\n",
    "\n",
    "df2 = df2[~df2['customer_id'].isin([12346, 14646])]\n",
    "\n",
    "# colocar apenas os customers que tinham customer_id\n",
    "df2 = df2[df2['customer_id'] < 18500]\n",
    "\n",
    "# country: drop de 'European Community' e 'Unspecified' (idéia para os próximos ciclos)\n",
    "# df2 = df2[~df2['country'].isin(['European Community', 'Unspecified'])]\n",
    "\n",
    "# quantity\n",
    "df2_returns = df2[df2['quantity'] < 0].copy()\n",
    "df2_purchases = df2[df2['quantity'] >= 0].copy()\n",
    "\n"
   ]
  },
  {
   "cell_type": "markdown",
   "id": "6a9bcde3",
   "metadata": {
    "papermill": {
     "duration": 0.00789,
     "end_time": "2022-12-21T15:48:44.137514",
     "exception": false,
     "start_time": "2022-12-21T15:48:44.129624",
     "status": "completed"
    },
    "tags": []
   },
   "source": [
    "# 3 Features Engineering"
   ]
  },
  {
   "cell_type": "code",
   "execution_count": 13,
   "id": "a35aea09",
   "metadata": {
    "ExecuteTime": {
     "end_time": "2022-12-20T23:17:05.013202Z",
     "start_time": "2022-12-20T23:17:05.003142Z"
    },
    "execution": {
     "iopub.execute_input": "2022-12-21T15:48:44.154624Z",
     "iopub.status.busy": "2022-12-21T15:48:44.154394Z",
     "iopub.status.idle": "2022-12-21T15:48:44.164976Z",
     "shell.execute_reply": "2022-12-21T15:48:44.164302Z"
    },
    "papermill": {
     "duration": 0.020807,
     "end_time": "2022-12-21T15:48:44.166390",
     "exception": false,
     "start_time": "2022-12-21T15:48:44.145583",
     "status": "completed"
    },
    "tags": []
   },
   "outputs": [],
   "source": [
    "df3 = df2.copy()"
   ]
  },
  {
   "cell_type": "code",
   "execution_count": 14,
   "id": "284c8604",
   "metadata": {
    "ExecuteTime": {
     "end_time": "2022-12-20T23:17:05.401568Z",
     "start_time": "2022-12-20T23:17:05.014748Z"
    },
    "execution": {
     "iopub.execute_input": "2022-12-21T15:48:44.183972Z",
     "iopub.status.busy": "2022-12-21T15:48:44.183737Z",
     "iopub.status.idle": "2022-12-21T15:48:44.194339Z",
     "shell.execute_reply": "2022-12-21T15:48:44.193702Z"
    },
    "papermill": {
     "duration": 0.021161,
     "end_time": "2022-12-21T15:48:44.195910",
     "exception": false,
     "start_time": "2022-12-21T15:48:44.174749",
     "status": "completed"
    },
    "tags": []
   },
   "outputs": [],
   "source": [
    "df_ref = df3.drop(['invoice_no', 'stock_code', 'quantity', 'invoice_date', 'unit_price', 'country'], axis=1)\n",
    "df_ref = df_ref.drop_duplicates().reset_index(drop=True)"
   ]
  },
  {
   "cell_type": "markdown",
   "id": "706189b3",
   "metadata": {
    "papermill": {
     "duration": 0.008103,
     "end_time": "2022-12-21T15:48:44.212321",
     "exception": false,
     "start_time": "2022-12-21T15:48:44.204218",
     "status": "completed"
    },
    "tags": []
   },
   "source": [
    "## 3.1 Criação de Features"
   ]
  },
  {
   "cell_type": "markdown",
   "id": "1f142a1f",
   "metadata": {
    "papermill": {
     "duration": 0.008031,
     "end_time": "2022-12-21T15:48:44.228391",
     "exception": false,
     "start_time": "2022-12-21T15:48:44.220360",
     "status": "completed"
    },
    "tags": []
   },
   "source": [
    "### 3.1.1 Faturamento"
   ]
  },
  {
   "cell_type": "code",
   "execution_count": 15,
   "id": "8f00867b",
   "metadata": {
    "ExecuteTime": {
     "end_time": "2022-12-20T23:17:05.638265Z",
     "start_time": "2022-12-20T23:17:05.407138Z"
    },
    "execution": {
     "iopub.execute_input": "2022-12-21T15:48:44.245533Z",
     "iopub.status.busy": "2022-12-21T15:48:44.245292Z",
     "iopub.status.idle": "2022-12-21T15:48:44.278113Z",
     "shell.execute_reply": "2022-12-21T15:48:44.277503Z"
    },
    "papermill": {
     "duration": 0.043151,
     "end_time": "2022-12-21T15:48:44.279594",
     "exception": false,
     "start_time": "2022-12-21T15:48:44.236443",
     "status": "completed"
    },
    "tags": []
   },
   "outputs": [],
   "source": [
    "# Monetary Purchase \n",
    "df2_purchases['monetary'] = df2_purchases['unit_price']*df2_purchases['quantity']\n",
    "df_monetary_purchase = df2_purchases[['customer_id', 'monetary']].groupby('customer_id').sum().reset_index()\n",
    "\n",
    "# join\n",
    "df_ref = df_ref.merge(df_monetary_purchase, how='left', on='customer_id')\n",
    "\n",
    "# Monetary Return\n",
    "df2_returns['monetary'] = df2_returns['unit_price']*df2_returns['quantity']\n",
    "df_monetary_returns = df2_returns[['customer_id', 'monetary']].groupby('customer_id').sum().reset_index()\n",
    "\n",
    "# join\n",
    "df_ref = df_ref.merge(df_monetary_returns, how='left', on='customer_id')\n",
    "\n",
    "df_ref.rename(columns={'monetary_x':'monetary_purchase', 'monetary_y':'monetary_returns'}, inplace=True)\n",
    "\n",
    "df_ref['monetary_returns'] = df_ref['monetary_returns'].fillna(0)"
   ]
  },
  {
   "cell_type": "markdown",
   "id": "174610a6",
   "metadata": {
    "papermill": {
     "duration": 0.008362,
     "end_time": "2022-12-21T15:48:44.296524",
     "exception": false,
     "start_time": "2022-12-21T15:48:44.288162",
     "status": "completed"
    },
    "tags": []
   },
   "source": [
    "### 3.1.2 Recência  (Quantidade de dias desde de última compra)"
   ]
  },
  {
   "cell_type": "code",
   "execution_count": 16,
   "id": "a1d17457",
   "metadata": {
    "ExecuteTime": {
     "end_time": "2022-12-20T23:17:05.667671Z",
     "start_time": "2022-12-20T23:17:05.639876Z"
    },
    "execution": {
     "iopub.execute_input": "2022-12-21T15:48:44.314104Z",
     "iopub.status.busy": "2022-12-21T15:48:44.313860Z",
     "iopub.status.idle": "2022-12-21T15:48:44.337090Z",
     "shell.execute_reply": "2022-12-21T15:48:44.336431Z"
    },
    "papermill": {
     "duration": 0.033691,
     "end_time": "2022-12-21T15:48:44.338573",
     "exception": false,
     "start_time": "2022-12-21T15:48:44.304882",
     "status": "completed"
    },
    "tags": []
   },
   "outputs": [],
   "source": [
    "# Recency (Recência) - Quantidade de dias desde a última compra\n",
    "df2_purchases['recency_days'] = df2_purchases['invoice_date'].max() - df2_purchases['invoice_date']\n",
    "df_recency = df2_purchases[['customer_id', 'recency_days']].groupby('customer_id').min().reset_index()\n",
    "df_recency['recency_days'] = df_recency['recency_days'].dt.days     # extrai o dia como int64\n",
    "\n",
    "# join\n",
    "df_ref = df_ref.merge(df_recency, how='left', on='customer_id')\n"
   ]
  },
  {
   "cell_type": "markdown",
   "id": "57e11d58",
   "metadata": {
    "papermill": {
     "duration": 0.00822,
     "end_time": "2022-12-21T15:48:44.355316",
     "exception": false,
     "start_time": "2022-12-21T15:48:44.347096",
     "status": "completed"
    },
    "tags": []
   },
   "source": [
    "### 3.1.3 Quantidade de compras realizadas"
   ]
  },
  {
   "cell_type": "code",
   "execution_count": 17,
   "id": "e42ec321",
   "metadata": {
    "ExecuteTime": {
     "end_time": "2022-12-20T23:17:05.731532Z",
     "start_time": "2022-12-20T23:17:05.669257Z"
    },
    "execution": {
     "iopub.execute_input": "2022-12-21T15:48:44.372966Z",
     "iopub.status.busy": "2022-12-21T15:48:44.372684Z",
     "iopub.status.idle": "2022-12-21T15:48:44.414824Z",
     "shell.execute_reply": "2022-12-21T15:48:44.414144Z"
    },
    "papermill": {
     "duration": 0.052952,
     "end_time": "2022-12-21T15:48:44.416432",
     "exception": false,
     "start_time": "2022-12-21T15:48:44.363480",
     "status": "completed"
    },
    "tags": []
   },
   "outputs": [],
   "source": [
    "# Frequency\n",
    "df_aux = df2_purchases[['customer_id', 'invoice_no']].drop_duplicates().groupby('customer_id').count().reset_index()\n",
    "df_aux.columns = ['customer_id', 'quant_invoices']\n",
    "\n",
    "# Join\n",
    "df_ref = df_ref.merge(df_aux, how='left', on='customer_id')"
   ]
  },
  {
   "cell_type": "markdown",
   "id": "e8bc5f4b",
   "metadata": {
    "papermill": {
     "duration": 0.008155,
     "end_time": "2022-12-21T15:48:44.433122",
     "exception": false,
     "start_time": "2022-12-21T15:48:44.424967",
     "status": "completed"
    },
    "tags": []
   },
   "source": [
    "### 3.1.4 Quantidade de produtos comprados"
   ]
  },
  {
   "cell_type": "code",
   "execution_count": 18,
   "id": "1f3c817e",
   "metadata": {
    "ExecuteTime": {
     "end_time": "2022-12-20T23:17:05.750734Z",
     "start_time": "2022-12-20T23:17:05.733964Z"
    },
    "execution": {
     "iopub.execute_input": "2022-12-21T15:48:44.450607Z",
     "iopub.status.busy": "2022-12-21T15:48:44.450361Z",
     "iopub.status.idle": "2022-12-21T15:48:44.466899Z",
     "shell.execute_reply": "2022-12-21T15:48:44.466334Z"
    },
    "papermill": {
     "duration": 0.026975,
     "end_time": "2022-12-21T15:48:44.468317",
     "exception": false,
     "start_time": "2022-12-21T15:48:44.441342",
     "status": "completed"
    },
    "tags": []
   },
   "outputs": [],
   "source": [
    "df_aux = df2_purchases[['customer_id', 'quantity']].groupby('customer_id').sum().reset_index()\n",
    "df_aux.columns = ['customer_id', 'quant_items']\n",
    "\n",
    "# Join\n",
    "df_ref = df_ref.merge(df_aux, how='left', on='customer_id')"
   ]
  },
  {
   "cell_type": "markdown",
   "id": "a4c8823f",
   "metadata": {
    "papermill": {
     "duration": 0.008169,
     "end_time": "2022-12-21T15:48:44.485091",
     "exception": false,
     "start_time": "2022-12-21T15:48:44.476922",
     "status": "completed"
    },
    "tags": []
   },
   "source": [
    "### 3.1.5 Quantidade de produtos únicos comprados"
   ]
  },
  {
   "cell_type": "code",
   "execution_count": 19,
   "id": "3b309f5a",
   "metadata": {
    "ExecuteTime": {
     "end_time": "2022-12-20T23:17:05.811309Z",
     "start_time": "2022-12-20T23:17:05.752647Z"
    },
    "execution": {
     "iopub.execute_input": "2022-12-21T15:48:44.502530Z",
     "iopub.status.busy": "2022-12-21T15:48:44.502258Z",
     "iopub.status.idle": "2022-12-21T15:48:44.557610Z",
     "shell.execute_reply": "2022-12-21T15:48:44.556863Z"
    },
    "papermill": {
     "duration": 0.065871,
     "end_time": "2022-12-21T15:48:44.559140",
     "exception": false,
     "start_time": "2022-12-21T15:48:44.493269",
     "status": "completed"
    },
    "tags": []
   },
   "outputs": [],
   "source": [
    "df_aux = df2_purchases[['customer_id', 'stock_code']].groupby('customer_id').count().reset_index()\n",
    "df_aux.columns = ['customer_id', 'quant_prod_uniq']\n",
    "\n",
    "# Join\n",
    "df_ref = df_ref.merge(df_aux, how='left', on='customer_id')"
   ]
  },
  {
   "cell_type": "markdown",
   "id": "6443388f",
   "metadata": {
    "papermill": {
     "duration": 0.008102,
     "end_time": "2022-12-21T15:48:44.575727",
     "exception": false,
     "start_time": "2022-12-21T15:48:44.567625",
     "status": "completed"
    },
    "tags": []
   },
   "source": [
    "### 3.1.6 Ticket Médio"
   ]
  },
  {
   "cell_type": "code",
   "execution_count": 20,
   "id": "1b4bb9af",
   "metadata": {
    "ExecuteTime": {
     "end_time": "2022-12-20T23:17:05.839674Z",
     "start_time": "2022-12-20T23:17:05.814708Z"
    },
    "execution": {
     "iopub.execute_input": "2022-12-21T15:48:44.594310Z",
     "iopub.status.busy": "2022-12-21T15:48:44.594065Z",
     "iopub.status.idle": "2022-12-21T15:48:44.615202Z",
     "shell.execute_reply": "2022-12-21T15:48:44.614569Z"
    },
    "papermill": {
     "duration": 0.032243,
     "end_time": "2022-12-21T15:48:44.617078",
     "exception": false,
     "start_time": "2022-12-21T15:48:44.584835",
     "status": "completed"
    },
    "tags": []
   },
   "outputs": [],
   "source": [
    "# AVG Ticket\n",
    "df2['monetary'] = df2['unit_price']*df2['quantity']\n",
    "df_avg_ticket = df2[['customer_id', 'monetary']].groupby('customer_id').mean().reset_index().rename(columns={'monetary': 'avg_ticket'})\n",
    "\n",
    "# Join\n",
    "df_ref = df_ref.merge(df_avg_ticket, how='left', on='customer_id')"
   ]
  },
  {
   "cell_type": "markdown",
   "id": "56fcf906",
   "metadata": {
    "papermill": {
     "duration": 0.008257,
     "end_time": "2022-12-21T15:48:44.633835",
     "exception": false,
     "start_time": "2022-12-21T15:48:44.625578",
     "status": "completed"
    },
    "tags": []
   },
   "source": [
    "### 3.1.7 Recência média entre as compras"
   ]
  },
  {
   "cell_type": "code",
   "execution_count": 21,
   "id": "e5e8c4fa",
   "metadata": {
    "ExecuteTime": {
     "end_time": "2022-12-20T23:17:06.111637Z",
     "start_time": "2022-12-20T23:17:05.841038Z"
    },
    "execution": {
     "iopub.execute_input": "2022-12-21T15:48:44.651278Z",
     "iopub.status.busy": "2022-12-21T15:48:44.651032Z",
     "iopub.status.idle": "2022-12-21T15:48:44.922643Z",
     "shell.execute_reply": "2022-12-21T15:48:44.922021Z"
    },
    "papermill": {
     "duration": 0.282496,
     "end_time": "2022-12-21T15:48:44.924472",
     "exception": false,
     "start_time": "2022-12-21T15:48:44.641976",
     "status": "completed"
    },
    "scrolled": true,
    "tags": []
   },
   "outputs": [],
   "source": [
    "df_aux = df2_purchases[['customer_id', 'invoice_date']].drop_duplicates().sort_values(['customer_id', 'invoice_date'], ascending=[False, False])\n",
    "\n",
    "df_aux['next_customer'] = df_aux['customer_id'].shift()\n",
    "df_aux['next_date'] = df_aux['invoice_date'].shift()\n",
    "\n",
    "data_max = df_aux['invoice_date'].max()\n",
    "data_min = df_aux['invoice_date'].min()\n",
    "\n",
    "df_aux['avg_recency_day'] = df_aux.apply(lambda x: (x['next_date'] - x['invoice_date']).days if x['customer_id'] == x['next_customer'] \n",
    "                                         else (data_max - data_min).days, axis=1)\n",
    "\n",
    "df_aux = df_aux.drop(['invoice_date', 'next_customer', 'next_date'], axis=1)\n",
    "\n",
    "df_avg_recency = df_aux[['customer_id', 'avg_recency_day']].groupby('customer_id').mean().reset_index()\n",
    "\n",
    "# Join\n",
    "df_ref = df_ref.merge(df_avg_recency, how='left', on='customer_id')"
   ]
  },
  {
   "cell_type": "markdown",
   "id": "0feba801",
   "metadata": {
    "papermill": {
     "duration": 0.00823,
     "end_time": "2022-12-21T15:48:44.941298",
     "exception": false,
     "start_time": "2022-12-21T15:48:44.933068",
     "status": "completed"
    },
    "tags": []
   },
   "source": [
    "### 3.1.8 Frequência de Compras"
   ]
  },
  {
   "cell_type": "code",
   "execution_count": 22,
   "id": "8e61a820",
   "metadata": {
    "ExecuteTime": {
     "end_time": "2022-12-20T23:17:06.900614Z",
     "start_time": "2022-12-20T23:17:06.115026Z"
    },
    "execution": {
     "iopub.execute_input": "2022-12-21T15:48:44.958922Z",
     "iopub.status.busy": "2022-12-21T15:48:44.958657Z",
     "iopub.status.idle": "2022-12-21T15:48:45.717399Z",
     "shell.execute_reply": "2022-12-21T15:48:45.716729Z"
    },
    "papermill": {
     "duration": 0.769482,
     "end_time": "2022-12-21T15:48:45.719023",
     "exception": false,
     "start_time": "2022-12-21T15:48:44.949541",
     "status": "completed"
    },
    "tags": []
   },
   "outputs": [],
   "source": [
    "df_aux = (df2_purchases[['customer_id', 'invoice_no', 'invoice_date']].drop_duplicates().groupby('customer_id')\n",
    "                                                                              .agg(max_ = ('invoice_date', 'max'),\n",
    "                                                                                   min_ = ('invoice_date', 'min'),\n",
    "                                                                                   days_= ('invoice_date', lambda x: (x.max() - x.min()).days),\n",
    "                                                                                   buy_ = ('invoice_no', 'count'))).reset_index()\n",
    "\n",
    "df_aux['freq_purchases'] = df_aux.apply(lambda x: (x['buy_'] / x['days_']) if x['days_'] !=  0 else 0, axis=1)\n",
    "\n",
    "df_freq_pur = df_aux[['customer_id', 'freq_purchases']]\n",
    "\n",
    "\n",
    "# Join\n",
    "df_ref = df_ref.merge(df_freq_pur, how='left', on='customer_id')"
   ]
  },
  {
   "cell_type": "markdown",
   "id": "bef26336",
   "metadata": {
    "papermill": {
     "duration": 0.008167,
     "end_time": "2022-12-21T15:48:45.735794",
     "exception": false,
     "start_time": "2022-12-21T15:48:45.727627",
     "status": "completed"
    },
    "tags": []
   },
   "source": [
    "### 3.1.9 Número de Retornos"
   ]
  },
  {
   "cell_type": "code",
   "execution_count": 23,
   "id": "d7ce7780",
   "metadata": {
    "ExecuteTime": {
     "end_time": "2022-12-20T23:17:06.912785Z",
     "start_time": "2022-12-20T23:17:06.902161Z"
    },
    "execution": {
     "iopub.execute_input": "2022-12-21T15:48:45.753513Z",
     "iopub.status.busy": "2022-12-21T15:48:45.753265Z",
     "iopub.status.idle": "2022-12-21T15:48:45.763684Z",
     "shell.execute_reply": "2022-12-21T15:48:45.763054Z"
    },
    "papermill": {
     "duration": 0.020998,
     "end_time": "2022-12-21T15:48:45.765140",
     "exception": false,
     "start_time": "2022-12-21T15:48:45.744142",
     "status": "completed"
    },
    "tags": []
   },
   "outputs": [],
   "source": [
    "df_returns = df2_returns[['customer_id', 'quantity']].groupby('customer_id').sum().reset_index().rename(columns={'quantity':'quant_returns'})\n",
    "\n",
    "df_returns['quant_returns'] = df_returns['quant_returns'] * -1\n",
    "\n",
    "# Join\n",
    "df_ref = df_ref.merge(df_returns, how='left', on='customer_id')\n",
    "\n",
    "# Fillna\n",
    "df_ref['quant_returns'] = df_ref['quant_returns'].fillna(0)"
   ]
  },
  {
   "cell_type": "markdown",
   "id": "a1ae0dc6",
   "metadata": {
    "papermill": {
     "duration": 0.008436,
     "end_time": "2022-12-21T15:48:45.782745",
     "exception": false,
     "start_time": "2022-12-21T15:48:45.774309",
     "status": "completed"
    },
    "tags": []
   },
   "source": [
    "### 3.1.10 Média da quantidade de produtos por compra"
   ]
  },
  {
   "cell_type": "code",
   "execution_count": 24,
   "id": "afced25d",
   "metadata": {
    "ExecuteTime": {
     "end_time": "2022-12-20T23:17:06.983863Z",
     "start_time": "2022-12-20T23:17:06.914450Z"
    },
    "execution": {
     "iopub.execute_input": "2022-12-21T15:48:45.800654Z",
     "iopub.status.busy": "2022-12-21T15:48:45.800390Z",
     "iopub.status.idle": "2022-12-21T15:48:45.853227Z",
     "shell.execute_reply": "2022-12-21T15:48:45.852560Z"
    },
    "papermill": {
     "duration": 0.063478,
     "end_time": "2022-12-21T15:48:45.854859",
     "exception": false,
     "start_time": "2022-12-21T15:48:45.791381",
     "status": "completed"
    },
    "tags": []
   },
   "outputs": [],
   "source": [
    "df_aux = (df2_purchases[['customer_id', 'invoice_no', 'quantity']].groupby('customer_id')\n",
    "                                                                  .agg(n_purchases = ('invoice_no', 'nunique'),\n",
    "                                                                       n_product = ('quantity', 'sum'))\n",
    "                                                                  .reset_index())\n",
    "\n",
    "df_aux['avg_basket_size'] = df_aux['n_product'] / df_aux['n_purchases']\n",
    "\n",
    "df_avg_basket = df_aux[['customer_id', 'avg_basket_size']]\n",
    "\n",
    "\n",
    "# Join\n",
    "df_ref = df_ref.merge(df_avg_basket, how='left', on='customer_id')"
   ]
  },
  {
   "cell_type": "markdown",
   "id": "7e59eafa",
   "metadata": {
    "ExecuteTime": {
     "end_time": "2022-10-16T15:25:02.820917Z",
     "start_time": "2022-10-16T15:25:02.802280Z"
    },
    "papermill": {
     "duration": 0.00844,
     "end_time": "2022-12-21T15:48:45.872212",
     "exception": false,
     "start_time": "2022-12-21T15:48:45.863772",
     "status": "completed"
    },
    "tags": []
   },
   "source": [
    "### 3.1.11 Média da quantidade de produtos únicos por compra"
   ]
  },
  {
   "cell_type": "code",
   "execution_count": 25,
   "id": "e80c96ac",
   "metadata": {
    "ExecuteTime": {
     "end_time": "2022-12-20T23:17:07.152786Z",
     "start_time": "2022-12-20T23:17:06.985740Z"
    },
    "execution": {
     "iopub.execute_input": "2022-12-21T15:48:45.890202Z",
     "iopub.status.busy": "2022-12-21T15:48:45.889961Z",
     "iopub.status.idle": "2022-12-21T15:48:46.026868Z",
     "shell.execute_reply": "2022-12-21T15:48:46.026214Z"
    },
    "papermill": {
     "duration": 0.147821,
     "end_time": "2022-12-21T15:48:46.028447",
     "exception": false,
     "start_time": "2022-12-21T15:48:45.880626",
     "status": "completed"
    },
    "scrolled": true,
    "tags": []
   },
   "outputs": [],
   "source": [
    "df_aux = (df2_purchases[['customer_id', 'invoice_no', 'stock_code']].groupby('customer_id')\n",
    "                                                         .agg(n_purchases = ('invoice_no', 'nunique'),\n",
    "                                                             n_product = ('stock_code', 'nunique'))\n",
    "                                                         .reset_index())\n",
    "\n",
    "\n",
    "df_aux['avg_uniq_basket_size'] = df_aux['n_product'] / df_aux['n_purchases']\n",
    "\n",
    "df_avg_uniq_basket = df_aux[['customer_id', 'avg_uniq_basket_size']]\n",
    "\n",
    "# Join\n",
    "df_ref = df_ref.merge(df_avg_uniq_basket, how='left', on='customer_id')"
   ]
  },
  {
   "cell_type": "markdown",
   "id": "18b57218",
   "metadata": {
    "papermill": {
     "duration": 0.008601,
     "end_time": "2022-12-21T15:48:46.045706",
     "exception": false,
     "start_time": "2022-12-21T15:48:46.037105",
     "status": "completed"
    },
    "tags": []
   },
   "source": [
    "# 4 Análise Exploratória dos Dados"
   ]
  },
  {
   "cell_type": "code",
   "execution_count": 26,
   "id": "581a866b",
   "metadata": {
    "ExecuteTime": {
     "end_time": "2022-12-20T23:17:07.159294Z",
     "start_time": "2022-12-20T23:17:07.154423Z"
    },
    "execution": {
     "iopub.execute_input": "2022-12-21T15:48:46.064601Z",
     "iopub.status.busy": "2022-12-21T15:48:46.064221Z",
     "iopub.status.idle": "2022-12-21T15:48:46.069911Z",
     "shell.execute_reply": "2022-12-21T15:48:46.069260Z"
    },
    "papermill": {
     "duration": 0.016952,
     "end_time": "2022-12-21T15:48:46.071309",
     "exception": false,
     "start_time": "2022-12-21T15:48:46.054357",
     "status": "completed"
    },
    "tags": []
   },
   "outputs": [],
   "source": [
    "df4 = df_ref.dropna().reset_index(drop=True).copy()"
   ]
  },
  {
   "cell_type": "markdown",
   "id": "bc01ca1d",
   "metadata": {
    "papermill": {
     "duration": 0.008407,
     "end_time": "2022-12-21T15:48:46.088578",
     "exception": false,
     "start_time": "2022-12-21T15:48:46.080171",
     "status": "completed"
    },
    "tags": []
   },
   "source": [
    "## 4.3 Estudo dos Espaços"
   ]
  },
  {
   "cell_type": "code",
   "execution_count": 27,
   "id": "7b08904f",
   "metadata": {
    "ExecuteTime": {
     "end_time": "2022-12-20T23:17:07.169714Z",
     "start_time": "2022-12-20T23:17:07.165456Z"
    },
    "execution": {
     "iopub.execute_input": "2022-12-21T15:48:46.106364Z",
     "iopub.status.busy": "2022-12-21T15:48:46.106119Z",
     "iopub.status.idle": "2022-12-21T15:48:46.110236Z",
     "shell.execute_reply": "2022-12-21T15:48:46.109775Z"
    },
    "papermill": {
     "duration": 0.01456,
     "end_time": "2022-12-21T15:48:46.111492",
     "exception": false,
     "start_time": "2022-12-21T15:48:46.096932",
     "status": "completed"
    },
    "tags": []
   },
   "outputs": [],
   "source": [
    "# drop de um cliente\n",
    "df4 = df4[df4['customer_id'] != 16446].reset_index(drop=True)\n"
   ]
  },
  {
   "cell_type": "markdown",
   "id": "a86871d4",
   "metadata": {
    "papermill": {
     "duration": 0.008407,
     "end_time": "2022-12-21T15:48:46.128582",
     "exception": false,
     "start_time": "2022-12-21T15:48:46.120175",
     "status": "completed"
    },
    "tags": []
   },
   "source": [
    "### 4.3.4 Embedding baseado em árvores"
   ]
  },
  {
   "cell_type": "code",
   "execution_count": 28,
   "id": "e7c539f8",
   "metadata": {
    "ExecuteTime": {
     "end_time": "2022-12-20T23:17:07.174610Z",
     "start_time": "2022-12-20T23:17:07.171265Z"
    },
    "execution": {
     "iopub.execute_input": "2022-12-21T15:48:46.146384Z",
     "iopub.status.busy": "2022-12-21T15:48:46.146143Z",
     "iopub.status.idle": "2022-12-21T15:48:46.150474Z",
     "shell.execute_reply": "2022-12-21T15:48:46.149942Z"
    },
    "papermill": {
     "duration": 0.014803,
     "end_time": "2022-12-21T15:48:46.151721",
     "exception": false,
     "start_time": "2022-12-21T15:48:46.136918",
     "status": "completed"
    },
    "tags": []
   },
   "outputs": [],
   "source": [
    "X = df4.drop(['customer_id', 'monetary_purchase'], axis=1).copy()\n",
    "y = df4['monetary_purchase'].copy()"
   ]
  },
  {
   "cell_type": "code",
   "execution_count": 29,
   "id": "bda91ef2",
   "metadata": {
    "ExecuteTime": {
     "end_time": "2022-12-20T23:17:55.497289Z",
     "start_time": "2022-12-20T23:17:07.176373Z"
    },
    "execution": {
     "iopub.execute_input": "2022-12-21T15:48:46.170325Z",
     "iopub.status.busy": "2022-12-21T15:48:46.170097Z",
     "iopub.status.idle": "2022-12-21T15:49:37.134750Z",
     "shell.execute_reply": "2022-12-21T15:49:37.134102Z"
    },
    "papermill": {
     "duration": 50.975597,
     "end_time": "2022-12-21T15:49:37.136278",
     "exception": false,
     "start_time": "2022-12-21T15:48:46.160681",
     "status": "completed"
    },
    "tags": []
   },
   "outputs": [],
   "source": [
    "# model defition\n",
    "rf_model = RandomForestRegressor(n_estimators=2000,  random_state=42)\n",
    "\n",
    "# fit \n",
    "rf_model.fit(X, y)\n",
    "\n",
    "# Leaf\n",
    "leaf = rf_model.apply(X)  # retorna os índices das folhas\n",
    "\n",
    "# dataframe leaf\n",
    "df_leaf = pd.DataFrame(leaf)"
   ]
  },
  {
   "cell_type": "code",
   "execution_count": 30,
   "id": "84a47763",
   "metadata": {
    "ExecuteTime": {
     "end_time": "2022-12-20T23:18:18.102812Z",
     "start_time": "2022-12-20T23:17:55.499241Z"
    },
    "execution": {
     "iopub.execute_input": "2022-12-21T15:49:37.154752Z",
     "iopub.status.busy": "2022-12-21T15:49:37.154531Z",
     "iopub.status.idle": "2022-12-21T15:49:57.413662Z",
     "shell.execute_reply": "2022-12-21T15:49:57.412999Z"
    },
    "papermill": {
     "duration": 20.269965,
     "end_time": "2022-12-21T15:49:57.415187",
     "exception": false,
     "start_time": "2022-12-21T15:49:37.145222",
     "status": "completed"
    },
    "tags": []
   },
   "outputs": [],
   "source": [
    "reducer = umap.UMAP(random_state=42)\n",
    "embedding = reducer.fit_transform(df_leaf)\n",
    "\n",
    "# embedding\n",
    "df_tree = pd.DataFrame()\n",
    "df_tree['embedding_x'] = embedding[: , 0]\n",
    "df_tree['embedding_y'] = embedding[: , 1]"
   ]
  },
  {
   "cell_type": "markdown",
   "id": "3697e792",
   "metadata": {
    "papermill": {
     "duration": 0.008803,
     "end_time": "2022-12-21T15:49:57.433474",
     "exception": false,
     "start_time": "2022-12-21T15:49:57.424671",
     "status": "completed"
    },
    "tags": []
   },
   "source": [
    "# 5 Preparação dos Dados"
   ]
  },
  {
   "cell_type": "code",
   "execution_count": 31,
   "id": "dc0fd42b",
   "metadata": {
    "ExecuteTime": {
     "end_time": "2022-12-20T23:18:18.111858Z",
     "start_time": "2022-12-20T23:18:18.106755Z"
    },
    "execution": {
     "iopub.execute_input": "2022-12-21T15:49:57.452849Z",
     "iopub.status.busy": "2022-12-21T15:49:57.452500Z",
     "iopub.status.idle": "2022-12-21T15:49:57.456503Z",
     "shell.execute_reply": "2022-12-21T15:49:57.455846Z"
    },
    "papermill": {
     "duration": 0.015267,
     "end_time": "2022-12-21T15:49:57.457981",
     "exception": false,
     "start_time": "2022-12-21T15:49:57.442714",
     "status": "completed"
    },
    "tags": []
   },
   "outputs": [],
   "source": [
    "df5 = df_tree.copy()\n",
    "# df5.to_csv('df_tree_embedding.csv', index=False)"
   ]
  },
  {
   "cell_type": "markdown",
   "id": "ee4c95cb",
   "metadata": {
    "papermill": {
     "duration": 0.00966,
     "end_time": "2022-12-21T15:49:57.477065",
     "exception": false,
     "start_time": "2022-12-21T15:49:57.467405",
     "status": "completed"
    },
    "tags": []
   },
   "source": [
    "# 6 Seleção dos Atributos"
   ]
  },
  {
   "cell_type": "code",
   "execution_count": 32,
   "id": "2176118e",
   "metadata": {
    "ExecuteTime": {
     "end_time": "2022-12-20T23:18:18.117689Z",
     "start_time": "2022-12-20T23:18:18.114620Z"
    },
    "execution": {
     "iopub.execute_input": "2022-12-21T15:49:57.497403Z",
     "iopub.status.busy": "2022-12-21T15:49:57.497154Z",
     "iopub.status.idle": "2022-12-21T15:49:57.500651Z",
     "shell.execute_reply": "2022-12-21T15:49:57.500097Z"
    },
    "papermill": {
     "duration": 0.016256,
     "end_time": "2022-12-21T15:49:57.502995",
     "exception": false,
     "start_time": "2022-12-21T15:49:57.486739",
     "status": "completed"
    },
    "tags": []
   },
   "outputs": [],
   "source": [
    "df6 = df5.copy()"
   ]
  },
  {
   "cell_type": "markdown",
   "id": "b2ea6fb7",
   "metadata": {
    "papermill": {
     "duration": 0.009186,
     "end_time": "2022-12-21T15:49:57.521244",
     "exception": false,
     "start_time": "2022-12-21T15:49:57.512058",
     "status": "completed"
    },
    "tags": []
   },
   "source": [
    "Todos os atributos foram selecionados."
   ]
  },
  {
   "cell_type": "code",
   "execution_count": 33,
   "id": "d7974eef",
   "metadata": {
    "ExecuteTime": {
     "end_time": "2022-12-20T23:18:18.123377Z",
     "start_time": "2022-12-20T23:18:18.120348Z"
    },
    "execution": {
     "iopub.execute_input": "2022-12-21T15:49:57.541764Z",
     "iopub.status.busy": "2022-12-21T15:49:57.540981Z",
     "iopub.status.idle": "2022-12-21T15:49:57.544432Z",
     "shell.execute_reply": "2022-12-21T15:49:57.543868Z"
    },
    "papermill": {
     "duration": 0.015194,
     "end_time": "2022-12-21T15:49:57.545698",
     "exception": false,
     "start_time": "2022-12-21T15:49:57.530504",
     "status": "completed"
    },
    "tags": []
   },
   "outputs": [],
   "source": [
    "df7 = df6.copy()"
   ]
  },
  {
   "cell_type": "markdown",
   "id": "f182e675",
   "metadata": {
    "papermill": {
     "duration": 0.009239,
     "end_time": "2022-12-21T15:49:57.564885",
     "exception": false,
     "start_time": "2022-12-21T15:49:57.555646",
     "status": "completed"
    },
    "tags": []
   },
   "source": [
    "# 8 Treinamento do Modelo"
   ]
  },
  {
   "cell_type": "code",
   "execution_count": 34,
   "id": "d9c6958e",
   "metadata": {
    "ExecuteTime": {
     "end_time": "2022-12-20T23:18:18.128660Z",
     "start_time": "2022-12-20T23:18:18.125813Z"
    },
    "execution": {
     "iopub.execute_input": "2022-12-21T15:49:57.584244Z",
     "iopub.status.busy": "2022-12-21T15:49:57.583993Z",
     "iopub.status.idle": "2022-12-21T15:49:57.588170Z",
     "shell.execute_reply": "2022-12-21T15:49:57.587016Z"
    },
    "papermill": {
     "duration": 0.015694,
     "end_time": "2022-12-21T15:49:57.589790",
     "exception": false,
     "start_time": "2022-12-21T15:49:57.574096",
     "status": "completed"
    },
    "tags": []
   },
   "outputs": [],
   "source": [
    "df8 = df7.copy()\n",
    "X = df8.copy()"
   ]
  },
  {
   "cell_type": "markdown",
   "id": "e506621a",
   "metadata": {
    "papermill": {
     "duration": 0.009918,
     "end_time": "2022-12-21T15:49:57.608595",
     "exception": false,
     "start_time": "2022-12-21T15:49:57.598677",
     "status": "completed"
    },
    "tags": []
   },
   "source": [
    "# 9 Análise dos Clusters"
   ]
  },
  {
   "cell_type": "code",
   "execution_count": 35,
   "id": "69394078",
   "metadata": {
    "ExecuteTime": {
     "end_time": "2022-12-20T23:28:35.434236Z",
     "start_time": "2022-12-20T23:28:35.056054Z"
    },
    "execution": {
     "iopub.execute_input": "2022-12-21T15:49:57.628966Z",
     "iopub.status.busy": "2022-12-21T15:49:57.628732Z",
     "iopub.status.idle": "2022-12-21T15:49:58.027204Z",
     "shell.execute_reply": "2022-12-21T15:49:58.026586Z"
    },
    "papermill": {
     "duration": 0.41129,
     "end_time": "2022-12-21T15:49:58.028695",
     "exception": false,
     "start_time": "2022-12-21T15:49:57.617405",
     "status": "completed"
    },
    "tags": []
   },
   "outputs": [],
   "source": [
    "df9 = df8.copy()\n",
    "\n",
    "# load model\n",
    "# model = pickle.load(open('/home/jonas/Documentos/repos/insiders_clustering/model/hc_model.pkl', 'rb'))\n",
    "k = 10\n",
    "model = AgglomerativeClustering(n_clusters=k)\n",
    "\n",
    "labels  = model.fit(X)\n",
    "\n",
    "df9['clusters'] = model.labels_"
   ]
  },
  {
   "cell_type": "markdown",
   "id": "f485b0e6",
   "metadata": {
    "papermill": {
     "duration": 0.008863,
     "end_time": "2022-12-21T15:49:58.047429",
     "exception": false,
     "start_time": "2022-12-21T15:49:58.038566",
     "status": "completed"
    },
    "tags": []
   },
   "source": [
    "## 9.1 Inspeção por Visualização"
   ]
  },
  {
   "cell_type": "markdown",
   "id": "ed26ad6f",
   "metadata": {
    "papermill": {
     "duration": 0.009714,
     "end_time": "2022-12-21T15:49:58.066833",
     "exception": false,
     "start_time": "2022-12-21T15:49:58.057119",
     "status": "completed"
    },
    "tags": []
   },
   "source": [
    "Após analisar diversas possibilidades, optei por utilizar o modelo de **HC** com **10 clusters**."
   ]
  },
  {
   "cell_type": "markdown",
   "id": "dfaf6e05",
   "metadata": {
    "papermill": {
     "duration": 0.009446,
     "end_time": "2022-12-21T15:49:58.086732",
     "exception": false,
     "start_time": "2022-12-21T15:49:58.077286",
     "status": "completed"
    },
    "tags": []
   },
   "source": [
    "## 9.2 Perfil dos Clusters"
   ]
  },
  {
   "cell_type": "code",
   "execution_count": 36,
   "id": "1ea6eb0d",
   "metadata": {
    "ExecuteTime": {
     "end_time": "2022-12-20T23:18:18.534904Z",
     "start_time": "2022-12-20T23:18:18.531316Z"
    },
    "execution": {
     "iopub.execute_input": "2022-12-21T15:49:58.107544Z",
     "iopub.status.busy": "2022-12-21T15:49:58.107296Z",
     "iopub.status.idle": "2022-12-21T15:49:58.111082Z",
     "shell.execute_reply": "2022-12-21T15:49:58.110622Z"
    },
    "papermill": {
     "duration": 0.016305,
     "end_time": "2022-12-21T15:49:58.112397",
     "exception": false,
     "start_time": "2022-12-21T15:49:58.096092",
     "status": "completed"
    },
    "tags": []
   },
   "outputs": [],
   "source": [
    "df92 = df4.copy()\n",
    "df92['clusters'] = df9['clusters']"
   ]
  },
  {
   "cell_type": "code",
   "execution_count": 37,
   "id": "75c51555",
   "metadata": {
    "ExecuteTime": {
     "end_time": "2022-12-20T23:18:18.543012Z",
     "start_time": "2022-12-20T23:18:18.536803Z"
    },
    "execution": {
     "iopub.execute_input": "2022-12-21T15:49:58.132196Z",
     "iopub.status.busy": "2022-12-21T15:49:58.131925Z",
     "iopub.status.idle": "2022-12-21T15:49:58.138775Z",
     "shell.execute_reply": "2022-12-21T15:49:58.138191Z"
    },
    "papermill": {
     "duration": 0.018223,
     "end_time": "2022-12-21T15:49:58.140432",
     "exception": false,
     "start_time": "2022-12-21T15:49:58.122209",
     "status": "completed"
    },
    "tags": []
   },
   "outputs": [],
   "source": [
    "# trocando os tipos das variáveis\n",
    "df92['recency_days'] = df92['recency_days'].astype(int)\n",
    "df92['quant_invoices'] = df92['quant_invoices'].astype(int)\n",
    "df92['quant_items'] = df92['quant_items'].astype(int)\n",
    "df92['quant_prod_uniq'] = df92['quant_prod_uniq'].astype(int)\n",
    "df92['quant_returns'] = df92['quant_returns'].astype(int)"
   ]
  },
  {
   "cell_type": "code",
   "execution_count": 38,
   "id": "70f3427f",
   "metadata": {
    "ExecuteTime": {
     "end_time": "2022-12-20T23:18:18.565255Z",
     "start_time": "2022-12-20T23:18:18.544985Z"
    },
    "execution": {
     "iopub.execute_input": "2022-12-21T15:49:58.160308Z",
     "iopub.status.busy": "2022-12-21T15:49:58.160070Z",
     "iopub.status.idle": "2022-12-21T15:49:58.175577Z",
     "shell.execute_reply": "2022-12-21T15:49:58.174804Z"
    },
    "papermill": {
     "duration": 0.027769,
     "end_time": "2022-12-21T15:49:58.177373",
     "exception": false,
     "start_time": "2022-12-21T15:49:58.149604",
     "status": "completed"
    },
    "scrolled": false,
    "tags": []
   },
   "outputs": [
    {
     "data": {
      "text/html": [
       "<div>\n",
       "<style scoped>\n",
       "    .dataframe tbody tr th:only-of-type {\n",
       "        vertical-align: middle;\n",
       "    }\n",
       "\n",
       "    .dataframe tbody tr th {\n",
       "        vertical-align: top;\n",
       "    }\n",
       "\n",
       "    .dataframe thead th {\n",
       "        text-align: right;\n",
       "    }\n",
       "</style>\n",
       "<table border=\"1\" class=\"dataframe\">\n",
       "  <thead>\n",
       "    <tr style=\"text-align: right;\">\n",
       "      <th></th>\n",
       "      <th>customer_id</th>\n",
       "      <th>monetary_purchase</th>\n",
       "      <th>monetary_returns</th>\n",
       "      <th>recency_days</th>\n",
       "      <th>quant_invoices</th>\n",
       "      <th>quant_items</th>\n",
       "      <th>quant_prod_uniq</th>\n",
       "      <th>avg_ticket</th>\n",
       "      <th>avg_recency_day</th>\n",
       "      <th>freq_purchases</th>\n",
       "      <th>quant_returns</th>\n",
       "      <th>avg_basket_size</th>\n",
       "      <th>avg_uniq_basket_size</th>\n",
       "      <th>clusters</th>\n",
       "    </tr>\n",
       "  </thead>\n",
       "  <tbody>\n",
       "    <tr>\n",
       "      <th>0</th>\n",
       "      <td>17850</td>\n",
       "      <td>5391.21</td>\n",
       "      <td>-102.58</td>\n",
       "      <td>372</td>\n",
       "      <td>34</td>\n",
       "      <td>1733</td>\n",
       "      <td>297</td>\n",
       "      <td>16.950737</td>\n",
       "      <td>187.000000</td>\n",
       "      <td>34.000000</td>\n",
       "      <td>40</td>\n",
       "      <td>50.970588</td>\n",
       "      <td>0.617647</td>\n",
       "      <td>6</td>\n",
       "    </tr>\n",
       "    <tr>\n",
       "      <th>1</th>\n",
       "      <td>13047</td>\n",
       "      <td>3237.54</td>\n",
       "      <td>-158.44</td>\n",
       "      <td>31</td>\n",
       "      <td>10</td>\n",
       "      <td>1391</td>\n",
       "      <td>172</td>\n",
       "      <td>15.709694</td>\n",
       "      <td>89.375000</td>\n",
       "      <td>0.029240</td>\n",
       "      <td>36</td>\n",
       "      <td>139.100000</td>\n",
       "      <td>10.600000</td>\n",
       "      <td>6</td>\n",
       "    </tr>\n",
       "    <tr>\n",
       "      <th>2</th>\n",
       "      <td>12583</td>\n",
       "      <td>6705.38</td>\n",
       "      <td>-76.04</td>\n",
       "      <td>2</td>\n",
       "      <td>15</td>\n",
       "      <td>5028</td>\n",
       "      <td>232</td>\n",
       "      <td>28.209957</td>\n",
       "      <td>49.600000</td>\n",
       "      <td>0.040431</td>\n",
       "      <td>50</td>\n",
       "      <td>335.200000</td>\n",
       "      <td>7.600000</td>\n",
       "      <td>2</td>\n",
       "    </tr>\n",
       "    <tr>\n",
       "      <th>3</th>\n",
       "      <td>13748</td>\n",
       "      <td>948.25</td>\n",
       "      <td>0.00</td>\n",
       "      <td>95</td>\n",
       "      <td>5</td>\n",
       "      <td>439</td>\n",
       "      <td>28</td>\n",
       "      <td>33.866071</td>\n",
       "      <td>162.750000</td>\n",
       "      <td>0.017986</td>\n",
       "      <td>0</td>\n",
       "      <td>87.800000</td>\n",
       "      <td>4.800000</td>\n",
       "      <td>0</td>\n",
       "    </tr>\n",
       "    <tr>\n",
       "      <th>4</th>\n",
       "      <td>15100</td>\n",
       "      <td>876.00</td>\n",
       "      <td>-240.90</td>\n",
       "      <td>333</td>\n",
       "      <td>3</td>\n",
       "      <td>80</td>\n",
       "      <td>3</td>\n",
       "      <td>105.850000</td>\n",
       "      <td>137.666667</td>\n",
       "      <td>0.075000</td>\n",
       "      <td>22</td>\n",
       "      <td>26.666667</td>\n",
       "      <td>0.333333</td>\n",
       "      <td>5</td>\n",
       "    </tr>\n",
       "  </tbody>\n",
       "</table>\n",
       "</div>"
      ],
      "text/plain": [
       "   customer_id  monetary_purchase  monetary_returns  recency_days  \\\n",
       "0        17850            5391.21           -102.58           372   \n",
       "1        13047            3237.54           -158.44            31   \n",
       "2        12583            6705.38            -76.04             2   \n",
       "3        13748             948.25              0.00            95   \n",
       "4        15100             876.00           -240.90           333   \n",
       "\n",
       "   quant_invoices  quant_items  quant_prod_uniq  avg_ticket  avg_recency_day  \\\n",
       "0              34         1733              297   16.950737       187.000000   \n",
       "1              10         1391              172   15.709694        89.375000   \n",
       "2              15         5028              232   28.209957        49.600000   \n",
       "3               5          439               28   33.866071       162.750000   \n",
       "4               3           80                3  105.850000       137.666667   \n",
       "\n",
       "   freq_purchases  quant_returns  avg_basket_size  avg_uniq_basket_size  \\\n",
       "0       34.000000             40        50.970588              0.617647   \n",
       "1        0.029240             36       139.100000             10.600000   \n",
       "2        0.040431             50       335.200000              7.600000   \n",
       "3        0.017986              0        87.800000              4.800000   \n",
       "4        0.075000             22        26.666667              0.333333   \n",
       "\n",
       "   clusters  \n",
       "0         6  \n",
       "1         6  \n",
       "2         2  \n",
       "3         0  \n",
       "4         5  "
      ]
     },
     "execution_count": 38,
     "metadata": {},
     "output_type": "execute_result"
    }
   ],
   "source": [
    "df92.head()"
   ]
  },
  {
   "cell_type": "code",
   "execution_count": 39,
   "id": "72ebf014",
   "metadata": {
    "ExecuteTime": {
     "end_time": "2022-12-20T23:18:18.620186Z",
     "start_time": "2022-12-20T23:18:18.566711Z"
    },
    "execution": {
     "iopub.execute_input": "2022-12-21T15:49:58.198524Z",
     "iopub.status.busy": "2022-12-21T15:49:58.198300Z",
     "iopub.status.idle": "2022-12-21T15:49:58.239582Z",
     "shell.execute_reply": "2022-12-21T15:49:58.238845Z"
    },
    "papermill": {
     "duration": 0.053101,
     "end_time": "2022-12-21T15:49:58.241141",
     "exception": false,
     "start_time": "2022-12-21T15:49:58.188040",
     "status": "completed"
    },
    "tags": []
   },
   "outputs": [],
   "source": [
    "# Number of Clusters\n",
    "df_clusters = df92[['customer_id', 'clusters']].groupby('clusters').count().reset_index()\n",
    "df_clusters['customer_perc'] = 100*(df_clusters['customer_id'] / df_clusters['customer_id'].sum())\n",
    "\n",
    "# AVG Monetary\n",
    "df_avg_monetary_p = df92[['monetary_purchase', 'clusters']].groupby('clusters').mean().reset_index()\n",
    "df_clusters = df_clusters.merge(df_avg_monetary_p, on='clusters')\n",
    "\n",
    "# AVG Monetary_Returns\n",
    "df_avg_monetary_r = df92[['monetary_returns', 'clusters']].groupby('clusters').mean().reset_index()\n",
    "df_clusters = df_clusters.merge(df_avg_monetary_r, on='clusters')\n",
    "\n",
    "# AVG Recency_days\n",
    "df_avg_recency = df92[['recency_days', 'clusters']].groupby('clusters').mean().reset_index()\n",
    "df_clusters = df_clusters.merge(df_avg_recency, on='clusters')\n",
    "\n",
    "# AVG quant_invoices\n",
    "df_avg_invoices = df92[['quant_invoices', 'clusters']].groupby('clusters').mean().reset_index()\n",
    "df_clusters = df_clusters.merge(df_avg_invoices, on='clusters')\n",
    "\n",
    "# AVG quant_items\n",
    "df_avg_items = df92[['quant_items', 'clusters']].groupby('clusters').mean().reset_index()\n",
    "df_clusters = df_clusters.merge(df_avg_items, on='clusters')\n",
    "\n",
    "# AVG quant_prod_uniq\n",
    "df_avg_prod_uniq = df92[['quant_prod_uniq', 'clusters']].groupby('clusters').mean().reset_index()\n",
    "df_clusters = df_clusters.merge(df_avg_prod_uniq, on='clusters')\n",
    "\n",
    "# AVG avg_ticket\n",
    "df_avg_avg_ticket = df92[['avg_ticket', 'clusters']].groupby('clusters').mean().reset_index()\n",
    "df_clusters = df_clusters.merge(df_avg_avg_ticket, on='clusters')\n",
    "\n",
    "# AVG avg_recency_day\n",
    "\n",
    "# AVG Frequency\n",
    "df_avg_freq = df92[['freq_purchases', 'clusters']].groupby('clusters').mean().reset_index()\n",
    "df_clusters = df_clusters.merge(df_avg_freq, on='clusters')\n",
    "\n",
    "# AVG quant_returns\n",
    "df_avg_returns = df92[['quant_returns', 'clusters']].groupby('clusters').mean().reset_index()\n",
    "df_clusters = df_clusters.merge(df_avg_returns, on='clusters')\n",
    "\n",
    "# Rename columns\n",
    "df_clusters.columns = ['clusters', 'num_customer', 'customer_perc', 'monetary_avg_p', 'monetary_avg_r', 'recency_days_avg', 'quant_invoices_avg', 'quant_items_avg', 'quant_prod_uniq_avg', 'avg_ticket_avg', 'frequency_avg', 'quant_returns_avg']"
   ]
  },
  {
   "cell_type": "markdown",
   "id": "75855030",
   "metadata": {
    "papermill": {
     "duration": 0.009591,
     "end_time": "2022-12-21T15:49:58.260040",
     "exception": false,
     "start_time": "2022-12-21T15:49:58.250449",
     "status": "completed"
    },
    "tags": []
   },
   "source": [
    "# 10 Análise Exploratória dos Dados"
   ]
  },
  {
   "cell_type": "code",
   "execution_count": 40,
   "id": "c0cbcc6d",
   "metadata": {
    "ExecuteTime": {
     "end_time": "2022-12-20T23:18:18.625852Z",
     "start_time": "2022-12-20T23:18:18.622161Z"
    },
    "execution": {
     "iopub.execute_input": "2022-12-21T15:49:58.280527Z",
     "iopub.status.busy": "2022-12-21T15:49:58.280300Z",
     "iopub.status.idle": "2022-12-21T15:49:58.283558Z",
     "shell.execute_reply": "2022-12-21T15:49:58.283101Z"
    },
    "papermill": {
     "duration": 0.015404,
     "end_time": "2022-12-21T15:49:58.284873",
     "exception": false,
     "start_time": "2022-12-21T15:49:58.269469",
     "status": "completed"
    },
    "tags": []
   },
   "outputs": [],
   "source": [
    "df10 = df92.copy()"
   ]
  },
  {
   "cell_type": "markdown",
   "id": "888f4ec2",
   "metadata": {
    "papermill": {
     "duration": 0.009936,
     "end_time": "2022-12-21T15:49:58.305380",
     "exception": false,
     "start_time": "2022-12-21T15:49:58.295444",
     "status": "completed"
    },
    "tags": []
   },
   "source": [
    "# 11 Deploy do Modelo em Produção"
   ]
  },
  {
   "cell_type": "markdown",
   "id": "ca9267cb",
   "metadata": {
    "papermill": {
     "duration": 0.01012,
     "end_time": "2022-12-21T15:49:58.325257",
     "exception": false,
     "start_time": "2022-12-21T15:49:58.315137",
     "status": "completed"
    },
    "tags": []
   },
   "source": [
    "## Inserindo no SQLite"
   ]
  },
  {
   "cell_type": "code",
   "execution_count": 41,
   "id": "3ac9b944",
   "metadata": {
    "ExecuteTime": {
     "end_time": "2022-12-20T23:18:18.713701Z",
     "start_time": "2022-12-20T23:18:18.628383Z"
    },
    "execution": {
     "iopub.execute_input": "2022-12-21T15:49:58.346195Z",
     "iopub.status.busy": "2022-12-21T15:49:58.345956Z",
     "iopub.status.idle": "2022-12-21T15:50:00.004586Z",
     "shell.execute_reply": "2022-12-21T15:50:00.002150Z"
    },
    "papermill": {
     "duration": 1.674377,
     "end_time": "2022-12-21T15:50:00.009470",
     "exception": false,
     "start_time": "2022-12-21T15:49:58.335093",
     "status": "completed"
    },
    "tags": []
   },
   "outputs": [
    {
     "data": {
      "text/plain": [
       "4334"
      ]
     },
     "execution_count": 41,
     "metadata": {},
     "output_type": "execute_result"
    }
   ],
   "source": [
    "#criando a tabela\n",
    "# query_create_table_insiders = \"\"\"\n",
    "#     CREATE TABLE insiders(\n",
    "#         customer_id            INTEGER,     \n",
    "#         monetary_purchase      REAL,\n",
    "#         monetary_returns       REAL,\n",
    "#         recency_days           INTEGER, \n",
    "#         quant_invoices         INTEGER, \n",
    "#         quant_items            INTEGER, \n",
    "#         quant_prod_uniq        INTEGER, \n",
    "#         avg_ticket             REAl, \n",
    "#         avg_recency_day        REAl, \n",
    "#         freq_purchases         REAl, \n",
    "#         quant_returns          INTEGER, \n",
    "#         avg_basket_size        REAl, \n",
    "#         avg_uniq_basket_size   REAl, \n",
    "#         clusters               INTEGER \n",
    "# )\n",
    "# \"\"\"\n",
    "\n",
    "# # criando o banco de dados\n",
    "# conn = sqlite3.connect('insiders_db.sqlite')\n",
    "# conn.execute(query_create_table_insiders)\n",
    "# conn.commit()\n",
    "# conn.close()\n",
    "\n",
    "# insert data\n",
    "conn = create_engine('sqlite:///insiders_db.sqlite')\n",
    "df92.to_sql('insiders', con = conn, if_exists='replace', index=False)\n"
   ]
  },
  {
   "cell_type": "code",
   "execution_count": 42,
   "id": "5c08ee1b",
   "metadata": {
    "ExecuteTime": {
     "end_time": "2022-12-20T23:19:16.304378Z",
     "start_time": "2022-12-20T23:19:16.276875Z"
    },
    "execution": {
     "iopub.execute_input": "2022-12-21T15:50:00.044193Z",
     "iopub.status.busy": "2022-12-21T15:50:00.043951Z",
     "iopub.status.idle": "2022-12-21T15:50:00.071047Z",
     "shell.execute_reply": "2022-12-21T15:50:00.069507Z"
    },
    "papermill": {
     "duration": 0.049787,
     "end_time": "2022-12-21T15:50:00.080197",
     "exception": false,
     "start_time": "2022-12-21T15:50:00.030410",
     "status": "completed"
    },
    "tags": []
   },
   "outputs": [],
   "source": [
    "# consultando database\n",
    "query = \"\"\"\n",
    "SELECT *\n",
    "FROM insiders\n",
    "\"\"\"\n",
    "\n",
    "df = pd.read_sql_query(query, conn)"
   ]
  },
  {
   "cell_type": "code",
   "execution_count": null,
   "id": "6ca3317d",
   "metadata": {
    "ExecuteTime": {
     "end_time": "2022-12-20T23:19:17.823016Z",
     "start_time": "2022-12-20T23:19:17.806613Z"
    },
    "papermill": {
     "duration": 0.010155,
     "end_time": "2022-12-21T15:50:00.100919",
     "exception": false,
     "start_time": "2022-12-21T15:50:00.090764",
     "status": "completed"
    },
    "tags": []
   },
   "outputs": [],
   "source": []
  },
  {
   "cell_type": "code",
   "execution_count": null,
   "id": "6c5a3aab",
   "metadata": {
    "papermill": {
     "duration": 0.010589,
     "end_time": "2022-12-21T15:50:00.121542",
     "exception": false,
     "start_time": "2022-12-21T15:50:00.110953",
     "status": "completed"
    },
    "tags": []
   },
   "outputs": [],
   "source": []
  }
 ],
 "metadata": {
  "kernelspec": {
   "display_name": "Python 3 (ipykernel)",
   "language": "python",
   "name": "python3"
  },
  "language_info": {
   "codemirror_mode": {
    "name": "ipython",
    "version": 3
   },
   "file_extension": ".py",
   "mimetype": "text/x-python",
   "name": "python",
   "nbconvert_exporter": "python",
   "pygments_lexer": "ipython3",
   "version": "3.9.12"
  },
  "latex_envs": {
   "LaTeX_envs_menu_present": true,
   "autoclose": false,
   "autocomplete": true,
   "bibliofile": "biblio.bib",
   "cite_by": "apalike",
   "current_citInitial": 1,
   "eqLabelWithNumbers": true,
   "eqNumInitial": 1,
   "hotkeys": {
    "equation": "Ctrl-E",
    "itemize": "Ctrl-I"
   },
   "labels_anchors": false,
   "latex_user_defs": false,
   "report_style_numbering": false,
   "user_envs_cfg": false
  },
  "papermill": {
   "default_parameters": {},
   "duration": 92.633732,
   "end_time": "2022-12-21T15:50:00.851265",
   "environment_variables": {},
   "exception": null,
   "input_path": "/home/jonas/Documentos/repos/insiders_clustering/src/insiders_clustering_08_ciclo_8_deploy.ipynb",
   "output_path": "/home/jonas/Documentos/repos/insiders_clustering/reports/insiders_clustering_08_ciclo_8_deploy_2022-12-21T12:48:27.ipynb",
   "parameters": {},
   "start_time": "2022-12-21T15:48:28.217533",
   "version": "2.4.0"
  },
  "varInspector": {
   "cols": {
    "lenName": 16,
    "lenType": 16,
    "lenVar": 40
   },
   "kernels_config": {
    "python": {
     "delete_cmd_postfix": "",
     "delete_cmd_prefix": "del ",
     "library": "var_list.py",
     "varRefreshCmd": "print(var_dic_list())"
    },
    "r": {
     "delete_cmd_postfix": ") ",
     "delete_cmd_prefix": "rm(",
     "library": "var_list.r",
     "varRefreshCmd": "cat(var_dic_list()) "
    }
   },
   "types_to_exclude": [
    "module",
    "function",
    "builtin_function_or_method",
    "instance",
    "_Feature"
   ],
   "window_display": false
  }
 },
 "nbformat": 4,
 "nbformat_minor": 5
}