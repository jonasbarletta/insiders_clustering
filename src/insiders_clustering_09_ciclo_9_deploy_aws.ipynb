{
 "cells": [
  {
   "cell_type": "markdown",
   "id": "f08cdd85",
   "metadata": {},
   "source": [
    "# Imports"
   ]
  },
  {
   "cell_type": "code",
   "execution_count": 1,
   "id": "032dfa43",
   "metadata": {
    "ExecuteTime": {
     "end_time": "2022-12-30T15:48:43.556314Z",
     "start_time": "2022-12-30T15:48:37.084731Z"
    }
   },
   "outputs": [],
   "source": [
    "import pandas as pd\n",
    "import numpy as np\n",
    "import seaborn as sns\n",
    "import inflection\n",
    "import umap\n",
    "import re\n",
    "import pickle \n",
    "import sqlite3\n",
    "import boto3\n",
    "import sys\n",
    "from io import StringIO\n",
    "# import psycopg2\n",
    "\n",
    "\n",
    "from sqlalchemy import create_engine\n",
    "\n",
    "\n",
    "from sklearn.cluster         import KMeans, AgglomerativeClustering, DBSCAN\n",
    "from sklearn.ensemble        import RandomForestRegressor"
   ]
  },
  {
   "cell_type": "markdown",
   "id": "31e9e005",
   "metadata": {},
   "source": [
    "## Loading"
   ]
  },
  {
   "cell_type": "code",
   "execution_count": 2,
   "id": "72bb5c01",
   "metadata": {
    "ExecuteTime": {
     "end_time": "2022-12-30T15:49:10.139862Z",
     "start_time": "2022-12-30T15:48:43.564052Z"
    }
   },
   "outputs": [],
   "source": [
    "# loading via S3\n",
    "client = boto3.client('s3')\n",
    "\n",
    "bucket_name = 'pa005-dataset'\n",
    "object_key = 'ecommerce.csv'\n",
    "\n",
    "csv_obj = client.get_object(Bucket=bucket_name, Key=object_key)\n",
    "body = csv_obj['Body']\n",
    "csv_string = body.read().decode('iso-8859-1')\n",
    "\n",
    "data = pd.read_csv(StringIO(csv_string))"
   ]
  },
  {
   "cell_type": "code",
   "execution_count": 3,
   "id": "08b3b5e8",
   "metadata": {
    "ExecuteTime": {
     "end_time": "2022-12-30T15:49:10.144163Z",
     "start_time": "2022-12-30T15:49:10.141444Z"
    }
   },
   "outputs": [],
   "source": [
    "#  Loading local\n",
    "# path =  '/home/jonas/Documentos/repos/insiders_clustering/'\n",
    "\n",
    "# data = pd.read_csv(path_s3, encoding='unicode_escape')"
   ]
  },
  {
   "cell_type": "code",
   "execution_count": 4,
   "id": "4fb3ad85",
   "metadata": {
    "ExecuteTime": {
     "end_time": "2022-12-30T15:49:10.183275Z",
     "start_time": "2022-12-30T15:49:10.146895Z"
    }
   },
   "outputs": [],
   "source": [
    "# drop de coluna\n",
    "data = data.drop('Unnamed: 8', axis=1)"
   ]
  },
  {
   "cell_type": "markdown",
   "id": "fe92817a",
   "metadata": {},
   "source": [
    "# 1 Descrição dos Dados"
   ]
  },
  {
   "cell_type": "markdown",
   "id": "dab82537",
   "metadata": {},
   "source": [
    "## 1.1 Renomeando as Colunas"
   ]
  },
  {
   "cell_type": "code",
   "execution_count": 5,
   "id": "90deaa12",
   "metadata": {
    "ExecuteTime": {
     "end_time": "2022-12-30T15:49:10.188530Z",
     "start_time": "2022-12-30T15:49:10.184754Z"
    }
   },
   "outputs": [],
   "source": [
    "old_cols = list(data.columns)\n",
    "\n",
    "new_cols = []\n",
    "\n",
    "for c in old_cols:\n",
    "    new_cols.append(inflection.underscore(c))\n",
    "\n",
    "data.columns = new_cols"
   ]
  },
  {
   "cell_type": "markdown",
   "id": "2b72ed6c",
   "metadata": {},
   "source": [
    "## 1.5 Replace NA's"
   ]
  },
  {
   "cell_type": "code",
   "execution_count": 6,
   "id": "881dff18",
   "metadata": {
    "ExecuteTime": {
     "end_time": "2022-12-30T15:49:10.217009Z",
     "start_time": "2022-12-30T15:49:10.190599Z"
    }
   },
   "outputs": [],
   "source": [
    "# criação de um dicionário com os novos customer_id {'invoice_no': novo_customer_id}\n",
    "invoice_customer_id_null = list(data[data['customer_id'].isna()]['invoice_no'].drop_duplicates())\n",
    "\n",
    "customer_id_null_dic = {}\n",
    "new_customer_id = 18500\n",
    "for invoice in invoice_customer_id_null:\n",
    "    customer_id_null_dic[invoice] = new_customer_id\n",
    "    new_customer_id += 1\n"
   ]
  },
  {
   "cell_type": "code",
   "execution_count": 7,
   "id": "1d6db5a1",
   "metadata": {
    "ExecuteTime": {
     "end_time": "2022-12-30T15:49:14.179414Z",
     "start_time": "2022-12-30T15:49:10.218745Z"
    }
   },
   "outputs": [],
   "source": [
    "# Nova coluna de customer_id, com invoice_no no lugar do customer_id\n",
    "data['new_customer_id'] = data[['invoice_no', 'customer_id']].apply(lambda x: x['invoice_no'] if \n",
    "                                          np.isnan(x['customer_id']) == True else np.nan, axis=1)"
   ]
  },
  {
   "cell_type": "code",
   "execution_count": 8,
   "id": "dcdbeede",
   "metadata": {
    "ExecuteTime": {
     "end_time": "2022-12-30T15:49:14.203514Z",
     "start_time": "2022-12-30T15:49:14.181034Z"
    }
   },
   "outputs": [],
   "source": [
    "# faz a troca de cada invoice_no pelo novo customer_id com o dicionário criado\n",
    "data['new_customer_id'] = data['new_customer_id'].map(customer_id_null_dic)"
   ]
  },
  {
   "cell_type": "code",
   "execution_count": 9,
   "id": "8cfc4aae",
   "metadata": {
    "ExecuteTime": {
     "end_time": "2022-12-30T15:49:19.135892Z",
     "start_time": "2022-12-30T15:49:14.204916Z"
    }
   },
   "outputs": [],
   "source": [
    "# junta as colunas customer_id e new_customer_id em uma só\n",
    "data['customer_id'] = data[['customer_id', 'new_customer_id']].apply(lambda x: x['new_customer_id'] \n",
    "                                                                     if np.isnan(x['customer_id'])  == True \n",
    "                                                                     else x['customer_id'] , axis=1)"
   ]
  },
  {
   "cell_type": "code",
   "execution_count": 10,
   "id": "c6ccf09c",
   "metadata": {
    "ExecuteTime": {
     "end_time": "2022-12-30T15:49:19.169527Z",
     "start_time": "2022-12-30T15:49:19.139278Z"
    }
   },
   "outputs": [],
   "source": [
    "# drop new_customer_id\n",
    "data = data.drop('new_customer_id', axis=1)"
   ]
  },
  {
   "cell_type": "markdown",
   "id": "38d6dd57",
   "metadata": {},
   "source": [
    "## 1.6 Troca dos Tipos dos Dados"
   ]
  },
  {
   "cell_type": "code",
   "execution_count": 11,
   "id": "0edcdf87",
   "metadata": {
    "ExecuteTime": {
     "end_time": "2022-12-30T15:49:19.229033Z",
     "start_time": "2022-12-30T15:49:19.170962Z"
    }
   },
   "outputs": [],
   "source": [
    "# invoice_date\n",
    "data['invoice_date'] = pd.to_datetime(data['invoice_date'], format='%d-%b-%y')\n",
    "\n",
    "# customer_id\n",
    "data['customer_id'] = data['customer_id'].astype('int64')\n"
   ]
  },
  {
   "cell_type": "markdown",
   "id": "9f272c5d",
   "metadata": {},
   "source": [
    "# 2 Filtragem de Variáveis"
   ]
  },
  {
   "cell_type": "code",
   "execution_count": 12,
   "id": "064a978b",
   "metadata": {
    "ExecuteTime": {
     "end_time": "2022-12-30T15:49:19.250465Z",
     "start_time": "2022-12-30T15:49:19.231007Z"
    }
   },
   "outputs": [],
   "source": [
    "df2 = data.copy()"
   ]
  },
  {
   "cell_type": "code",
   "execution_count": 13,
   "id": "959d9e47",
   "metadata": {
    "ExecuteTime": {
     "end_time": "2022-12-30T15:49:19.479488Z",
     "start_time": "2022-12-30T15:49:19.252046Z"
    }
   },
   "outputs": [],
   "source": [
    "# Unit_price: maiores que 0.04\n",
    "df2 = df2[df2['unit_price'] > 0.04]\n",
    "\n",
    "# stock_code: drop 'POST', 'C2', 'BANK CHARGES', 'PADS', 'DOT', 'CRUK'\n",
    "df2 = df2[~df2['stock_code'].isin(['POST', 'C2', 'BANK CHARGES', 'PADS', 'DOT', 'CRUK', 'S', 'AMAZONFEE', 'B'])]\n",
    "\n",
    "# description: drop da coluna\n",
    "df2 = df2.drop('description', axis=1)\n",
    "\n",
    "# customer outlier (analise relizada na seção 4)\n",
    "\n",
    "df2 = df2[~df2['customer_id'].isin([12346, 14646])]\n",
    "\n",
    "# colocar apenas os customers que tinham customer_id\n",
    "df2 = df2[df2['customer_id'] < 18500]\n",
    "\n",
    "# country: drop de 'European Community' e 'Unspecified' (idéia para os próximos ciclos)\n",
    "# df2 = df2[~df2['country'].isin(['European Community', 'Unspecified'])]\n",
    "\n",
    "# quantity\n",
    "df2_returns = df2[df2['quantity'] < 0].copy()\n",
    "df2_purchases = df2[df2['quantity'] >= 0].copy()\n",
    "\n"
   ]
  },
  {
   "cell_type": "markdown",
   "id": "6a9bcde3",
   "metadata": {},
   "source": [
    "# 3 Features Engineering"
   ]
  },
  {
   "cell_type": "code",
   "execution_count": 14,
   "id": "a35aea09",
   "metadata": {
    "ExecuteTime": {
     "end_time": "2022-12-30T15:49:19.498838Z",
     "start_time": "2022-12-30T15:49:19.481815Z"
    }
   },
   "outputs": [],
   "source": [
    "df3 = df2.copy()"
   ]
  },
  {
   "cell_type": "code",
   "execution_count": 15,
   "id": "284c8604",
   "metadata": {
    "ExecuteTime": {
     "end_time": "2022-12-30T15:49:19.515386Z",
     "start_time": "2022-12-30T15:49:19.500488Z"
    }
   },
   "outputs": [],
   "source": [
    "df_ref = df3.drop(['invoice_no', 'stock_code', 'quantity', 'invoice_date', 'unit_price', 'country'], axis=1)\n",
    "df_ref = df_ref.drop_duplicates().reset_index(drop=True)"
   ]
  },
  {
   "cell_type": "markdown",
   "id": "706189b3",
   "metadata": {},
   "source": [
    "## 3.1 Criação de Features"
   ]
  },
  {
   "cell_type": "markdown",
   "id": "1f142a1f",
   "metadata": {},
   "source": [
    "### 3.1.1 Faturamento"
   ]
  },
  {
   "cell_type": "code",
   "execution_count": 16,
   "id": "8f00867b",
   "metadata": {
    "ExecuteTime": {
     "end_time": "2022-12-30T15:49:19.560149Z",
     "start_time": "2022-12-30T15:49:19.517059Z"
    }
   },
   "outputs": [],
   "source": [
    "# Monetary Purchase \n",
    "df2_purchases['monetary'] = df2_purchases['unit_price']*df2_purchases['quantity']\n",
    "df_monetary_purchase = df2_purchases[['customer_id', 'monetary']].groupby('customer_id').sum().reset_index()\n",
    "\n",
    "# join\n",
    "df_ref = df_ref.merge(df_monetary_purchase, how='left', on='customer_id')\n",
    "\n",
    "# Monetary Return\n",
    "df2_returns['monetary'] = df2_returns['unit_price']*df2_returns['quantity']\n",
    "df_monetary_returns = df2_returns[['customer_id', 'monetary']].groupby('customer_id').sum().reset_index()\n",
    "\n",
    "# join\n",
    "df_ref = df_ref.merge(df_monetary_returns, how='left', on='customer_id')\n",
    "\n",
    "df_ref.rename(columns={'monetary_x':'monetary_purchase', 'monetary_y':'monetary_returns'}, inplace=True)\n",
    "\n",
    "df_ref['monetary_returns'] = df_ref['monetary_returns'].fillna(0)"
   ]
  },
  {
   "cell_type": "markdown",
   "id": "174610a6",
   "metadata": {},
   "source": [
    "### 3.1.2 Recência  (Quantidade de dias desde de última compra)"
   ]
  },
  {
   "cell_type": "code",
   "execution_count": 17,
   "id": "a1d17457",
   "metadata": {
    "ExecuteTime": {
     "end_time": "2022-12-30T15:49:19.590663Z",
     "start_time": "2022-12-30T15:49:19.562353Z"
    }
   },
   "outputs": [],
   "source": [
    "# Recency (Recência) - Quantidade de dias desde a última compra\n",
    "df2_purchases['recency_days'] = df2_purchases['invoice_date'].max() - df2_purchases['invoice_date']\n",
    "df_recency = df2_purchases[['customer_id', 'recency_days']].groupby('customer_id').min().reset_index()\n",
    "df_recency['recency_days'] = df_recency['recency_days'].dt.days     # extrai o dia como int64\n",
    "\n",
    "# join\n",
    "df_ref = df_ref.merge(df_recency, how='left', on='customer_id')\n"
   ]
  },
  {
   "cell_type": "markdown",
   "id": "57e11d58",
   "metadata": {},
   "source": [
    "### 3.1.3 Quantidade de compras realizadas"
   ]
  },
  {
   "cell_type": "code",
   "execution_count": 18,
   "id": "e42ec321",
   "metadata": {
    "ExecuteTime": {
     "end_time": "2022-12-30T15:49:19.649808Z",
     "start_time": "2022-12-30T15:49:19.592525Z"
    }
   },
   "outputs": [],
   "source": [
    "# Frequency\n",
    "df_aux = df2_purchases[['customer_id', 'invoice_no']].drop_duplicates().groupby('customer_id').count().reset_index()\n",
    "df_aux.columns = ['customer_id', 'quant_invoices']\n",
    "\n",
    "# Join\n",
    "df_ref = df_ref.merge(df_aux, how='left', on='customer_id')"
   ]
  },
  {
   "cell_type": "markdown",
   "id": "e8bc5f4b",
   "metadata": {},
   "source": [
    "### 3.1.4 Quantidade de produtos comprados"
   ]
  },
  {
   "cell_type": "code",
   "execution_count": 19,
   "id": "1f3c817e",
   "metadata": {
    "ExecuteTime": {
     "end_time": "2022-12-30T15:49:19.666807Z",
     "start_time": "2022-12-30T15:49:19.651398Z"
    }
   },
   "outputs": [],
   "source": [
    "df_aux = df2_purchases[['customer_id', 'quantity']].groupby('customer_id').sum().reset_index()\n",
    "df_aux.columns = ['customer_id', 'quant_items']\n",
    "\n",
    "# Join\n",
    "df_ref = df_ref.merge(df_aux, how='left', on='customer_id')"
   ]
  },
  {
   "cell_type": "markdown",
   "id": "a4c8823f",
   "metadata": {},
   "source": [
    "### 3.1.5 Quantidade de produtos únicos comprados"
   ]
  },
  {
   "cell_type": "code",
   "execution_count": 20,
   "id": "3b309f5a",
   "metadata": {
    "ExecuteTime": {
     "end_time": "2022-12-30T15:49:19.724028Z",
     "start_time": "2022-12-30T15:49:19.668291Z"
    }
   },
   "outputs": [],
   "source": [
    "df_aux = df2_purchases[['customer_id', 'stock_code']].groupby('customer_id').count().reset_index()\n",
    "df_aux.columns = ['customer_id', 'quant_prod_uniq']\n",
    "\n",
    "# Join\n",
    "df_ref = df_ref.merge(df_aux, how='left', on='customer_id')"
   ]
  },
  {
   "cell_type": "markdown",
   "id": "6443388f",
   "metadata": {},
   "source": [
    "### 3.1.6 Ticket Médio"
   ]
  },
  {
   "cell_type": "code",
   "execution_count": 21,
   "id": "1b4bb9af",
   "metadata": {
    "ExecuteTime": {
     "end_time": "2022-12-30T15:49:19.748162Z",
     "start_time": "2022-12-30T15:49:19.725967Z"
    }
   },
   "outputs": [],
   "source": [
    "# AVG Ticket\n",
    "df2['monetary'] = df2['unit_price']*df2['quantity']\n",
    "df_avg_ticket = df2[['customer_id', 'monetary']].groupby('customer_id').mean().reset_index().rename(columns={'monetary': 'avg_ticket'})\n",
    "\n",
    "# Join\n",
    "df_ref = df_ref.merge(df_avg_ticket, how='left', on='customer_id')"
   ]
  },
  {
   "cell_type": "markdown",
   "id": "56fcf906",
   "metadata": {},
   "source": [
    "### 3.1.7 Recência média entre as compras"
   ]
  },
  {
   "cell_type": "code",
   "execution_count": 22,
   "id": "e5e8c4fa",
   "metadata": {
    "ExecuteTime": {
     "end_time": "2022-12-30T15:49:20.094997Z",
     "start_time": "2022-12-30T15:49:19.749767Z"
    },
    "scrolled": true
   },
   "outputs": [],
   "source": [
    "df_aux = df2_purchases[['customer_id', 'invoice_date']].drop_duplicates().sort_values(['customer_id', 'invoice_date'], ascending=[False, False])\n",
    "\n",
    "df_aux['next_customer'] = df_aux['customer_id'].shift()\n",
    "df_aux['next_date'] = df_aux['invoice_date'].shift()\n",
    "\n",
    "data_max = df_aux['invoice_date'].max()\n",
    "data_min = df_aux['invoice_date'].min()\n",
    "\n",
    "df_aux['avg_recency_day'] = df_aux.apply(lambda x: (x['next_date'] - x['invoice_date']).days if x['customer_id'] == x['next_customer'] \n",
    "                                         else (data_max - data_min).days, axis=1)\n",
    "\n",
    "df_aux = df_aux.drop(['invoice_date', 'next_customer', 'next_date'], axis=1)\n",
    "\n",
    "df_avg_recency = df_aux[['customer_id', 'avg_recency_day']].groupby('customer_id').mean().reset_index()\n",
    "\n",
    "# Join\n",
    "df_ref = df_ref.merge(df_avg_recency, how='left', on='customer_id')"
   ]
  },
  {
   "cell_type": "markdown",
   "id": "0feba801",
   "metadata": {},
   "source": [
    "### 3.1.8 Frequência de Compras"
   ]
  },
  {
   "cell_type": "code",
   "execution_count": 23,
   "id": "8e61a820",
   "metadata": {
    "ExecuteTime": {
     "end_time": "2022-12-30T15:49:20.876533Z",
     "start_time": "2022-12-30T15:49:20.096482Z"
    }
   },
   "outputs": [],
   "source": [
    "df_aux = (df2_purchases[['customer_id', 'invoice_no', 'invoice_date']].drop_duplicates().groupby('customer_id')\n",
    "                                                                              .agg(max_ = ('invoice_date', 'max'),\n",
    "                                                                                   min_ = ('invoice_date', 'min'),\n",
    "                                                                                   days_= ('invoice_date', lambda x: (x.max() - x.min()).days),\n",
    "                                                                                   buy_ = ('invoice_no', 'count'))).reset_index()\n",
    "\n",
    "df_aux['freq_purchases'] = df_aux.apply(lambda x: (x['buy_'] / x['days_']) if x['days_'] !=  0 else 0, axis=1)\n",
    "\n",
    "df_freq_pur = df_aux[['customer_id', 'freq_purchases']]\n",
    "\n",
    "\n",
    "# Join\n",
    "df_ref = df_ref.merge(df_freq_pur, how='left', on='customer_id')"
   ]
  },
  {
   "cell_type": "markdown",
   "id": "bef26336",
   "metadata": {},
   "source": [
    "### 3.1.9 Número de Retornos"
   ]
  },
  {
   "cell_type": "code",
   "execution_count": 24,
   "id": "d7ce7780",
   "metadata": {
    "ExecuteTime": {
     "end_time": "2022-12-30T15:49:20.890233Z",
     "start_time": "2022-12-30T15:49:20.878147Z"
    }
   },
   "outputs": [],
   "source": [
    "df_returns = df2_returns[['customer_id', 'quantity']].groupby('customer_id').sum().reset_index().rename(columns={'quantity':'quant_returns'})\n",
    "\n",
    "df_returns['quant_returns'] = df_returns['quant_returns'] * -1\n",
    "\n",
    "# Join\n",
    "df_ref = df_ref.merge(df_returns, how='left', on='customer_id')\n",
    "\n",
    "# Fillna\n",
    "df_ref['quant_returns'] = df_ref['quant_returns'].fillna(0)"
   ]
  },
  {
   "cell_type": "markdown",
   "id": "a1ae0dc6",
   "metadata": {},
   "source": [
    "### 3.1.10 Média da quantidade de produtos por compra"
   ]
  },
  {
   "cell_type": "code",
   "execution_count": 25,
   "id": "afced25d",
   "metadata": {
    "ExecuteTime": {
     "end_time": "2022-12-30T15:49:20.965053Z",
     "start_time": "2022-12-30T15:49:20.891789Z"
    }
   },
   "outputs": [],
   "source": [
    "df_aux = (df2_purchases[['customer_id', 'invoice_no', 'quantity']].groupby('customer_id')\n",
    "                                                                  .agg(n_purchases = ('invoice_no', 'nunique'),\n",
    "                                                                       n_product = ('quantity', 'sum'))\n",
    "                                                                  .reset_index())\n",
    "\n",
    "df_aux['avg_basket_size'] = df_aux['n_product'] / df_aux['n_purchases']\n",
    "\n",
    "df_avg_basket = df_aux[['customer_id', 'avg_basket_size']]\n",
    "\n",
    "\n",
    "# Join\n",
    "df_ref = df_ref.merge(df_avg_basket, how='left', on='customer_id')"
   ]
  },
  {
   "cell_type": "markdown",
   "id": "7e59eafa",
   "metadata": {
    "ExecuteTime": {
     "end_time": "2022-10-16T15:25:02.820917Z",
     "start_time": "2022-10-16T15:25:02.802280Z"
    }
   },
   "source": [
    "### 3.1.11 Média da quantidade de produtos únicos por compra"
   ]
  },
  {
   "cell_type": "code",
   "execution_count": 26,
   "id": "e80c96ac",
   "metadata": {
    "ExecuteTime": {
     "end_time": "2022-12-30T15:49:21.141288Z",
     "start_time": "2022-12-30T15:49:20.966791Z"
    },
    "scrolled": true
   },
   "outputs": [],
   "source": [
    "df_aux = (df2_purchases[['customer_id', 'invoice_no', 'stock_code']].groupby('customer_id')\n",
    "                                                         .agg(n_purchases = ('invoice_no', 'nunique'),\n",
    "                                                             n_product = ('stock_code', 'nunique'))\n",
    "                                                         .reset_index())\n",
    "\n",
    "\n",
    "df_aux['avg_uniq_basket_size'] = df_aux['n_product'] / df_aux['n_purchases']\n",
    "\n",
    "df_avg_uniq_basket = df_aux[['customer_id', 'avg_uniq_basket_size']]\n",
    "\n",
    "# Join\n",
    "df_ref = df_ref.merge(df_avg_uniq_basket, how='left', on='customer_id')"
   ]
  },
  {
   "cell_type": "markdown",
   "id": "18b57218",
   "metadata": {},
   "source": [
    "# 4 Análise Exploratória dos Dados"
   ]
  },
  {
   "cell_type": "code",
   "execution_count": 27,
   "id": "581a866b",
   "metadata": {
    "ExecuteTime": {
     "end_time": "2022-12-30T15:49:21.149912Z",
     "start_time": "2022-12-30T15:49:21.142947Z"
    }
   },
   "outputs": [],
   "source": [
    "df4 = df_ref.dropna().reset_index(drop=True).copy()"
   ]
  },
  {
   "cell_type": "markdown",
   "id": "bc01ca1d",
   "metadata": {},
   "source": [
    "## 4.3 Estudo dos Espaços"
   ]
  },
  {
   "cell_type": "code",
   "execution_count": 28,
   "id": "7b08904f",
   "metadata": {
    "ExecuteTime": {
     "end_time": "2022-12-30T15:49:21.158796Z",
     "start_time": "2022-12-30T15:49:21.155371Z"
    }
   },
   "outputs": [],
   "source": [
    "# drop de um cliente\n",
    "df4 = df4[df4['customer_id'] != 16446].reset_index(drop=True)\n"
   ]
  },
  {
   "cell_type": "markdown",
   "id": "a86871d4",
   "metadata": {},
   "source": [
    "### 4.3.4 Embedding baseado em árvores"
   ]
  },
  {
   "cell_type": "code",
   "execution_count": 29,
   "id": "e7c539f8",
   "metadata": {
    "ExecuteTime": {
     "end_time": "2022-12-30T15:49:21.164097Z",
     "start_time": "2022-12-30T15:49:21.160750Z"
    }
   },
   "outputs": [],
   "source": [
    "X = df4.drop(['customer_id', 'monetary_purchase'], axis=1).copy()\n",
    "y = df4['monetary_purchase'].copy()"
   ]
  },
  {
   "cell_type": "code",
   "execution_count": 30,
   "id": "bda91ef2",
   "metadata": {
    "ExecuteTime": {
     "end_time": "2022-12-30T15:50:12.304862Z",
     "start_time": "2022-12-30T15:49:21.165692Z"
    }
   },
   "outputs": [],
   "source": [
    "# model defition\n",
    "rf_model = RandomForestRegressor(n_estimators=2000,  random_state=42)\n",
    "\n",
    "# fit \n",
    "rf_model.fit(X, y)\n",
    "\n",
    "# Leaf\n",
    "leaf = rf_model.apply(X)  # retorna os índices das folhas\n",
    "\n",
    "# dataframe leaf\n",
    "df_leaf = pd.DataFrame(leaf)"
   ]
  },
  {
   "cell_type": "code",
   "execution_count": 31,
   "id": "84a47763",
   "metadata": {
    "ExecuteTime": {
     "end_time": "2022-12-30T15:50:37.632170Z",
     "start_time": "2022-12-30T15:50:12.306645Z"
    }
   },
   "outputs": [],
   "source": [
    "reducer = umap.UMAP(random_state=42)\n",
    "embedding = reducer.fit_transform(df_leaf)\n",
    "\n",
    "# embedding\n",
    "df_tree = pd.DataFrame()\n",
    "df_tree['embedding_x'] = embedding[: , 0]\n",
    "df_tree['embedding_y'] = embedding[: , 1]"
   ]
  },
  {
   "cell_type": "markdown",
   "id": "3697e792",
   "metadata": {},
   "source": [
    "# 5 Preparação dos Dados"
   ]
  },
  {
   "cell_type": "code",
   "execution_count": 32,
   "id": "dc0fd42b",
   "metadata": {
    "ExecuteTime": {
     "end_time": "2022-12-30T15:50:37.639953Z",
     "start_time": "2022-12-30T15:50:37.633738Z"
    }
   },
   "outputs": [],
   "source": [
    "df5 = df_tree.copy()\n",
    "# df5.to_csv('df_tree_embedding.csv', index=False)"
   ]
  },
  {
   "cell_type": "markdown",
   "id": "ee4c95cb",
   "metadata": {},
   "source": [
    "# 6 Seleção dos Atributos"
   ]
  },
  {
   "cell_type": "code",
   "execution_count": 33,
   "id": "2176118e",
   "metadata": {
    "ExecuteTime": {
     "end_time": "2022-12-30T15:50:37.647884Z",
     "start_time": "2022-12-30T15:50:37.643463Z"
    }
   },
   "outputs": [],
   "source": [
    "df6 = df5.copy()"
   ]
  },
  {
   "cell_type": "markdown",
   "id": "b2ea6fb7",
   "metadata": {},
   "source": [
    "Todos os atributos foram selecionados."
   ]
  },
  {
   "cell_type": "code",
   "execution_count": 34,
   "id": "d7974eef",
   "metadata": {
    "ExecuteTime": {
     "end_time": "2022-12-30T15:50:37.652931Z",
     "start_time": "2022-12-30T15:50:37.650538Z"
    }
   },
   "outputs": [],
   "source": [
    "df7 = df6.copy()"
   ]
  },
  {
   "cell_type": "markdown",
   "id": "f182e675",
   "metadata": {},
   "source": [
    "# 8 Treinamento do Modelo"
   ]
  },
  {
   "cell_type": "code",
   "execution_count": 35,
   "id": "d9c6958e",
   "metadata": {
    "ExecuteTime": {
     "end_time": "2022-12-30T15:50:37.658510Z",
     "start_time": "2022-12-30T15:50:37.655390Z"
    }
   },
   "outputs": [],
   "source": [
    "df8 = df7.copy()\n",
    "X = df8.copy()"
   ]
  },
  {
   "cell_type": "markdown",
   "id": "e506621a",
   "metadata": {},
   "source": [
    "# 9 Análise dos Clusters"
   ]
  },
  {
   "cell_type": "code",
   "execution_count": 36,
   "id": "69394078",
   "metadata": {
    "ExecuteTime": {
     "end_time": "2022-12-30T15:50:38.044150Z",
     "start_time": "2022-12-30T15:50:37.660435Z"
    }
   },
   "outputs": [],
   "source": [
    "df9 = df8.copy()\n",
    "\n",
    "# load model\n",
    "# model = pickle.load(open('/home/jonas/Documentos/repos/insiders_clustering/model/hc_model.pkl', 'rb'))\n",
    "k = 10\n",
    "model = AgglomerativeClustering(n_clusters=k)\n",
    "\n",
    "labels  = model.fit(X)\n",
    "\n",
    "df9['clusters'] = model.labels_"
   ]
  },
  {
   "cell_type": "markdown",
   "id": "f485b0e6",
   "metadata": {},
   "source": [
    "## 9.1 Inspeção por Visualização"
   ]
  },
  {
   "cell_type": "markdown",
   "id": "ed26ad6f",
   "metadata": {},
   "source": [
    "Após analisar diversas possibilidades, optei por utilizar o modelo de **HC** com **10 clusters**."
   ]
  },
  {
   "cell_type": "markdown",
   "id": "dfaf6e05",
   "metadata": {},
   "source": [
    "## 9.2 Perfil dos Clusters"
   ]
  },
  {
   "cell_type": "code",
   "execution_count": 37,
   "id": "1ea6eb0d",
   "metadata": {
    "ExecuteTime": {
     "end_time": "2022-12-30T15:50:38.049663Z",
     "start_time": "2022-12-30T15:50:38.046244Z"
    }
   },
   "outputs": [],
   "source": [
    "df92 = df4.copy()\n",
    "df92['clusters'] = df9['clusters']"
   ]
  },
  {
   "cell_type": "code",
   "execution_count": 38,
   "id": "75c51555",
   "metadata": {
    "ExecuteTime": {
     "end_time": "2022-12-30T15:50:38.057352Z",
     "start_time": "2022-12-30T15:50:38.051356Z"
    }
   },
   "outputs": [],
   "source": [
    "# trocando os tipos das variáveis\n",
    "df92['recency_days'] = df92['recency_days'].astype(int)\n",
    "df92['quant_invoices'] = df92['quant_invoices'].astype(int)\n",
    "df92['quant_items'] = df92['quant_items'].astype(int)\n",
    "df92['quant_prod_uniq'] = df92['quant_prod_uniq'].astype(int)\n",
    "df92['quant_returns'] = df92['quant_returns'].astype(int)"
   ]
  },
  {
   "cell_type": "code",
   "execution_count": 39,
   "id": "70f3427f",
   "metadata": {
    "ExecuteTime": {
     "end_time": "2022-12-30T15:50:38.082108Z",
     "start_time": "2022-12-30T15:50:38.058954Z"
    },
    "scrolled": false
   },
   "outputs": [
    {
     "data": {
      "text/html": [
       "<div>\n",
       "<style scoped>\n",
       "    .dataframe tbody tr th:only-of-type {\n",
       "        vertical-align: middle;\n",
       "    }\n",
       "\n",
       "    .dataframe tbody tr th {\n",
       "        vertical-align: top;\n",
       "    }\n",
       "\n",
       "    .dataframe thead th {\n",
       "        text-align: right;\n",
       "    }\n",
       "</style>\n",
       "<table border=\"1\" class=\"dataframe\">\n",
       "  <thead>\n",
       "    <tr style=\"text-align: right;\">\n",
       "      <th></th>\n",
       "      <th>customer_id</th>\n",
       "      <th>monetary_purchase</th>\n",
       "      <th>monetary_returns</th>\n",
       "      <th>recency_days</th>\n",
       "      <th>quant_invoices</th>\n",
       "      <th>quant_items</th>\n",
       "      <th>quant_prod_uniq</th>\n",
       "      <th>avg_ticket</th>\n",
       "      <th>avg_recency_day</th>\n",
       "      <th>freq_purchases</th>\n",
       "      <th>quant_returns</th>\n",
       "      <th>avg_basket_size</th>\n",
       "      <th>avg_uniq_basket_size</th>\n",
       "      <th>clusters</th>\n",
       "    </tr>\n",
       "  </thead>\n",
       "  <tbody>\n",
       "    <tr>\n",
       "      <th>0</th>\n",
       "      <td>17850</td>\n",
       "      <td>5391.21</td>\n",
       "      <td>-102.58</td>\n",
       "      <td>372</td>\n",
       "      <td>34</td>\n",
       "      <td>1733</td>\n",
       "      <td>297</td>\n",
       "      <td>16.950737</td>\n",
       "      <td>187.000000</td>\n",
       "      <td>34.000000</td>\n",
       "      <td>40</td>\n",
       "      <td>50.970588</td>\n",
       "      <td>0.617647</td>\n",
       "      <td>6</td>\n",
       "    </tr>\n",
       "    <tr>\n",
       "      <th>1</th>\n",
       "      <td>13047</td>\n",
       "      <td>3237.54</td>\n",
       "      <td>-158.44</td>\n",
       "      <td>31</td>\n",
       "      <td>10</td>\n",
       "      <td>1391</td>\n",
       "      <td>172</td>\n",
       "      <td>15.709694</td>\n",
       "      <td>89.375000</td>\n",
       "      <td>0.029240</td>\n",
       "      <td>36</td>\n",
       "      <td>139.100000</td>\n",
       "      <td>10.600000</td>\n",
       "      <td>6</td>\n",
       "    </tr>\n",
       "    <tr>\n",
       "      <th>2</th>\n",
       "      <td>12583</td>\n",
       "      <td>6705.38</td>\n",
       "      <td>-76.04</td>\n",
       "      <td>2</td>\n",
       "      <td>15</td>\n",
       "      <td>5028</td>\n",
       "      <td>232</td>\n",
       "      <td>28.209957</td>\n",
       "      <td>49.600000</td>\n",
       "      <td>0.040431</td>\n",
       "      <td>50</td>\n",
       "      <td>335.200000</td>\n",
       "      <td>7.600000</td>\n",
       "      <td>2</td>\n",
       "    </tr>\n",
       "    <tr>\n",
       "      <th>3</th>\n",
       "      <td>13748</td>\n",
       "      <td>948.25</td>\n",
       "      <td>0.00</td>\n",
       "      <td>95</td>\n",
       "      <td>5</td>\n",
       "      <td>439</td>\n",
       "      <td>28</td>\n",
       "      <td>33.866071</td>\n",
       "      <td>162.750000</td>\n",
       "      <td>0.017986</td>\n",
       "      <td>0</td>\n",
       "      <td>87.800000</td>\n",
       "      <td>4.800000</td>\n",
       "      <td>0</td>\n",
       "    </tr>\n",
       "    <tr>\n",
       "      <th>4</th>\n",
       "      <td>15100</td>\n",
       "      <td>876.00</td>\n",
       "      <td>-240.90</td>\n",
       "      <td>333</td>\n",
       "      <td>3</td>\n",
       "      <td>80</td>\n",
       "      <td>3</td>\n",
       "      <td>105.850000</td>\n",
       "      <td>137.666667</td>\n",
       "      <td>0.075000</td>\n",
       "      <td>22</td>\n",
       "      <td>26.666667</td>\n",
       "      <td>0.333333</td>\n",
       "      <td>5</td>\n",
       "    </tr>\n",
       "  </tbody>\n",
       "</table>\n",
       "</div>"
      ],
      "text/plain": [
       "   customer_id  monetary_purchase  monetary_returns  recency_days  \\\n",
       "0        17850            5391.21           -102.58           372   \n",
       "1        13047            3237.54           -158.44            31   \n",
       "2        12583            6705.38            -76.04             2   \n",
       "3        13748             948.25              0.00            95   \n",
       "4        15100             876.00           -240.90           333   \n",
       "\n",
       "   quant_invoices  quant_items  quant_prod_uniq  avg_ticket  avg_recency_day  \\\n",
       "0              34         1733              297   16.950737       187.000000   \n",
       "1              10         1391              172   15.709694        89.375000   \n",
       "2              15         5028              232   28.209957        49.600000   \n",
       "3               5          439               28   33.866071       162.750000   \n",
       "4               3           80                3  105.850000       137.666667   \n",
       "\n",
       "   freq_purchases  quant_returns  avg_basket_size  avg_uniq_basket_size  \\\n",
       "0       34.000000             40        50.970588              0.617647   \n",
       "1        0.029240             36       139.100000             10.600000   \n",
       "2        0.040431             50       335.200000              7.600000   \n",
       "3        0.017986              0        87.800000              4.800000   \n",
       "4        0.075000             22        26.666667              0.333333   \n",
       "\n",
       "   clusters  \n",
       "0         6  \n",
       "1         6  \n",
       "2         2  \n",
       "3         0  \n",
       "4         5  "
      ]
     },
     "execution_count": 39,
     "metadata": {},
     "output_type": "execute_result"
    }
   ],
   "source": [
    "df92.head()"
   ]
  },
  {
   "cell_type": "code",
   "execution_count": 40,
   "id": "72ebf014",
   "metadata": {
    "ExecuteTime": {
     "end_time": "2022-12-30T15:50:38.130739Z",
     "start_time": "2022-12-30T15:50:38.083653Z"
    }
   },
   "outputs": [],
   "source": [
    "# Number of Clusters\n",
    "df_clusters = df92[['customer_id', 'clusters']].groupby('clusters').count().reset_index()\n",
    "df_clusters['customer_perc'] = 100*(df_clusters['customer_id'] / df_clusters['customer_id'].sum())\n",
    "\n",
    "# AVG Monetary\n",
    "df_avg_monetary_p = df92[['monetary_purchase', 'clusters']].groupby('clusters').mean().reset_index()\n",
    "df_clusters = df_clusters.merge(df_avg_monetary_p, on='clusters')\n",
    "\n",
    "# AVG Monetary_Returns\n",
    "df_avg_monetary_r = df92[['monetary_returns', 'clusters']].groupby('clusters').mean().reset_index()\n",
    "df_clusters = df_clusters.merge(df_avg_monetary_r, on='clusters')\n",
    "\n",
    "# AVG Recency_days\n",
    "df_avg_recency = df92[['recency_days', 'clusters']].groupby('clusters').mean().reset_index()\n",
    "df_clusters = df_clusters.merge(df_avg_recency, on='clusters')\n",
    "\n",
    "# AVG quant_invoices\n",
    "df_avg_invoices = df92[['quant_invoices', 'clusters']].groupby('clusters').mean().reset_index()\n",
    "df_clusters = df_clusters.merge(df_avg_invoices, on='clusters')\n",
    "\n",
    "# AVG quant_items\n",
    "df_avg_items = df92[['quant_items', 'clusters']].groupby('clusters').mean().reset_index()\n",
    "df_clusters = df_clusters.merge(df_avg_items, on='clusters')\n",
    "\n",
    "# AVG quant_prod_uniq\n",
    "df_avg_prod_uniq = df92[['quant_prod_uniq', 'clusters']].groupby('clusters').mean().reset_index()\n",
    "df_clusters = df_clusters.merge(df_avg_prod_uniq, on='clusters')\n",
    "\n",
    "# AVG avg_ticket\n",
    "df_avg_avg_ticket = df92[['avg_ticket', 'clusters']].groupby('clusters').mean().reset_index()\n",
    "df_clusters = df_clusters.merge(df_avg_avg_ticket, on='clusters')\n",
    "\n",
    "# AVG avg_recency_day\n",
    "\n",
    "# AVG Frequency\n",
    "df_avg_freq = df92[['freq_purchases', 'clusters']].groupby('clusters').mean().reset_index()\n",
    "df_clusters = df_clusters.merge(df_avg_freq, on='clusters')\n",
    "\n",
    "# AVG quant_returns\n",
    "df_avg_returns = df92[['quant_returns', 'clusters']].groupby('clusters').mean().reset_index()\n",
    "df_clusters = df_clusters.merge(df_avg_returns, on='clusters')\n",
    "\n",
    "# Rename columns\n",
    "df_clusters.columns = ['clusters', 'num_customer', 'customer_perc', 'monetary_avg_p', 'monetary_avg_r', 'recency_days_avg', 'quant_invoices_avg', 'quant_items_avg', 'quant_prod_uniq_avg', 'avg_ticket_avg', 'frequency_avg', 'quant_returns_avg']"
   ]
  },
  {
   "cell_type": "markdown",
   "id": "75855030",
   "metadata": {},
   "source": [
    "# 10 Análise Exploratória dos Dados"
   ]
  },
  {
   "cell_type": "code",
   "execution_count": 41,
   "id": "c0cbcc6d",
   "metadata": {
    "ExecuteTime": {
     "end_time": "2022-12-30T15:50:38.135156Z",
     "start_time": "2022-12-30T15:50:38.132198Z"
    }
   },
   "outputs": [],
   "source": [
    "df10 = df92.copy()"
   ]
  },
  {
   "cell_type": "markdown",
   "id": "888f4ec2",
   "metadata": {},
   "source": [
    "# 11 Deploy do Modelo em Produção"
   ]
  },
  {
   "cell_type": "markdown",
   "id": "ca9267cb",
   "metadata": {},
   "source": [
    "## Inserindo no SQLite"
   ]
  },
  {
   "cell_type": "code",
   "execution_count": 42,
   "id": "3ac9b944",
   "metadata": {
    "ExecuteTime": {
     "end_time": "2022-12-30T15:50:38.223538Z",
     "start_time": "2022-12-30T15:50:38.137869Z"
    }
   },
   "outputs": [
    {
     "data": {
      "text/plain": [
       "4334"
      ]
     },
     "execution_count": 42,
     "metadata": {},
     "output_type": "execute_result"
    }
   ],
   "source": [
    "#criando a tabela\n",
    "# query_create_table_insiders = \"\"\"\n",
    "#     CREATE TABLE insiders(\n",
    "#         customer_id            INTEGER,     \n",
    "#         monetary_purchase      REAL,\n",
    "#         monetary_returns       REAL,\n",
    "#         recency_days           INTEGER, \n",
    "#         quant_invoices         INTEGER, \n",
    "#         quant_items            INTEGER, \n",
    "#         quant_prod_uniq        INTEGER, \n",
    "#         avg_ticket             REAl, \n",
    "#         avg_recency_day        REAl, \n",
    "#         freq_purchases         REAl, \n",
    "#         quant_returns          INTEGER, \n",
    "#         avg_basket_size        REAl, \n",
    "#         avg_uniq_basket_size   REAl, \n",
    "#         clusters               INTEGER \n",
    "# )\n",
    "# \"\"\"\n",
    "\n",
    "# # criando o banco de dados\n",
    "# conn = sqlite3.connect('insiders_db.sqlite')\n",
    "# conn.execute(query_create_table_insiders)\n",
    "# conn.commit()\n",
    "# conn.close()\n",
    "\n",
    "# insert data\n",
    "# conn = create_engine('sqlite:///insiders_db.sqlite')\n",
    "# df92.to_sql('insiders', con = conn, if_exists='replace', index=False)\n"
   ]
  },
  {
   "cell_type": "markdown",
   "id": "9f30134b",
   "metadata": {},
   "source": [
    "## Inserindo no RDS da AWS"
   ]
  },
  {
   "cell_type": "code",
   "execution_count": 43,
   "id": "245d4321",
   "metadata": {
    "ExecuteTime": {
     "end_time": "2022-12-30T15:50:38.250470Z",
     "start_time": "2022-12-30T15:50:38.225122Z"
    }
   },
   "outputs": [],
   "source": [
    "user = 'jonas'\n",
    "pwd = 'insiders123!'\n",
    "host = 'database-pa005.c2gxtj3tua5w.us-east-1.rds.amazonaws.com'\n",
    "port = '5432'\n",
    "database = 'postgres'\n",
    "endpoint = f'postgresql://{user}:{pwd}@{host}:{port}/{database}'\n",
    "\n",
    "conn = create_engine(endpoint)"
   ]
  },
  {
   "cell_type": "code",
   "execution_count": 44,
   "id": "fc28427d",
   "metadata": {
    "ExecuteTime": {
     "end_time": "2022-12-30T15:50:38.658246Z",
     "start_time": "2022-12-30T15:50:38.254063Z"
    }
   },
   "outputs": [
    {
     "ename": "NameError",
     "evalue": "name 'query_create_table_insiders' is not defined",
     "output_type": "error",
     "traceback": [
      "\u001b[0;31m---------------------------------------------------------------------------\u001b[0m",
      "\u001b[0;31mNameError\u001b[0m                                 Traceback (most recent call last)",
      "Input \u001b[0;32mIn [44]\u001b[0m, in \u001b[0;36m<cell line: 21>\u001b[0;34m()\u001b[0m\n\u001b[1;32m      1\u001b[0m \u001b[38;5;66;03m# # criando a tabela\u001b[39;00m\n\u001b[1;32m      2\u001b[0m \u001b[38;5;66;03m# query_create_table_insiders = \"\"\"\u001b[39;00m\n\u001b[1;32m      3\u001b[0m \u001b[38;5;66;03m#     CREATE TABLE insiders(\u001b[39;00m\n\u001b[0;32m   (...)\u001b[0m\n\u001b[1;32m     18\u001b[0m \u001b[38;5;66;03m# )\u001b[39;00m\n\u001b[1;32m     19\u001b[0m \u001b[38;5;66;03m# \"\"\"\u001b[39;00m\n\u001b[0;32m---> 21\u001b[0m conn\u001b[38;5;241m.\u001b[39mexecute(\u001b[43mquery_create_table_insiders\u001b[49m)\n",
      "\u001b[0;31mNameError\u001b[0m: name 'query_create_table_insiders' is not defined"
     ]
    }
   ],
   "source": [
    "# # criando a tabela\n",
    "# query_create_table_insiders = \"\"\"\n",
    "#     CREATE TABLE insiders(\n",
    "#         customer_id            INTEGER,     \n",
    "#         monetary_purchase      REAL,\n",
    "#         monetary_returns       REAL,\n",
    "#         recency_days           INTEGER, \n",
    "#         quant_invoices         INTEGER, \n",
    "#         quant_items            INTEGER, \n",
    "#         quant_prod_uniq        INTEGER, \n",
    "#         avg_ticket             REAl, \n",
    "#         avg_recency_day        REAl, \n",
    "#         freq_purchases         REAl, \n",
    "#         quant_returns          INTEGER, \n",
    "#         avg_basket_size        REAl, \n",
    "#         avg_uniq_basket_size   REAl, \n",
    "#         clusters               INTEGER \n",
    "# )\n",
    "# \"\"\"\n",
    "\n",
    "# conn.execute(query_create_table_insiders)"
   ]
  },
  {
   "cell_type": "code",
   "execution_count": 45,
   "id": "9b53005f",
   "metadata": {
    "ExecuteTime": {
     "end_time": "2022-12-30T15:50:56.218596Z",
     "start_time": "2022-12-30T15:50:48.338632Z"
    }
   },
   "outputs": [
    {
     "data": {
      "text/plain": [
       "334"
      ]
     },
     "execution_count": 45,
     "metadata": {},
     "output_type": "execute_result"
    }
   ],
   "source": [
    "df92.to_sql('insiders', con = conn, if_exists='replace', index=False)"
   ]
  },
  {
   "cell_type": "code",
   "execution_count": 46,
   "id": "5c08ee1b",
   "metadata": {
    "ExecuteTime": {
     "end_time": "2022-12-30T15:50:59.545168Z",
     "start_time": "2022-12-30T15:50:58.039722Z"
    }
   },
   "outputs": [],
   "source": [
    "# consultando database\n",
    "query = \"\"\"\n",
    "SELECT *\n",
    "FROM insiders\n",
    "\"\"\"\n",
    "\n",
    "df = pd.read_sql_query(query, conn)\n",
    "\n",
    "conn.close()"
   ]
  },
  {
   "cell_type": "code",
   "execution_count": 48,
   "id": "3a86bb16",
   "metadata": {
    "ExecuteTime": {
     "end_time": "2022-12-30T15:51:09.302398Z",
     "start_time": "2022-12-30T15:51:09.298431Z"
    }
   },
   "outputs": [
    {
     "data": {
      "text/plain": [
       "(4334, 14)"
      ]
     },
     "execution_count": 48,
     "metadata": {},
     "output_type": "execute_result"
    }
   ],
   "source": [
    "df.shape"
   ]
  },
  {
   "cell_type": "code",
   "execution_count": null,
   "id": "6ca3317d",
   "metadata": {
    "ExecuteTime": {
     "end_time": "2022-12-30T15:50:38.666815Z",
     "start_time": "2022-12-30T15:50:38.666257Z"
    }
   },
   "outputs": [],
   "source": [
    "df.to_csv('datasets/customers.csv')"
   ]
  },
  {
   "cell_type": "code",
   "execution_count": null,
   "id": "6c5a3aab",
   "metadata": {},
   "outputs": [],
   "source": []
  },
  {
   "cell_type": "code",
   "execution_count": null,
   "id": "d120c114",
   "metadata": {},
   "outputs": [],
   "source": []
  }
 ],
 "metadata": {
  "kernelspec": {
   "display_name": "Python 3 (ipykernel)",
   "language": "python",
   "name": "python3"
  },
  "language_info": {
   "codemirror_mode": {
    "name": "ipython",
    "version": 3
   },
   "file_extension": ".py",
   "mimetype": "text/x-python",
   "name": "python",
   "nbconvert_exporter": "python",
   "pygments_lexer": "ipython3",
   "version": "3.8.10"
  },
  "latex_envs": {
   "LaTeX_envs_menu_present": true,
   "autoclose": false,
   "autocomplete": true,
   "bibliofile": "biblio.bib",
   "cite_by": "apalike",
   "current_citInitial": 1,
   "eqLabelWithNumbers": true,
   "eqNumInitial": 1,
   "hotkeys": {
    "equation": "Ctrl-E",
    "itemize": "Ctrl-I"
   },
   "labels_anchors": false,
   "latex_user_defs": false,
   "report_style_numbering": false,
   "user_envs_cfg": false
  },
  "varInspector": {
   "cols": {
    "lenName": 16,
    "lenType": 16,
    "lenVar": 40
   },
   "kernels_config": {
    "python": {
     "delete_cmd_postfix": "",
     "delete_cmd_prefix": "del ",
     "library": "var_list.py",
     "varRefreshCmd": "print(var_dic_list())"
    },
    "r": {
     "delete_cmd_postfix": ") ",
     "delete_cmd_prefix": "rm(",
     "library": "var_list.r",
     "varRefreshCmd": "cat(var_dic_list()) "
    }
   },
   "types_to_exclude": [
    "module",
    "function",
    "builtin_function_or_method",
    "instance",
    "_Feature"
   ],
   "window_display": false
  }
 },
 "nbformat": 4,
 "nbformat_minor": 5
}
