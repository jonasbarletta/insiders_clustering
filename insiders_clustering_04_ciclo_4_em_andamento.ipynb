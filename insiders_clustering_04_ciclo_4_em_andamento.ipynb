{
 "cells": [
  {
   "cell_type": "markdown",
   "id": "b8914dd1",
   "metadata": {
    "heading_collapsed": true
   },
   "source": [
    "# Identificação de Clientes de Alto Valor"
   ]
  },
  {
   "cell_type": "markdown",
   "id": "04913789",
   "metadata": {
    "heading_collapsed": true,
    "hidden": true
   },
   "source": [
    "## Planejamento da Solução"
   ]
  },
  {
   "cell_type": "markdown",
   "id": "ff3aaa70",
   "metadata": {
    "hidden": true
   },
   "source": [
    "### Entrada"
   ]
  },
  {
   "cell_type": "markdown",
   "id": "53c09cc6",
   "metadata": {
    "hidden": true
   },
   "source": [
    "O problema de negócio\n",
    "1. Selecionar os mais valiosos clientes para formar o programa de fidelidade \"INSIDERS\"\n",
    "2. Conjunto de dados com as vendas de produtos durante 1 ano ( Nov 2015 to Dec 2017 )"
   ]
  },
  {
   "cell_type": "markdown",
   "id": "b1b7c7b2",
   "metadata": {
    "hidden": true
   },
   "source": [
    "### Saída"
   ]
  },
  {
   "cell_type": "markdown",
   "id": "b8c159d2",
   "metadata": {
    "hidden": true
   },
   "source": [
    "1. A indicação de pessoas para fazer parte do programa de fidelidade \"INSIDERS\".\n",
    "2. Relatório com as respostas para as seguintes perguntas:\n",
    "- Quem são as pessoas elegíveis para participar do programa de Insiders ?\n",
    "- Quantos clientes farão parte do grupo ?\n",
    "- Quais as principais características desses clientes ?\n",
    "- Qual a porcentagem de contribuição do faturamento, vinda do Insiders ?\n",
    "- Qual a expectativa de faturamento desse grupo para os próximos meses ?\n",
    "- Quais as condições para uma pessoa ser elegível ao Insiders ?\n",
    "- Quais as condições para uma pessoa ser removida do Insiders ?\n",
    "- Qual a garantia que o programa Insiders é melhor que o restante da base ?\n",
    "- Quais ações o time de marketing pode realizar para aumentar o faturamento ?"
   ]
  },
  {
   "cell_type": "markdown",
   "id": "5510a82d",
   "metadata": {
    "hidden": true
   },
   "source": [
    "### Processo"
   ]
  },
  {
   "cell_type": "markdown",
   "id": "da423375",
   "metadata": {
    "hidden": true
   },
   "source": [
    "1. **Quem são as pessoas elegíveis para participar do programa de Insiders ?**\n",
    "    - O que é ser elegível? O que são clientes de maior valor?\n",
    "    - Faturamento:\n",
    "        - Alto Ticket Médio\n",
    "        - Alto LTV (Life Time Value)\n",
    "        - Baixo recência\n",
    "        - Alto basket size (quantidade média de produtos comprados)\n",
    "        - Baixa probabilidade de Churn\n",
    "        - Previsão alta de LTV\n",
    "        - Alta propensão de compra\n",
    "    - Custo:\n",
    "        - Baixa taxa de devolução\n",
    "        \n",
    "    - Experiência:\n",
    "        - Alta média de avaliação\n",
    "2. **Quantos clientes farão parte do grupo?**\n",
    "     - Número de clientes\n",
    "     - Porcentagem do total\n",
    "     \n",
    "3. **Quais as principais características desses clientes ?**\n",
    "    - Escrever os principais atributos dos clientes\n",
    "        - Idade\n",
    "        - Localização\n",
    "        - Salário\n",
    "    - Escrever as principais característica de consumo\n",
    "        - Atributos de Clusterização\n",
    "\n",
    "4. **Qual a porcentagem de contribuição do faturamento, vinda do Insiders ?**\n",
    "    - Faturamento total do ano\n",
    "    - Faturamento do grupo de Insiders\n",
    "\n",
    "5. **Qual a expectativa de faturamento desse grupo para os próximos meses ?**\n",
    "    - LTV do grupo Insiders\n",
    "    - Série temporais (ARMA, ARIMA, HoltWinter, etc)\n",
    "\n",
    "6. **Quais as condições para uma pessoa ser elegível ao Insiders ?**\n",
    "    - Definir a periodicidade (1 mês, 2 meses, 3 meses...)\n",
    "    - A pessoa precisa de parecido/similiar com outras que já estão no grupo\n",
    "\n",
    "7. **Quais as condições para uma pessoa ser removida do Insiders ?**\n",
    "    - Definir a periodicidade (1 mês, 2 meses, 3 meses...)\n",
    "    - A pessoa não ser parecido/similiar com outras que já estão no grupo    \n",
    "\n",
    "8. **Qual a garantia que o programa Insiders é melhor que o restante da base ?**\n",
    "    - Teste A/B\n",
    "    - Teste A/B de Bayesiano\n",
    "    - Teste de hipótese\n",
    "        \n",
    "9. **Quais ações o time de marketing pode realizar para aumentar o faturamento ?**\n",
    "    - Desconto\n",
    "    - Preferências de escolha\n",
    "    - Produtos exclusivos"
   ]
  },
  {
   "cell_type": "markdown",
   "id": "7905b2b3",
   "metadata": {},
   "source": [
    "# Imports"
   ]
  },
  {
   "cell_type": "code",
   "execution_count": 1,
   "id": "032dfa43",
   "metadata": {
    "ExecuteTime": {
     "end_time": "2022-10-20T17:04:54.964734Z",
     "start_time": "2022-10-20T17:04:48.567874Z"
    }
   },
   "outputs": [],
   "source": [
    "import pandas as pd\n",
    "import numpy as np\n",
    "import seaborn as sns\n",
    "import inflection\n",
    "import umap\n",
    "import re\n",
    "\n",
    "import seaborn as sns\n",
    "from matplotlib import pyplot as plt\n",
    "\n",
    "\n",
    "from sklearn.cluster       import KMeans\n",
    "from sklearn.metrics       import silhouette_score\n",
    "from sklearn.preprocessing import StandardScaler\n",
    "from plotly import express as px\n",
    "\n",
    "from yellowbrick.cluster import KElbowVisualizer, SilhouetteVisualizer"
   ]
  },
  {
   "cell_type": "markdown",
   "id": "31e9e005",
   "metadata": {},
   "source": [
    "## Loading"
   ]
  },
  {
   "cell_type": "code",
   "execution_count": 2,
   "id": "08b3b5e8",
   "metadata": {
    "ExecuteTime": {
     "end_time": "2022-10-20T17:04:55.651561Z",
     "start_time": "2022-10-20T17:04:54.976010Z"
    }
   },
   "outputs": [],
   "source": [
    "data = pd.read_csv('datasets/ecommerce.csv', encoding='unicode_escape')"
   ]
  },
  {
   "cell_type": "code",
   "execution_count": 3,
   "id": "4fb3ad85",
   "metadata": {
    "ExecuteTime": {
     "end_time": "2022-10-20T17:04:55.712425Z",
     "start_time": "2022-10-20T17:04:55.679432Z"
    }
   },
   "outputs": [],
   "source": [
    "# drop de coluna\n",
    "data = data.drop('Unnamed: 8', axis=1)"
   ]
  },
  {
   "cell_type": "markdown",
   "id": "fe92817a",
   "metadata": {},
   "source": [
    "# 1 Descrição dos Dados"
   ]
  },
  {
   "cell_type": "code",
   "execution_count": 4,
   "id": "a2e09adc",
   "metadata": {
    "ExecuteTime": {
     "end_time": "2022-10-20T17:04:55.747718Z",
     "start_time": "2022-10-20T17:04:55.734424Z"
    }
   },
   "outputs": [
    {
     "data": {
      "text/html": [
       "<div>\n",
       "<style scoped>\n",
       "    .dataframe tbody tr th:only-of-type {\n",
       "        vertical-align: middle;\n",
       "    }\n",
       "\n",
       "    .dataframe tbody tr th {\n",
       "        vertical-align: top;\n",
       "    }\n",
       "\n",
       "    .dataframe thead th {\n",
       "        text-align: right;\n",
       "    }\n",
       "</style>\n",
       "<table border=\"1\" class=\"dataframe\">\n",
       "  <thead>\n",
       "    <tr style=\"text-align: right;\">\n",
       "      <th></th>\n",
       "      <th>InvoiceNo</th>\n",
       "      <th>StockCode</th>\n",
       "      <th>Description</th>\n",
       "      <th>Quantity</th>\n",
       "      <th>InvoiceDate</th>\n",
       "      <th>UnitPrice</th>\n",
       "      <th>CustomerID</th>\n",
       "      <th>Country</th>\n",
       "    </tr>\n",
       "  </thead>\n",
       "  <tbody>\n",
       "    <tr>\n",
       "      <th>0</th>\n",
       "      <td>536365</td>\n",
       "      <td>85123A</td>\n",
       "      <td>WHITE HANGING HEART T-LIGHT HOLDER</td>\n",
       "      <td>6</td>\n",
       "      <td>29-Nov-16</td>\n",
       "      <td>2.55</td>\n",
       "      <td>17850.0</td>\n",
       "      <td>United Kingdom</td>\n",
       "    </tr>\n",
       "    <tr>\n",
       "      <th>1</th>\n",
       "      <td>536365</td>\n",
       "      <td>71053</td>\n",
       "      <td>WHITE METAL LANTERN</td>\n",
       "      <td>6</td>\n",
       "      <td>29-Nov-16</td>\n",
       "      <td>3.39</td>\n",
       "      <td>17850.0</td>\n",
       "      <td>United Kingdom</td>\n",
       "    </tr>\n",
       "    <tr>\n",
       "      <th>2</th>\n",
       "      <td>536365</td>\n",
       "      <td>84406B</td>\n",
       "      <td>CREAM CUPID HEARTS COAT HANGER</td>\n",
       "      <td>8</td>\n",
       "      <td>29-Nov-16</td>\n",
       "      <td>2.75</td>\n",
       "      <td>17850.0</td>\n",
       "      <td>United Kingdom</td>\n",
       "    </tr>\n",
       "    <tr>\n",
       "      <th>3</th>\n",
       "      <td>536365</td>\n",
       "      <td>84029G</td>\n",
       "      <td>KNITTED UNION FLAG HOT WATER BOTTLE</td>\n",
       "      <td>6</td>\n",
       "      <td>29-Nov-16</td>\n",
       "      <td>3.39</td>\n",
       "      <td>17850.0</td>\n",
       "      <td>United Kingdom</td>\n",
       "    </tr>\n",
       "    <tr>\n",
       "      <th>4</th>\n",
       "      <td>536365</td>\n",
       "      <td>84029E</td>\n",
       "      <td>RED WOOLLY HOTTIE WHITE HEART.</td>\n",
       "      <td>6</td>\n",
       "      <td>29-Nov-16</td>\n",
       "      <td>3.39</td>\n",
       "      <td>17850.0</td>\n",
       "      <td>United Kingdom</td>\n",
       "    </tr>\n",
       "  </tbody>\n",
       "</table>\n",
       "</div>"
      ],
      "text/plain": [
       "  InvoiceNo StockCode                          Description  Quantity  \\\n",
       "0    536365    85123A   WHITE HANGING HEART T-LIGHT HOLDER         6   \n",
       "1    536365     71053                  WHITE METAL LANTERN         6   \n",
       "2    536365    84406B       CREAM CUPID HEARTS COAT HANGER         8   \n",
       "3    536365    84029G  KNITTED UNION FLAG HOT WATER BOTTLE         6   \n",
       "4    536365    84029E       RED WOOLLY HOTTIE WHITE HEART.         6   \n",
       "\n",
       "  InvoiceDate  UnitPrice  CustomerID         Country  \n",
       "0   29-Nov-16       2.55     17850.0  United Kingdom  \n",
       "1   29-Nov-16       3.39     17850.0  United Kingdom  \n",
       "2   29-Nov-16       2.75     17850.0  United Kingdom  \n",
       "3   29-Nov-16       3.39     17850.0  United Kingdom  \n",
       "4   29-Nov-16       3.39     17850.0  United Kingdom  "
      ]
     },
     "execution_count": 4,
     "metadata": {},
     "output_type": "execute_result"
    }
   ],
   "source": [
    "data.head()"
   ]
  },
  {
   "cell_type": "markdown",
   "id": "dab82537",
   "metadata": {},
   "source": [
    "## 1.1 Renomeando as Colunas"
   ]
  },
  {
   "cell_type": "code",
   "execution_count": 5,
   "id": "b2cf5df2",
   "metadata": {
    "ExecuteTime": {
     "end_time": "2022-10-20T17:04:55.783023Z",
     "start_time": "2022-10-20T17:04:55.769367Z"
    }
   },
   "outputs": [
    {
     "data": {
      "text/plain": [
       "Index(['InvoiceNo', 'StockCode', 'Description', 'Quantity', 'InvoiceDate',\n",
       "       'UnitPrice', 'CustomerID', 'Country'],\n",
       "      dtype='object')"
      ]
     },
     "execution_count": 5,
     "metadata": {},
     "output_type": "execute_result"
    }
   ],
   "source": [
    "data.columns"
   ]
  },
  {
   "cell_type": "code",
   "execution_count": 6,
   "id": "90deaa12",
   "metadata": {
    "ExecuteTime": {
     "end_time": "2022-10-20T17:04:55.808675Z",
     "start_time": "2022-10-20T17:04:55.805156Z"
    }
   },
   "outputs": [],
   "source": [
    "old_cols = list(data.columns)\n",
    "\n",
    "new_cols = []\n",
    "\n",
    "for c in old_cols:\n",
    "    new_cols.append(inflection.underscore(c))\n",
    "\n",
    "data.columns = new_cols"
   ]
  },
  {
   "cell_type": "code",
   "execution_count": 7,
   "id": "305bd33a",
   "metadata": {
    "ExecuteTime": {
     "end_time": "2022-10-20T17:04:55.836326Z",
     "start_time": "2022-10-20T17:04:55.832427Z"
    }
   },
   "outputs": [
    {
     "data": {
      "text/plain": [
       "Index(['invoice_no', 'stock_code', 'description', 'quantity', 'invoice_date',\n",
       "       'unit_price', 'customer_id', 'country'],\n",
       "      dtype='object')"
      ]
     },
     "execution_count": 7,
     "metadata": {},
     "output_type": "execute_result"
    }
   ],
   "source": [
    "data.columns"
   ]
  },
  {
   "cell_type": "markdown",
   "id": "b00a1d40",
   "metadata": {},
   "source": [
    "## 1.2 Tamanho do Conjunto de Dados "
   ]
  },
  {
   "cell_type": "code",
   "execution_count": 8,
   "id": "303ee75c",
   "metadata": {
    "ExecuteTime": {
     "end_time": "2022-10-20T17:04:55.866168Z",
     "start_time": "2022-10-20T17:04:55.863204Z"
    }
   },
   "outputs": [
    {
     "name": "stdout",
     "output_type": "stream",
     "text": [
      "Linhas: 541909\n",
      "Colunas: 8\n"
     ]
    }
   ],
   "source": [
    "print(f'Linhas: {data.shape[0]}')\n",
    "print(f'Colunas: {data.shape[1]}')"
   ]
  },
  {
   "cell_type": "markdown",
   "id": "83341fd7",
   "metadata": {},
   "source": [
    "## 1.3 Tipos dos Dados"
   ]
  },
  {
   "cell_type": "code",
   "execution_count": 9,
   "id": "05abf94b",
   "metadata": {
    "ExecuteTime": {
     "end_time": "2022-10-20T17:04:55.892211Z",
     "start_time": "2022-10-20T17:04:55.887957Z"
    }
   },
   "outputs": [
    {
     "data": {
      "text/plain": [
       "invoice_no       object\n",
       "stock_code       object\n",
       "description      object\n",
       "quantity          int64\n",
       "invoice_date     object\n",
       "unit_price      float64\n",
       "customer_id     float64\n",
       "country          object\n",
       "dtype: object"
      ]
     },
     "execution_count": 9,
     "metadata": {},
     "output_type": "execute_result"
    }
   ],
   "source": [
    "data.dtypes"
   ]
  },
  {
   "cell_type": "markdown",
   "id": "5af17fb0",
   "metadata": {},
   "source": [
    "## 1.4 Check NA"
   ]
  },
  {
   "cell_type": "code",
   "execution_count": 10,
   "id": "b93a06d5",
   "metadata": {
    "ExecuteTime": {
     "end_time": "2022-10-20T17:04:56.200297Z",
     "start_time": "2022-10-20T17:04:55.918615Z"
    }
   },
   "outputs": [
    {
     "name": "stdout",
     "output_type": "stream",
     "text": [
      "<class 'pandas.core.frame.DataFrame'>\n",
      "RangeIndex: 541909 entries, 0 to 541908\n",
      "Data columns (total 8 columns):\n",
      " #   Column        Non-Null Count   Dtype  \n",
      "---  ------        --------------   -----  \n",
      " 0   invoice_no    541909 non-null  object \n",
      " 1   stock_code    541909 non-null  object \n",
      " 2   description   540455 non-null  object \n",
      " 3   quantity      541909 non-null  int64  \n",
      " 4   invoice_date  541909 non-null  object \n",
      " 5   unit_price    541909 non-null  float64\n",
      " 6   customer_id   406829 non-null  float64\n",
      " 7   country       541909 non-null  object \n",
      "dtypes: float64(2), int64(1), object(5)\n",
      "memory usage: 33.1+ MB\n"
     ]
    }
   ],
   "source": [
    "data.info()"
   ]
  },
  {
   "cell_type": "code",
   "execution_count": 11,
   "id": "85a49638",
   "metadata": {
    "ExecuteTime": {
     "end_time": "2022-10-20T17:04:56.495262Z",
     "start_time": "2022-10-20T17:04:56.221436Z"
    }
   },
   "outputs": [
    {
     "data": {
      "text/plain": [
       "invoice_no           0\n",
       "stock_code           0\n",
       "description       1454\n",
       "quantity             0\n",
       "invoice_date         0\n",
       "unit_price           0\n",
       "customer_id     135080\n",
       "country              0\n",
       "dtype: int64"
      ]
     },
     "execution_count": 11,
     "metadata": {},
     "output_type": "execute_result"
    }
   ],
   "source": [
    "data.isnull().sum()"
   ]
  },
  {
   "cell_type": "markdown",
   "id": "2b72ed6c",
   "metadata": {},
   "source": [
    "## 1.5 Replace NA's"
   ]
  },
  {
   "cell_type": "markdown",
   "id": "72e4fa63",
   "metadata": {},
   "source": [
    "Para preencher os 'customer_id' faltantes e não perder todas as informações dessas 135080 linhas do DF faremos o seguinte:\n",
    "Cada compra que não possui customer_id faremos uma associação com invoice_no, de tal forma que cada invoice_no será associado a um customer_id novo."
   ]
  },
  {
   "cell_type": "code",
   "execution_count": 12,
   "id": "bb4e00f5",
   "metadata": {
    "ExecuteTime": {
     "end_time": "2022-10-20T17:04:56.524257Z",
     "start_time": "2022-10-20T17:04:56.516118Z"
    }
   },
   "outputs": [
    {
     "data": {
      "text/plain": [
       "18287.0"
      ]
     },
     "execution_count": 12,
     "metadata": {},
     "output_type": "execute_result"
    }
   ],
   "source": [
    "# customer_id max\n",
    "data['customer_id'].max()"
   ]
  },
  {
   "cell_type": "markdown",
   "id": "d58024cd",
   "metadata": {},
   "source": [
    "Os novos customer_id serão maiores que 18287, vamos começar a partir de 18500. Assim garantiremos que não haverá repetição de customer_id"
   ]
  },
  {
   "cell_type": "code",
   "execution_count": 13,
   "id": "881dff18",
   "metadata": {
    "ExecuteTime": {
     "end_time": "2022-10-20T17:04:56.579967Z",
     "start_time": "2022-10-20T17:04:56.547235Z"
    }
   },
   "outputs": [],
   "source": [
    "# criação de um dicionário com os novos customer_id {'invoice_no': novo_customer_id}\n",
    "invoice_customer_id_null = list(data[data['customer_id'].isna()]['invoice_no'].drop_duplicates())\n",
    "\n",
    "customer_id_null_dic = {}\n",
    "new_customer_id = 18500\n",
    "for invoice in invoice_customer_id_null:\n",
    "    customer_id_null_dic[invoice] = new_customer_id\n",
    "    new_customer_id += 1\n"
   ]
  },
  {
   "cell_type": "code",
   "execution_count": 14,
   "id": "1d6db5a1",
   "metadata": {
    "ExecuteTime": {
     "end_time": "2022-10-20T17:05:00.660589Z",
     "start_time": "2022-10-20T17:04:56.609000Z"
    }
   },
   "outputs": [],
   "source": [
    "# Nova coluna de customer_id, com invoice_no no lugar do customer_id\n",
    "data['new_customer_id'] = data[['invoice_no', 'customer_id']].apply(lambda x: x['invoice_no'] if \n",
    "                                          np.isnan(x['customer_id']) == True else np.nan, axis=1)"
   ]
  },
  {
   "cell_type": "code",
   "execution_count": 15,
   "id": "292360bd",
   "metadata": {
    "ExecuteTime": {
     "end_time": "2022-10-20T17:05:00.695773Z",
     "start_time": "2022-10-20T17:05:00.686203Z"
    },
    "scrolled": true
   },
   "outputs": [
    {
     "data": {
      "text/html": [
       "<div>\n",
       "<style scoped>\n",
       "    .dataframe tbody tr th:only-of-type {\n",
       "        vertical-align: middle;\n",
       "    }\n",
       "\n",
       "    .dataframe tbody tr th {\n",
       "        vertical-align: top;\n",
       "    }\n",
       "\n",
       "    .dataframe thead th {\n",
       "        text-align: right;\n",
       "    }\n",
       "</style>\n",
       "<table border=\"1\" class=\"dataframe\">\n",
       "  <thead>\n",
       "    <tr style=\"text-align: right;\">\n",
       "      <th></th>\n",
       "      <th>invoice_no</th>\n",
       "      <th>stock_code</th>\n",
       "      <th>description</th>\n",
       "      <th>quantity</th>\n",
       "      <th>invoice_date</th>\n",
       "      <th>unit_price</th>\n",
       "      <th>customer_id</th>\n",
       "      <th>country</th>\n",
       "      <th>new_customer_id</th>\n",
       "    </tr>\n",
       "  </thead>\n",
       "  <tbody>\n",
       "    <tr>\n",
       "      <th>0</th>\n",
       "      <td>536365</td>\n",
       "      <td>85123A</td>\n",
       "      <td>WHITE HANGING HEART T-LIGHT HOLDER</td>\n",
       "      <td>6</td>\n",
       "      <td>29-Nov-16</td>\n",
       "      <td>2.55</td>\n",
       "      <td>17850.0</td>\n",
       "      <td>United Kingdom</td>\n",
       "      <td>NaN</td>\n",
       "    </tr>\n",
       "    <tr>\n",
       "      <th>1</th>\n",
       "      <td>536365</td>\n",
       "      <td>71053</td>\n",
       "      <td>WHITE METAL LANTERN</td>\n",
       "      <td>6</td>\n",
       "      <td>29-Nov-16</td>\n",
       "      <td>3.39</td>\n",
       "      <td>17850.0</td>\n",
       "      <td>United Kingdom</td>\n",
       "      <td>NaN</td>\n",
       "    </tr>\n",
       "    <tr>\n",
       "      <th>2</th>\n",
       "      <td>536365</td>\n",
       "      <td>84406B</td>\n",
       "      <td>CREAM CUPID HEARTS COAT HANGER</td>\n",
       "      <td>8</td>\n",
       "      <td>29-Nov-16</td>\n",
       "      <td>2.75</td>\n",
       "      <td>17850.0</td>\n",
       "      <td>United Kingdom</td>\n",
       "      <td>NaN</td>\n",
       "    </tr>\n",
       "    <tr>\n",
       "      <th>3</th>\n",
       "      <td>536365</td>\n",
       "      <td>84029G</td>\n",
       "      <td>KNITTED UNION FLAG HOT WATER BOTTLE</td>\n",
       "      <td>6</td>\n",
       "      <td>29-Nov-16</td>\n",
       "      <td>3.39</td>\n",
       "      <td>17850.0</td>\n",
       "      <td>United Kingdom</td>\n",
       "      <td>NaN</td>\n",
       "    </tr>\n",
       "    <tr>\n",
       "      <th>4</th>\n",
       "      <td>536365</td>\n",
       "      <td>84029E</td>\n",
       "      <td>RED WOOLLY HOTTIE WHITE HEART.</td>\n",
       "      <td>6</td>\n",
       "      <td>29-Nov-16</td>\n",
       "      <td>3.39</td>\n",
       "      <td>17850.0</td>\n",
       "      <td>United Kingdom</td>\n",
       "      <td>NaN</td>\n",
       "    </tr>\n",
       "  </tbody>\n",
       "</table>\n",
       "</div>"
      ],
      "text/plain": [
       "  invoice_no stock_code                          description  quantity  \\\n",
       "0     536365     85123A   WHITE HANGING HEART T-LIGHT HOLDER         6   \n",
       "1     536365      71053                  WHITE METAL LANTERN         6   \n",
       "2     536365     84406B       CREAM CUPID HEARTS COAT HANGER         8   \n",
       "3     536365     84029G  KNITTED UNION FLAG HOT WATER BOTTLE         6   \n",
       "4     536365     84029E       RED WOOLLY HOTTIE WHITE HEART.         6   \n",
       "\n",
       "  invoice_date  unit_price  customer_id         country new_customer_id  \n",
       "0    29-Nov-16        2.55      17850.0  United Kingdom             NaN  \n",
       "1    29-Nov-16        3.39      17850.0  United Kingdom             NaN  \n",
       "2    29-Nov-16        2.75      17850.0  United Kingdom             NaN  \n",
       "3    29-Nov-16        3.39      17850.0  United Kingdom             NaN  \n",
       "4    29-Nov-16        3.39      17850.0  United Kingdom             NaN  "
      ]
     },
     "execution_count": 15,
     "metadata": {},
     "output_type": "execute_result"
    }
   ],
   "source": [
    "data.head()"
   ]
  },
  {
   "cell_type": "code",
   "execution_count": 16,
   "id": "dcdbeede",
   "metadata": {
    "ExecuteTime": {
     "end_time": "2022-10-20T17:05:00.752228Z",
     "start_time": "2022-10-20T17:05:00.729812Z"
    }
   },
   "outputs": [],
   "source": [
    "# faz a troca de cada invoice_no pelo novo customer_id com o dicionário criado\n",
    "data['new_customer_id'] = data['new_customer_id'].map(customer_id_null_dic)"
   ]
  },
  {
   "cell_type": "code",
   "execution_count": 17,
   "id": "8cfc4aae",
   "metadata": {
    "ExecuteTime": {
     "end_time": "2022-10-20T17:05:05.740469Z",
     "start_time": "2022-10-20T17:05:00.778095Z"
    }
   },
   "outputs": [],
   "source": [
    "# junta as colunas customer_id e new_customer_id em uma só\n",
    "data['customer_id'] = data[['customer_id', 'new_customer_id']].apply(lambda x: x['new_customer_id'] \n",
    "                                                                     if np.isnan(x['customer_id'])  == True \n",
    "                                                                     else x['customer_id'] , axis=1)"
   ]
  },
  {
   "cell_type": "code",
   "execution_count": 18,
   "id": "c6ccf09c",
   "metadata": {
    "ExecuteTime": {
     "end_time": "2022-10-20T17:05:06.400317Z",
     "start_time": "2022-10-20T17:05:06.356528Z"
    }
   },
   "outputs": [],
   "source": [
    "# drop new_customer_id\n",
    "data = data.drop('new_customer_id', axis=1)"
   ]
  },
  {
   "cell_type": "code",
   "execution_count": 19,
   "id": "1f682b84",
   "metadata": {
    "ExecuteTime": {
     "end_time": "2022-10-20T17:05:07.686865Z",
     "start_time": "2022-10-20T17:05:07.394676Z"
    },
    "scrolled": true
   },
   "outputs": [
    {
     "data": {
      "text/plain": [
       "invoice_no         0\n",
       "stock_code         0\n",
       "description     1454\n",
       "quantity           0\n",
       "invoice_date       0\n",
       "unit_price         0\n",
       "customer_id        0\n",
       "country            0\n",
       "dtype: int64"
      ]
     },
     "execution_count": 19,
     "metadata": {},
     "output_type": "execute_result"
    }
   ],
   "source": [
    "data.isnull().sum()"
   ]
  },
  {
   "cell_type": "markdown",
   "id": "38d6dd57",
   "metadata": {},
   "source": [
    "## 1.6 Troca dos Tipos dos Dados"
   ]
  },
  {
   "cell_type": "code",
   "execution_count": 20,
   "id": "0edcdf87",
   "metadata": {
    "ExecuteTime": {
     "end_time": "2022-10-20T17:05:24.215112Z",
     "start_time": "2022-10-20T17:05:24.135862Z"
    }
   },
   "outputs": [],
   "source": [
    "# invoice_date\n",
    "data['invoice_date'] = pd.to_datetime(data['invoice_date'], format='%d-%b-%y')\n",
    "\n",
    "# customer_id\n",
    "data['customer_id'] = data['customer_id'].astype('int64')\n"
   ]
  },
  {
   "cell_type": "markdown",
   "id": "30040c4e",
   "metadata": {},
   "source": [
    "## 1.7 Estatística Descritiva"
   ]
  },
  {
   "cell_type": "code",
   "execution_count": 21,
   "id": "bf51614f",
   "metadata": {
    "ExecuteTime": {
     "end_time": "2022-10-20T17:05:27.904941Z",
     "start_time": "2022-10-20T17:05:27.876197Z"
    }
   },
   "outputs": [],
   "source": [
    "num_attributes = data.select_dtypes(include=['int64', 'float64'])\n",
    "cat_attributes = data.select_dtypes(include=['object'])"
   ]
  },
  {
   "cell_type": "markdown",
   "id": "f8922d4e",
   "metadata": {},
   "source": [
    "## 1.7.1 Atributos Numéricos"
   ]
  },
  {
   "cell_type": "code",
   "execution_count": 22,
   "id": "980f2263",
   "metadata": {
    "ExecuteTime": {
     "end_time": "2022-10-20T17:05:29.127781Z",
     "start_time": "2022-10-20T17:05:29.012562Z"
    }
   },
   "outputs": [],
   "source": [
    "# Medidas de Tedência Central - Média e Mediana\n",
    "tc1 = pd.DataFrame(num_attributes.apply(np.mean)).T\n",
    "tc2 = pd.DataFrame(num_attributes.apply(np.median)).T\n",
    "\n",
    "# Medidas de Dispersão - Desvio Padrão, Mínimo, Máximo, Range, Assimetria (skew) e Curtose\n",
    "d1 = pd.DataFrame(num_attributes.apply(np.std)).T\n",
    "d2 = pd.DataFrame(num_attributes.apply(np.min)).T\n",
    "d3 = pd.DataFrame(num_attributes.apply(np.max)).T\n",
    "d4 = pd.DataFrame(num_attributes.apply(lambda x:  np.max(x) - np.min(x))).T\n",
    "d5 = pd.DataFrame(num_attributes.apply(lambda x: x.skew())).T\n",
    "d6 = pd.DataFrame(num_attributes.apply(lambda x: x.kurtosis())).T\n",
    "\n",
    "# Concatenar\n",
    "est_desc_num = pd.concat([d2, d3, d4, tc1, tc2, d1, d5, d6]).T.reset_index()\n",
    "\n",
    "# Renomear\n",
    "est_desc_num.columns = ['attribute', 'min', 'max', 'range', 'media', 'mediana', 'std', 'skew', 'kurtosis']"
   ]
  },
  {
   "cell_type": "code",
   "execution_count": 24,
   "id": "7fb947aa",
   "metadata": {
    "ExecuteTime": {
     "end_time": "2022-10-20T17:07:29.723244Z",
     "start_time": "2022-10-20T17:07:29.702319Z"
    }
   },
   "outputs": [
    {
     "data": {
      "text/html": [
       "<div>\n",
       "<style scoped>\n",
       "    .dataframe tbody tr th:only-of-type {\n",
       "        vertical-align: middle;\n",
       "    }\n",
       "\n",
       "    .dataframe tbody tr th {\n",
       "        vertical-align: top;\n",
       "    }\n",
       "\n",
       "    .dataframe thead th {\n",
       "        text-align: right;\n",
       "    }\n",
       "</style>\n",
       "<table border=\"1\" class=\"dataframe\">\n",
       "  <thead>\n",
       "    <tr style=\"text-align: right;\">\n",
       "      <th></th>\n",
       "      <th>attribute</th>\n",
       "      <th>min</th>\n",
       "      <th>max</th>\n",
       "      <th>range</th>\n",
       "      <th>media</th>\n",
       "      <th>mediana</th>\n",
       "      <th>std</th>\n",
       "      <th>skew</th>\n",
       "      <th>kurtosis</th>\n",
       "    </tr>\n",
       "  </thead>\n",
       "  <tbody>\n",
       "    <tr>\n",
       "      <th>0</th>\n",
       "      <td>quantity</td>\n",
       "      <td>-80995.00</td>\n",
       "      <td>80995.0</td>\n",
       "      <td>161990.00</td>\n",
       "      <td>9.552250</td>\n",
       "      <td>3.00</td>\n",
       "      <td>218.080957</td>\n",
       "      <td>-0.264076</td>\n",
       "      <td>119769.160031</td>\n",
       "    </tr>\n",
       "    <tr>\n",
       "      <th>1</th>\n",
       "      <td>unit_price</td>\n",
       "      <td>-11062.06</td>\n",
       "      <td>38970.0</td>\n",
       "      <td>50032.06</td>\n",
       "      <td>4.611114</td>\n",
       "      <td>2.08</td>\n",
       "      <td>96.759764</td>\n",
       "      <td>186.506972</td>\n",
       "      <td>59005.719097</td>\n",
       "    </tr>\n",
       "    <tr>\n",
       "      <th>2</th>\n",
       "      <td>customer_id</td>\n",
       "      <td>12346.00</td>\n",
       "      <td>22209.0</td>\n",
       "      <td>9863.00</td>\n",
       "      <td>16564.206981</td>\n",
       "      <td>16249.00</td>\n",
       "      <td>2733.348518</td>\n",
       "      <td>0.410621</td>\n",
       "      <td>-0.824543</td>\n",
       "    </tr>\n",
       "  </tbody>\n",
       "</table>\n",
       "</div>"
      ],
      "text/plain": [
       "     attribute       min      max      range         media   mediana  \\\n",
       "0     quantity -80995.00  80995.0  161990.00      9.552250      3.00   \n",
       "1   unit_price -11062.06  38970.0   50032.06      4.611114      2.08   \n",
       "2  customer_id  12346.00  22209.0    9863.00  16564.206981  16249.00   \n",
       "\n",
       "           std        skew       kurtosis  \n",
       "0   218.080957   -0.264076  119769.160031  \n",
       "1    96.759764  186.506972   59005.719097  \n",
       "2  2733.348518    0.410621      -0.824543  "
      ]
     },
     "execution_count": 24,
     "metadata": {},
     "output_type": "execute_result"
    }
   ],
   "source": [
    "est_desc_num"
   ]
  },
  {
   "cell_type": "markdown",
   "id": "dcd41376",
   "metadata": {},
   "source": [
    "#### 1.7.1.1 Investigando os atributos numéricos"
   ]
  },
  {
   "cell_type": "markdown",
   "id": "37386035",
   "metadata": {},
   "source": [
    "Coisas que estão estranhas:\n",
    "- Quantidade negativa (pode ser devolução)\n",
    "- Preço unitário igual a zero (pode ser promoção/brinde)"
   ]
  },
  {
   "cell_type": "markdown",
   "id": "77b4eb0d",
   "metadata": {},
   "source": [
    "### 1.7.2 Atributos Categóricos"
   ]
  },
  {
   "cell_type": "code",
   "execution_count": 25,
   "id": "f9d86760",
   "metadata": {
    "ExecuteTime": {
     "end_time": "2022-10-20T17:07:32.101046Z",
     "start_time": "2022-10-20T17:07:32.093550Z"
    },
    "scrolled": true
   },
   "outputs": [
    {
     "data": {
      "text/html": [
       "<div>\n",
       "<style scoped>\n",
       "    .dataframe tbody tr th:only-of-type {\n",
       "        vertical-align: middle;\n",
       "    }\n",
       "\n",
       "    .dataframe tbody tr th {\n",
       "        vertical-align: top;\n",
       "    }\n",
       "\n",
       "    .dataframe thead th {\n",
       "        text-align: right;\n",
       "    }\n",
       "</style>\n",
       "<table border=\"1\" class=\"dataframe\">\n",
       "  <thead>\n",
       "    <tr style=\"text-align: right;\">\n",
       "      <th></th>\n",
       "      <th>invoice_no</th>\n",
       "      <th>stock_code</th>\n",
       "      <th>description</th>\n",
       "      <th>country</th>\n",
       "    </tr>\n",
       "  </thead>\n",
       "  <tbody>\n",
       "    <tr>\n",
       "      <th>0</th>\n",
       "      <td>536365</td>\n",
       "      <td>85123A</td>\n",
       "      <td>WHITE HANGING HEART T-LIGHT HOLDER</td>\n",
       "      <td>United Kingdom</td>\n",
       "    </tr>\n",
       "    <tr>\n",
       "      <th>1</th>\n",
       "      <td>536365</td>\n",
       "      <td>71053</td>\n",
       "      <td>WHITE METAL LANTERN</td>\n",
       "      <td>United Kingdom</td>\n",
       "    </tr>\n",
       "    <tr>\n",
       "      <th>2</th>\n",
       "      <td>536365</td>\n",
       "      <td>84406B</td>\n",
       "      <td>CREAM CUPID HEARTS COAT HANGER</td>\n",
       "      <td>United Kingdom</td>\n",
       "    </tr>\n",
       "    <tr>\n",
       "      <th>3</th>\n",
       "      <td>536365</td>\n",
       "      <td>84029G</td>\n",
       "      <td>KNITTED UNION FLAG HOT WATER BOTTLE</td>\n",
       "      <td>United Kingdom</td>\n",
       "    </tr>\n",
       "    <tr>\n",
       "      <th>4</th>\n",
       "      <td>536365</td>\n",
       "      <td>84029E</td>\n",
       "      <td>RED WOOLLY HOTTIE WHITE HEART.</td>\n",
       "      <td>United Kingdom</td>\n",
       "    </tr>\n",
       "  </tbody>\n",
       "</table>\n",
       "</div>"
      ],
      "text/plain": [
       "  invoice_no stock_code                          description         country\n",
       "0     536365     85123A   WHITE HANGING HEART T-LIGHT HOLDER  United Kingdom\n",
       "1     536365      71053                  WHITE METAL LANTERN  United Kingdom\n",
       "2     536365     84406B       CREAM CUPID HEARTS COAT HANGER  United Kingdom\n",
       "3     536365     84029G  KNITTED UNION FLAG HOT WATER BOTTLE  United Kingdom\n",
       "4     536365     84029E       RED WOOLLY HOTTIE WHITE HEART.  United Kingdom"
      ]
     },
     "execution_count": 25,
     "metadata": {},
     "output_type": "execute_result"
    }
   ],
   "source": [
    "cat_attributes.head()"
   ]
  },
  {
   "cell_type": "markdown",
   "id": "2d54f557",
   "metadata": {},
   "source": [
    "#### 1.7.2.1 Invoice_no"
   ]
  },
  {
   "cell_type": "code",
   "execution_count": 26,
   "id": "e837eca2",
   "metadata": {
    "ExecuteTime": {
     "end_time": "2022-10-20T17:07:35.209425Z",
     "start_time": "2022-10-20T17:07:34.754497Z"
    }
   },
   "outputs": [
    {
     "data": {
      "text/plain": [
       "{'A', 'C'}"
      ]
     },
     "execution_count": 26,
     "metadata": {},
     "output_type": "execute_result"
    }
   ],
   "source": [
    "lista = []\n",
    "for c in data.loc[data['invoice_no'].apply(lambda x: bool(re.search('[a-zA-Z]+', x))), 'invoice_no'].unique():\n",
    "    lista.append(c[0])\n",
    "set(lista)"
   ]
  },
  {
   "cell_type": "markdown",
   "id": "8e17c0b0",
   "metadata": {
    "ExecuteTime": {
     "end_time": "2022-10-10T19:53:48.905919Z",
     "start_time": "2022-10-10T19:53:48.900152Z"
    }
   },
   "source": [
    "Todos os invoice_no que começam com a letra 'C' possuem quantity negativo. Isso pode significar 'Cancel', 'Change' ou 'Chargeback'."
   ]
  },
  {
   "cell_type": "code",
   "execution_count": 34,
   "id": "aecf2c21",
   "metadata": {
    "ExecuteTime": {
     "end_time": "2022-10-20T17:14:27.396751Z",
     "start_time": "2022-10-20T17:14:27.061719Z"
    }
   },
   "outputs": [
    {
     "data": {
      "text/html": [
       "<div>\n",
       "<style scoped>\n",
       "    .dataframe tbody tr th:only-of-type {\n",
       "        vertical-align: middle;\n",
       "    }\n",
       "\n",
       "    .dataframe tbody tr th {\n",
       "        vertical-align: top;\n",
       "    }\n",
       "\n",
       "    .dataframe thead th {\n",
       "        text-align: right;\n",
       "    }\n",
       "</style>\n",
       "<table border=\"1\" class=\"dataframe\">\n",
       "  <thead>\n",
       "    <tr style=\"text-align: right;\">\n",
       "      <th></th>\n",
       "      <th>invoice_no</th>\n",
       "      <th>stock_code</th>\n",
       "      <th>description</th>\n",
       "      <th>quantity</th>\n",
       "      <th>invoice_date</th>\n",
       "      <th>unit_price</th>\n",
       "      <th>customer_id</th>\n",
       "      <th>country</th>\n",
       "    </tr>\n",
       "  </thead>\n",
       "  <tbody>\n",
       "    <tr>\n",
       "      <th>299982</th>\n",
       "      <td>A563185</td>\n",
       "      <td>B</td>\n",
       "      <td>Adjust bad debt</td>\n",
       "      <td>1</td>\n",
       "      <td>2017-08-10</td>\n",
       "      <td>11062.06</td>\n",
       "      <td>20997</td>\n",
       "      <td>United Kingdom</td>\n",
       "    </tr>\n",
       "    <tr>\n",
       "      <th>299983</th>\n",
       "      <td>A563186</td>\n",
       "      <td>B</td>\n",
       "      <td>Adjust bad debt</td>\n",
       "      <td>1</td>\n",
       "      <td>2017-08-10</td>\n",
       "      <td>-11062.06</td>\n",
       "      <td>20998</td>\n",
       "      <td>United Kingdom</td>\n",
       "    </tr>\n",
       "    <tr>\n",
       "      <th>299984</th>\n",
       "      <td>A563187</td>\n",
       "      <td>B</td>\n",
       "      <td>Adjust bad debt</td>\n",
       "      <td>1</td>\n",
       "      <td>2017-08-10</td>\n",
       "      <td>-11062.06</td>\n",
       "      <td>20999</td>\n",
       "      <td>United Kingdom</td>\n",
       "    </tr>\n",
       "  </tbody>\n",
       "</table>\n",
       "</div>"
      ],
      "text/plain": [
       "       invoice_no stock_code      description  quantity invoice_date  \\\n",
       "299982    A563185          B  Adjust bad debt         1   2017-08-10   \n",
       "299983    A563186          B  Adjust bad debt         1   2017-08-10   \n",
       "299984    A563187          B  Adjust bad debt         1   2017-08-10   \n",
       "\n",
       "        unit_price  customer_id         country  \n",
       "299982    11062.06        20997  United Kingdom  \n",
       "299983   -11062.06        20998  United Kingdom  \n",
       "299984   -11062.06        20999  United Kingdom  "
      ]
     },
     "execution_count": 34,
     "metadata": {},
     "output_type": "execute_result"
    }
   ],
   "source": [
    "data.loc[data['invoice_no'].apply(lambda x: bool(re.search('A.', x))), :]"
   ]
  },
  {
   "cell_type": "code",
   "execution_count": 35,
   "id": "8fd1cba0",
   "metadata": {
    "ExecuteTime": {
     "end_time": "2022-10-20T17:15:18.968087Z",
     "start_time": "2022-10-20T17:15:18.958432Z"
    }
   },
   "outputs": [
    {
     "data": {
      "text/html": [
       "<div>\n",
       "<style scoped>\n",
       "    .dataframe tbody tr th:only-of-type {\n",
       "        vertical-align: middle;\n",
       "    }\n",
       "\n",
       "    .dataframe tbody tr th {\n",
       "        vertical-align: top;\n",
       "    }\n",
       "\n",
       "    .dataframe thead th {\n",
       "        text-align: right;\n",
       "    }\n",
       "</style>\n",
       "<table border=\"1\" class=\"dataframe\">\n",
       "  <thead>\n",
       "    <tr style=\"text-align: right;\">\n",
       "      <th></th>\n",
       "      <th>invoice_no</th>\n",
       "      <th>stock_code</th>\n",
       "      <th>description</th>\n",
       "      <th>quantity</th>\n",
       "      <th>invoice_date</th>\n",
       "      <th>unit_price</th>\n",
       "      <th>customer_id</th>\n",
       "      <th>country</th>\n",
       "    </tr>\n",
       "  </thead>\n",
       "  <tbody>\n",
       "    <tr>\n",
       "      <th>299983</th>\n",
       "      <td>A563186</td>\n",
       "      <td>B</td>\n",
       "      <td>Adjust bad debt</td>\n",
       "      <td>1</td>\n",
       "      <td>2017-08-10</td>\n",
       "      <td>-11062.06</td>\n",
       "      <td>20998</td>\n",
       "      <td>United Kingdom</td>\n",
       "    </tr>\n",
       "    <tr>\n",
       "      <th>299984</th>\n",
       "      <td>A563187</td>\n",
       "      <td>B</td>\n",
       "      <td>Adjust bad debt</td>\n",
       "      <td>1</td>\n",
       "      <td>2017-08-10</td>\n",
       "      <td>-11062.06</td>\n",
       "      <td>20999</td>\n",
       "      <td>United Kingdom</td>\n",
       "    </tr>\n",
       "  </tbody>\n",
       "</table>\n",
       "</div>"
      ],
      "text/plain": [
       "       invoice_no stock_code      description  quantity invoice_date  \\\n",
       "299983    A563186          B  Adjust bad debt         1   2017-08-10   \n",
       "299984    A563187          B  Adjust bad debt         1   2017-08-10   \n",
       "\n",
       "        unit_price  customer_id         country  \n",
       "299983   -11062.06        20998  United Kingdom  \n",
       "299984   -11062.06        20999  United Kingdom  "
      ]
     },
     "execution_count": 35,
     "metadata": {},
     "output_type": "execute_result"
    }
   ],
   "source": [
    "data[data['unit_price'] < 0]"
   ]
  },
  {
   "cell_type": "markdown",
   "id": "c7f23992",
   "metadata": {},
   "source": [
    "Todos os inovice_no que começam com 'A' são descritos como 'Adjust bad debt' e 2 deles possuem unit_price negativo. São apenas três linhas, excluiremos esses dados."
   ]
  },
  {
   "cell_type": "code",
   "execution_count": 39,
   "id": "19721834",
   "metadata": {
    "ExecuteTime": {
     "end_time": "2022-10-20T19:07:18.607996Z",
     "start_time": "2022-10-20T19:07:18.542743Z"
    }
   },
   "outputs": [
    {
     "data": {
      "text/html": [
       "<div>\n",
       "<style scoped>\n",
       "    .dataframe tbody tr th:only-of-type {\n",
       "        vertical-align: middle;\n",
       "    }\n",
       "\n",
       "    .dataframe tbody tr th {\n",
       "        vertical-align: top;\n",
       "    }\n",
       "\n",
       "    .dataframe thead th {\n",
       "        text-align: right;\n",
       "    }\n",
       "</style>\n",
       "<table border=\"1\" class=\"dataframe\">\n",
       "  <thead>\n",
       "    <tr style=\"text-align: right;\">\n",
       "      <th></th>\n",
       "      <th>stock_code</th>\n",
       "      <th>quantity</th>\n",
       "    </tr>\n",
       "  </thead>\n",
       "  <tbody>\n",
       "    <tr>\n",
       "      <th>3</th>\n",
       "      <td>10123C</td>\n",
       "      <td>-13</td>\n",
       "    </tr>\n",
       "    <tr>\n",
       "      <th>4</th>\n",
       "      <td>10123G</td>\n",
       "      <td>-38</td>\n",
       "    </tr>\n",
       "    <tr>\n",
       "      <th>9</th>\n",
       "      <td>10134</td>\n",
       "      <td>-19</td>\n",
       "    </tr>\n",
       "    <tr>\n",
       "      <th>46</th>\n",
       "      <td>16053</td>\n",
       "      <td>-102</td>\n",
       "    </tr>\n",
       "    <tr>\n",
       "      <th>55</th>\n",
       "      <td>16162L</td>\n",
       "      <td>-4</td>\n",
       "    </tr>\n",
       "  </tbody>\n",
       "</table>\n",
       "</div>"
      ],
      "text/plain": [
       "   stock_code  quantity\n",
       "3      10123C       -13\n",
       "4      10123G       -38\n",
       "9       10134       -19\n",
       "46      16053      -102\n",
       "55     16162L        -4"
      ]
     },
     "execution_count": 39,
     "metadata": {},
     "output_type": "execute_result"
    }
   ],
   "source": [
    "df_stock = data[['stock_code', 'quantity']].groupby('stock_code').sum().reset_index()\n",
    "df_stock[df_stock['quantity'] < 0].head()"
   ]
  },
  {
   "cell_type": "markdown",
   "id": "4c7a628b",
   "metadata": {},
   "source": [
    "Existem  produtos que foram mais Cancelados ou Trocados do que comprados.  (!?!?!)"
   ]
  },
  {
   "cell_type": "markdown",
   "id": "27bbba08",
   "metadata": {},
   "source": [
    "#### 1.7.2.2 Stock_code"
   ]
  },
  {
   "cell_type": "code",
   "execution_count": 40,
   "id": "0fd28c31",
   "metadata": {
    "ExecuteTime": {
     "end_time": "2022-10-20T19:07:25.858924Z",
     "start_time": "2022-10-20T19:07:25.457068Z"
    }
   },
   "outputs": [
    {
     "data": {
      "text/plain": [
       "array(['POST', 'D', 'C2', 'DOT', 'M', 'BANK CHARGES', 'S', 'AMAZONFEE',\n",
       "       'DCGS0076', 'DCGS0003', 'gift_0001_40', 'DCGS0070', 'm',\n",
       "       'gift_0001_50', 'gift_0001_30', 'gift_0001_20', 'DCGS0055',\n",
       "       'DCGS0072', 'DCGS0074', 'DCGS0069', 'DCGS0057', 'DCGSSBOY',\n",
       "       'DCGSSGIRL', 'gift_0001_10', 'PADS', 'DCGS0004', 'DCGS0073',\n",
       "       'DCGS0071', 'DCGS0068', 'DCGS0067', 'DCGS0066P', 'B', 'CRUK'],\n",
       "      dtype=object)"
      ]
     },
     "execution_count": 40,
     "metadata": {},
     "output_type": "execute_result"
    }
   ],
   "source": [
    "data.loc[data['stock_code'].apply(lambda x: bool(re.search('^[a-zA-Z]+', x))), :]['stock_code'].unique()"
   ]
  },
  {
   "cell_type": "code",
   "execution_count": 276,
   "id": "4bcc9ccd",
   "metadata": {
    "ExecuteTime": {
     "end_time": "2022-10-16T15:24:53.642936Z",
     "start_time": "2022-10-16T15:24:53.611643Z"
    }
   },
   "outputs": [
    {
     "data": {
      "text/html": [
       "<div>\n",
       "<style scoped>\n",
       "    .dataframe tbody tr th:only-of-type {\n",
       "        vertical-align: middle;\n",
       "    }\n",
       "\n",
       "    .dataframe tbody tr th {\n",
       "        vertical-align: top;\n",
       "    }\n",
       "\n",
       "    .dataframe thead th {\n",
       "        text-align: right;\n",
       "    }\n",
       "</style>\n",
       "<table border=\"1\" class=\"dataframe\">\n",
       "  <thead>\n",
       "    <tr style=\"text-align: right;\">\n",
       "      <th></th>\n",
       "      <th>invoice_no</th>\n",
       "      <th>stock_code</th>\n",
       "      <th>description</th>\n",
       "      <th>quantity</th>\n",
       "      <th>invoice_date</th>\n",
       "      <th>unit_price</th>\n",
       "      <th>customer_id</th>\n",
       "      <th>country</th>\n",
       "    </tr>\n",
       "  </thead>\n",
       "  <tbody>\n",
       "    <tr>\n",
       "      <th>377896</th>\n",
       "      <td>569568</td>\n",
       "      <td>POST</td>\n",
       "      <td>POSTAGE</td>\n",
       "      <td>5</td>\n",
       "      <td>2017-10-03</td>\n",
       "      <td>18.0</td>\n",
       "      <td>12700</td>\n",
       "      <td>France</td>\n",
       "    </tr>\n",
       "  </tbody>\n",
       "</table>\n",
       "</div>"
      ],
      "text/plain": [
       "       invoice_no stock_code description  quantity invoice_date  unit_price  \\\n",
       "377896     569568       POST     POSTAGE         5   2017-10-03        18.0   \n",
       "\n",
       "        customer_id country  \n",
       "377896        12700  France  "
      ]
     },
     "execution_count": 276,
     "metadata": {},
     "output_type": "execute_result"
    }
   ],
   "source": [
    "data[data['stock_code'] == 'POST'].sample()"
   ]
  },
  {
   "cell_type": "markdown",
   "id": "7289dd9b",
   "metadata": {},
   "source": [
    "stock_code = 'POST' pode representar envio de carta."
   ]
  },
  {
   "cell_type": "code",
   "execution_count": 277,
   "id": "c8330499",
   "metadata": {
    "ExecuteTime": {
     "end_time": "2022-10-16T15:24:53.882391Z",
     "start_time": "2022-10-16T15:24:53.851155Z"
    }
   },
   "outputs": [
    {
     "data": {
      "text/html": [
       "<div>\n",
       "<style scoped>\n",
       "    .dataframe tbody tr th:only-of-type {\n",
       "        vertical-align: middle;\n",
       "    }\n",
       "\n",
       "    .dataframe tbody tr th {\n",
       "        vertical-align: top;\n",
       "    }\n",
       "\n",
       "    .dataframe thead th {\n",
       "        text-align: right;\n",
       "    }\n",
       "</style>\n",
       "<table border=\"1\" class=\"dataframe\">\n",
       "  <thead>\n",
       "    <tr style=\"text-align: right;\">\n",
       "      <th></th>\n",
       "      <th>invoice_no</th>\n",
       "      <th>stock_code</th>\n",
       "      <th>description</th>\n",
       "      <th>quantity</th>\n",
       "      <th>invoice_date</th>\n",
       "      <th>unit_price</th>\n",
       "      <th>customer_id</th>\n",
       "      <th>country</th>\n",
       "    </tr>\n",
       "  </thead>\n",
       "  <tbody>\n",
       "    <tr>\n",
       "      <th>140555</th>\n",
       "      <td>C548411</td>\n",
       "      <td>D</td>\n",
       "      <td>Discount</td>\n",
       "      <td>-1</td>\n",
       "      <td>2017-03-29</td>\n",
       "      <td>162.24</td>\n",
       "      <td>13316</td>\n",
       "      <td>United Kingdom</td>\n",
       "    </tr>\n",
       "  </tbody>\n",
       "</table>\n",
       "</div>"
      ],
      "text/plain": [
       "       invoice_no stock_code description  quantity invoice_date  unit_price  \\\n",
       "140555    C548411          D    Discount        -1   2017-03-29      162.24   \n",
       "\n",
       "        customer_id         country  \n",
       "140555        13316  United Kingdom  "
      ]
     },
     "execution_count": 277,
     "metadata": {},
     "output_type": "execute_result"
    }
   ],
   "source": [
    "data[(data['stock_code'] == 'D')].sample()"
   ]
  },
  {
   "cell_type": "markdown",
   "id": "5dbe6823",
   "metadata": {},
   "source": [
    "stock_code = 'D' representa algum tipo de desconto que o cliente recebeu."
   ]
  },
  {
   "cell_type": "code",
   "execution_count": 278,
   "id": "2909ddf4",
   "metadata": {
    "ExecuteTime": {
     "end_time": "2022-10-16T15:24:54.173333Z",
     "start_time": "2022-10-16T15:24:54.142774Z"
    },
    "scrolled": true
   },
   "outputs": [
    {
     "data": {
      "text/html": [
       "<div>\n",
       "<style scoped>\n",
       "    .dataframe tbody tr th:only-of-type {\n",
       "        vertical-align: middle;\n",
       "    }\n",
       "\n",
       "    .dataframe tbody tr th {\n",
       "        vertical-align: top;\n",
       "    }\n",
       "\n",
       "    .dataframe thead th {\n",
       "        text-align: right;\n",
       "    }\n",
       "</style>\n",
       "<table border=\"1\" class=\"dataframe\">\n",
       "  <thead>\n",
       "    <tr style=\"text-align: right;\">\n",
       "      <th></th>\n",
       "      <th>invoice_no</th>\n",
       "      <th>stock_code</th>\n",
       "      <th>description</th>\n",
       "      <th>quantity</th>\n",
       "      <th>invoice_date</th>\n",
       "      <th>unit_price</th>\n",
       "      <th>customer_id</th>\n",
       "      <th>country</th>\n",
       "    </tr>\n",
       "  </thead>\n",
       "  <tbody>\n",
       "    <tr>\n",
       "      <th>274448</th>\n",
       "      <td>560916</td>\n",
       "      <td>C2</td>\n",
       "      <td>CARRIAGE</td>\n",
       "      <td>1</td>\n",
       "      <td>2017-07-19</td>\n",
       "      <td>50.0</td>\n",
       "      <td>14911</td>\n",
       "      <td>EIRE</td>\n",
       "    </tr>\n",
       "  </tbody>\n",
       "</table>\n",
       "</div>"
      ],
      "text/plain": [
       "       invoice_no stock_code description  quantity invoice_date  unit_price  \\\n",
       "274448     560916         C2    CARRIAGE         1   2017-07-19        50.0   \n",
       "\n",
       "        customer_id country  \n",
       "274448        14911    EIRE  "
      ]
     },
     "execution_count": 278,
     "metadata": {},
     "output_type": "execute_result"
    }
   ],
   "source": [
    "data[(data['stock_code'] == 'C2')].sample()"
   ]
  },
  {
   "cell_type": "markdown",
   "id": "d2f3e035",
   "metadata": {},
   "source": [
    "stock_code = 'C2' pode representar algum tipo de frete."
   ]
  },
  {
   "cell_type": "code",
   "execution_count": 65,
   "id": "ff694e60",
   "metadata": {
    "ExecuteTime": {
     "end_time": "2022-10-20T19:26:00.816245Z",
     "start_time": "2022-10-20T19:26:00.790786Z"
    }
   },
   "outputs": [
    {
     "data": {
      "text/html": [
       "<div>\n",
       "<style scoped>\n",
       "    .dataframe tbody tr th:only-of-type {\n",
       "        vertical-align: middle;\n",
       "    }\n",
       "\n",
       "    .dataframe tbody tr th {\n",
       "        vertical-align: top;\n",
       "    }\n",
       "\n",
       "    .dataframe thead th {\n",
       "        text-align: right;\n",
       "    }\n",
       "</style>\n",
       "<table border=\"1\" class=\"dataframe\">\n",
       "  <thead>\n",
       "    <tr style=\"text-align: right;\">\n",
       "      <th></th>\n",
       "      <th>invoice_no</th>\n",
       "      <th>stock_code</th>\n",
       "      <th>description</th>\n",
       "      <th>quantity</th>\n",
       "      <th>invoice_date</th>\n",
       "      <th>unit_price</th>\n",
       "      <th>customer_id</th>\n",
       "      <th>country</th>\n",
       "    </tr>\n",
       "  </thead>\n",
       "  <tbody>\n",
       "    <tr>\n",
       "      <th>2239</th>\n",
       "      <td>536569</td>\n",
       "      <td>M</td>\n",
       "      <td>Manual</td>\n",
       "      <td>1</td>\n",
       "      <td>2016-11-29</td>\n",
       "      <td>1.25</td>\n",
       "      <td>16274</td>\n",
       "      <td>United Kingdom</td>\n",
       "    </tr>\n",
       "    <tr>\n",
       "      <th>2250</th>\n",
       "      <td>536569</td>\n",
       "      <td>M</td>\n",
       "      <td>Manual</td>\n",
       "      <td>1</td>\n",
       "      <td>2016-11-29</td>\n",
       "      <td>18.95</td>\n",
       "      <td>16274</td>\n",
       "      <td>United Kingdom</td>\n",
       "    </tr>\n",
       "    <tr>\n",
       "      <th>5684</th>\n",
       "      <td>536865</td>\n",
       "      <td>M</td>\n",
       "      <td>Manual</td>\n",
       "      <td>1</td>\n",
       "      <td>2016-12-01</td>\n",
       "      <td>2.55</td>\n",
       "      <td>18525</td>\n",
       "      <td>United Kingdom</td>\n",
       "    </tr>\n",
       "    <tr>\n",
       "      <th>6798</th>\n",
       "      <td>536981</td>\n",
       "      <td>M</td>\n",
       "      <td>Manual</td>\n",
       "      <td>2</td>\n",
       "      <td>2016-12-01</td>\n",
       "      <td>0.85</td>\n",
       "      <td>14723</td>\n",
       "      <td>United Kingdom</td>\n",
       "    </tr>\n",
       "    <tr>\n",
       "      <th>7976</th>\n",
       "      <td>537077</td>\n",
       "      <td>M</td>\n",
       "      <td>Manual</td>\n",
       "      <td>12</td>\n",
       "      <td>2016-12-03</td>\n",
       "      <td>0.42</td>\n",
       "      <td>17062</td>\n",
       "      <td>United Kingdom</td>\n",
       "    </tr>\n",
       "    <tr>\n",
       "      <th>...</th>\n",
       "      <td>...</td>\n",
       "      <td>...</td>\n",
       "      <td>...</td>\n",
       "      <td>...</td>\n",
       "      <td>...</td>\n",
       "      <td>...</td>\n",
       "      <td>...</td>\n",
       "      <td>...</td>\n",
       "    </tr>\n",
       "    <tr>\n",
       "      <th>531432</th>\n",
       "      <td>580956</td>\n",
       "      <td>M</td>\n",
       "      <td>Manual</td>\n",
       "      <td>4</td>\n",
       "      <td>2017-12-04</td>\n",
       "      <td>1.25</td>\n",
       "      <td>17841</td>\n",
       "      <td>United Kingdom</td>\n",
       "    </tr>\n",
       "    <tr>\n",
       "      <th>533082</th>\n",
       "      <td>C581009</td>\n",
       "      <td>M</td>\n",
       "      <td>Manual</td>\n",
       "      <td>-1</td>\n",
       "      <td>2017-12-05</td>\n",
       "      <td>125.00</td>\n",
       "      <td>16971</td>\n",
       "      <td>United Kingdom</td>\n",
       "    </tr>\n",
       "    <tr>\n",
       "      <th>534308</th>\n",
       "      <td>C581145</td>\n",
       "      <td>M</td>\n",
       "      <td>Manual</td>\n",
       "      <td>-1</td>\n",
       "      <td>2017-12-05</td>\n",
       "      <td>9.95</td>\n",
       "      <td>17490</td>\n",
       "      <td>United Kingdom</td>\n",
       "    </tr>\n",
       "    <tr>\n",
       "      <th>538321</th>\n",
       "      <td>581405</td>\n",
       "      <td>M</td>\n",
       "      <td>Manual</td>\n",
       "      <td>3</td>\n",
       "      <td>2017-12-06</td>\n",
       "      <td>0.42</td>\n",
       "      <td>13521</td>\n",
       "      <td>United Kingdom</td>\n",
       "    </tr>\n",
       "    <tr>\n",
       "      <th>541541</th>\n",
       "      <td>C581499</td>\n",
       "      <td>M</td>\n",
       "      <td>Manual</td>\n",
       "      <td>-1</td>\n",
       "      <td>2017-12-07</td>\n",
       "      <td>224.69</td>\n",
       "      <td>15498</td>\n",
       "      <td>United Kingdom</td>\n",
       "    </tr>\n",
       "  </tbody>\n",
       "</table>\n",
       "<p>572 rows × 8 columns</p>\n",
       "</div>"
      ],
      "text/plain": [
       "       invoice_no stock_code description  quantity invoice_date  unit_price  \\\n",
       "2239       536569          M      Manual         1   2016-11-29        1.25   \n",
       "2250       536569          M      Manual         1   2016-11-29       18.95   \n",
       "5684       536865          M      Manual         1   2016-12-01        2.55   \n",
       "6798       536981          M      Manual         2   2016-12-01        0.85   \n",
       "7976       537077          M      Manual        12   2016-12-03        0.42   \n",
       "...           ...        ...         ...       ...          ...         ...   \n",
       "531432     580956          M      Manual         4   2017-12-04        1.25   \n",
       "533082    C581009          M      Manual        -1   2017-12-05      125.00   \n",
       "534308    C581145          M      Manual        -1   2017-12-05        9.95   \n",
       "538321     581405          M      Manual         3   2017-12-06        0.42   \n",
       "541541    C581499          M      Manual        -1   2017-12-07      224.69   \n",
       "\n",
       "        customer_id         country  \n",
       "2239          16274  United Kingdom  \n",
       "2250          16274  United Kingdom  \n",
       "5684          18525  United Kingdom  \n",
       "6798          14723  United Kingdom  \n",
       "7976          17062  United Kingdom  \n",
       "...             ...             ...  \n",
       "531432        17841  United Kingdom  \n",
       "533082        16971  United Kingdom  \n",
       "534308        17490  United Kingdom  \n",
       "538321        13521  United Kingdom  \n",
       "541541        15498  United Kingdom  \n",
       "\n",
       "[572 rows x 8 columns]"
      ]
     },
     "execution_count": 65,
     "metadata": {},
     "output_type": "execute_result"
    }
   ],
   "source": [
    "data[(data['stock_code'].isin(['M', 'm']))]"
   ]
  },
  {
   "cell_type": "markdown",
   "id": "3078d13d",
   "metadata": {},
   "source": [
    "stock_code = 'M' ou 'm' tem  descrição 'Manual', talvez sejam itens que foram acrescentados manualmente."
   ]
  },
  {
   "cell_type": "code",
   "execution_count": 280,
   "id": "bec89d79",
   "metadata": {
    "ExecuteTime": {
     "end_time": "2022-10-16T15:24:55.033449Z",
     "start_time": "2022-10-16T15:24:55.002659Z"
    }
   },
   "outputs": [
    {
     "data": {
      "text/html": [
       "<div>\n",
       "<style scoped>\n",
       "    .dataframe tbody tr th:only-of-type {\n",
       "        vertical-align: middle;\n",
       "    }\n",
       "\n",
       "    .dataframe tbody tr th {\n",
       "        vertical-align: top;\n",
       "    }\n",
       "\n",
       "    .dataframe thead th {\n",
       "        text-align: right;\n",
       "    }\n",
       "</style>\n",
       "<table border=\"1\" class=\"dataframe\">\n",
       "  <thead>\n",
       "    <tr style=\"text-align: right;\">\n",
       "      <th></th>\n",
       "      <th>invoice_no</th>\n",
       "      <th>stock_code</th>\n",
       "      <th>description</th>\n",
       "      <th>quantity</th>\n",
       "      <th>invoice_date</th>\n",
       "      <th>unit_price</th>\n",
       "      <th>customer_id</th>\n",
       "      <th>country</th>\n",
       "    </tr>\n",
       "  </thead>\n",
       "  <tbody>\n",
       "    <tr>\n",
       "      <th>431351</th>\n",
       "      <td>573586</td>\n",
       "      <td>BANK CHARGES</td>\n",
       "      <td>Bank Charges</td>\n",
       "      <td>1</td>\n",
       "      <td>2017-10-29</td>\n",
       "      <td>15.0</td>\n",
       "      <td>14704</td>\n",
       "      <td>United Kingdom</td>\n",
       "    </tr>\n",
       "  </tbody>\n",
       "</table>\n",
       "</div>"
      ],
      "text/plain": [
       "       invoice_no    stock_code   description  quantity invoice_date  \\\n",
       "431351     573586  BANK CHARGES  Bank Charges         1   2017-10-29   \n",
       "\n",
       "        unit_price  customer_id         country  \n",
       "431351        15.0        14704  United Kingdom  "
      ]
     },
     "execution_count": 280,
     "metadata": {},
     "output_type": "execute_result"
    }
   ],
   "source": [
    "data[data['stock_code'] == 'BANK CHARGES'].sample()"
   ]
  },
  {
   "cell_type": "markdown",
   "id": "d249a0ae",
   "metadata": {},
   "source": [
    "stock_code = 'BANK CHARGES' deve ser alguma taxa de banco, porem são pouquissímos resultados com essa característica, podemos  descarta-los sem nenhuma preocupação."
   ]
  },
  {
   "cell_type": "code",
   "execution_count": 281,
   "id": "4e432243",
   "metadata": {
    "ExecuteTime": {
     "end_time": "2022-10-16T15:24:55.482451Z",
     "start_time": "2022-10-16T15:24:55.439191Z"
    }
   },
   "outputs": [
    {
     "data": {
      "text/html": [
       "<div>\n",
       "<style scoped>\n",
       "    .dataframe tbody tr th:only-of-type {\n",
       "        vertical-align: middle;\n",
       "    }\n",
       "\n",
       "    .dataframe tbody tr th {\n",
       "        vertical-align: top;\n",
       "    }\n",
       "\n",
       "    .dataframe thead th {\n",
       "        text-align: right;\n",
       "    }\n",
       "</style>\n",
       "<table border=\"1\" class=\"dataframe\">\n",
       "  <thead>\n",
       "    <tr style=\"text-align: right;\">\n",
       "      <th></th>\n",
       "      <th>invoice_no</th>\n",
       "      <th>stock_code</th>\n",
       "      <th>description</th>\n",
       "      <th>quantity</th>\n",
       "      <th>invoice_date</th>\n",
       "      <th>unit_price</th>\n",
       "      <th>customer_id</th>\n",
       "      <th>country</th>\n",
       "    </tr>\n",
       "  </thead>\n",
       "  <tbody>\n",
       "    <tr>\n",
       "      <th>157195</th>\n",
       "      <td>550193</td>\n",
       "      <td>PADS</td>\n",
       "      <td>PADS TO MATCH ALL CUSHIONS</td>\n",
       "      <td>1</td>\n",
       "      <td>2017-04-13</td>\n",
       "      <td>0.001</td>\n",
       "      <td>13952</td>\n",
       "      <td>United Kingdom</td>\n",
       "    </tr>\n",
       "    <tr>\n",
       "      <th>279045</th>\n",
       "      <td>561226</td>\n",
       "      <td>PADS</td>\n",
       "      <td>PADS TO MATCH ALL CUSHIONS</td>\n",
       "      <td>1</td>\n",
       "      <td>2017-07-24</td>\n",
       "      <td>0.001</td>\n",
       "      <td>15618</td>\n",
       "      <td>United Kingdom</td>\n",
       "    </tr>\n",
       "    <tr>\n",
       "      <th>358655</th>\n",
       "      <td>568158</td>\n",
       "      <td>PADS</td>\n",
       "      <td>PADS TO MATCH ALL CUSHIONS</td>\n",
       "      <td>1</td>\n",
       "      <td>2017-09-23</td>\n",
       "      <td>0.000</td>\n",
       "      <td>16133</td>\n",
       "      <td>United Kingdom</td>\n",
       "    </tr>\n",
       "    <tr>\n",
       "      <th>359871</th>\n",
       "      <td>568200</td>\n",
       "      <td>PADS</td>\n",
       "      <td>PADS TO MATCH ALL CUSHIONS</td>\n",
       "      <td>1</td>\n",
       "      <td>2017-09-23</td>\n",
       "      <td>0.001</td>\n",
       "      <td>16198</td>\n",
       "      <td>United Kingdom</td>\n",
       "    </tr>\n",
       "  </tbody>\n",
       "</table>\n",
       "</div>"
      ],
      "text/plain": [
       "       invoice_no stock_code                 description  quantity  \\\n",
       "157195     550193       PADS  PADS TO MATCH ALL CUSHIONS         1   \n",
       "279045     561226       PADS  PADS TO MATCH ALL CUSHIONS         1   \n",
       "358655     568158       PADS  PADS TO MATCH ALL CUSHIONS         1   \n",
       "359871     568200       PADS  PADS TO MATCH ALL CUSHIONS         1   \n",
       "\n",
       "       invoice_date  unit_price  customer_id         country  \n",
       "157195   2017-04-13       0.001        13952  United Kingdom  \n",
       "279045   2017-07-24       0.001        15618  United Kingdom  \n",
       "358655   2017-09-23       0.000        16133  United Kingdom  \n",
       "359871   2017-09-23       0.001        16198  United Kingdom  "
      ]
     },
     "execution_count": 281,
     "metadata": {},
     "output_type": "execute_result"
    }
   ],
   "source": [
    "data[data['stock_code'] == 'PADS']"
   ]
  },
  {
   "cell_type": "markdown",
   "id": "5c7f80c6",
   "metadata": {},
   "source": [
    "stock_code = 'PADS' podemos descartar sem nenhuma preocupação."
   ]
  },
  {
   "cell_type": "code",
   "execution_count": 282,
   "id": "dd0f4540",
   "metadata": {
    "ExecuteTime": {
     "end_time": "2022-10-16T15:24:55.926889Z",
     "start_time": "2022-10-16T15:24:55.887974Z"
    }
   },
   "outputs": [
    {
     "data": {
      "text/html": [
       "<div>\n",
       "<style scoped>\n",
       "    .dataframe tbody tr th:only-of-type {\n",
       "        vertical-align: middle;\n",
       "    }\n",
       "\n",
       "    .dataframe tbody tr th {\n",
       "        vertical-align: top;\n",
       "    }\n",
       "\n",
       "    .dataframe thead th {\n",
       "        text-align: right;\n",
       "    }\n",
       "</style>\n",
       "<table border=\"1\" class=\"dataframe\">\n",
       "  <thead>\n",
       "    <tr style=\"text-align: right;\">\n",
       "      <th></th>\n",
       "      <th>invoice_no</th>\n",
       "      <th>stock_code</th>\n",
       "      <th>description</th>\n",
       "      <th>quantity</th>\n",
       "      <th>invoice_date</th>\n",
       "      <th>unit_price</th>\n",
       "      <th>customer_id</th>\n",
       "      <th>country</th>\n",
       "    </tr>\n",
       "  </thead>\n",
       "  <tbody>\n",
       "    <tr>\n",
       "      <th>467436</th>\n",
       "      <td>576339</td>\n",
       "      <td>DOT</td>\n",
       "      <td>DOTCOM POSTAGE</td>\n",
       "      <td>1</td>\n",
       "      <td>2017-11-12</td>\n",
       "      <td>1500.36</td>\n",
       "      <td>14096</td>\n",
       "      <td>United Kingdom</td>\n",
       "    </tr>\n",
       "  </tbody>\n",
       "</table>\n",
       "</div>"
      ],
      "text/plain": [
       "       invoice_no stock_code     description  quantity invoice_date  \\\n",
       "467436     576339        DOT  DOTCOM POSTAGE         1   2017-11-12   \n",
       "\n",
       "        unit_price  customer_id         country  \n",
       "467436     1500.36        14096  United Kingdom  "
      ]
     },
     "execution_count": 282,
     "metadata": {},
     "output_type": "execute_result"
    }
   ],
   "source": [
    "data[data['stock_code'] == 'DOT'].sample()"
   ]
  },
  {
   "cell_type": "markdown",
   "id": "0dc1876b",
   "metadata": {},
   "source": [
    "stock_code = 'DOT' é algum tipo de postagem, mas que diferente do 'POST' possui valores bem maiores e apenas  um cliente utilizou esse tipo de postagem (cliente com customer_id = 14096)."
   ]
  },
  {
   "cell_type": "code",
   "execution_count": 283,
   "id": "7767becd",
   "metadata": {
    "ExecuteTime": {
     "end_time": "2022-10-16T15:24:56.380799Z",
     "start_time": "2022-10-16T15:24:56.348748Z"
    },
    "scrolled": false
   },
   "outputs": [
    {
     "data": {
      "text/html": [
       "<div>\n",
       "<style scoped>\n",
       "    .dataframe tbody tr th:only-of-type {\n",
       "        vertical-align: middle;\n",
       "    }\n",
       "\n",
       "    .dataframe tbody tr th {\n",
       "        vertical-align: top;\n",
       "    }\n",
       "\n",
       "    .dataframe thead th {\n",
       "        text-align: right;\n",
       "    }\n",
       "</style>\n",
       "<table border=\"1\" class=\"dataframe\">\n",
       "  <thead>\n",
       "    <tr style=\"text-align: right;\">\n",
       "      <th></th>\n",
       "      <th>invoice_no</th>\n",
       "      <th>stock_code</th>\n",
       "      <th>description</th>\n",
       "      <th>quantity</th>\n",
       "      <th>invoice_date</th>\n",
       "      <th>unit_price</th>\n",
       "      <th>customer_id</th>\n",
       "      <th>country</th>\n",
       "    </tr>\n",
       "  </thead>\n",
       "  <tbody>\n",
       "    <tr>\n",
       "      <th>324023</th>\n",
       "      <td>C565382</td>\n",
       "      <td>CRUK</td>\n",
       "      <td>CRUK Commission</td>\n",
       "      <td>-1</td>\n",
       "      <td>2017-08-31</td>\n",
       "      <td>13.01</td>\n",
       "      <td>14096</td>\n",
       "      <td>United Kingdom</td>\n",
       "    </tr>\n",
       "  </tbody>\n",
       "</table>\n",
       "</div>"
      ],
      "text/plain": [
       "       invoice_no stock_code      description  quantity invoice_date  \\\n",
       "324023    C565382       CRUK  CRUK Commission        -1   2017-08-31   \n",
       "\n",
       "        unit_price  customer_id         country  \n",
       "324023       13.01        14096  United Kingdom  "
      ]
     },
     "execution_count": 283,
     "metadata": {},
     "output_type": "execute_result"
    }
   ],
   "source": [
    "data[(data['stock_code'] == 'CRUK')].sample()"
   ]
  },
  {
   "cell_type": "markdown",
   "id": "d4f6d140",
   "metadata": {},
   "source": [
    "CRUK (Cancer Research UK) Commission: Todos os 'stock_code' == 'CRUK' possuem quantity negativa, o que deve significar um desconto/taxa/doação para a instituição Cancer Research UK."
   ]
  },
  {
   "cell_type": "code",
   "execution_count": 48,
   "id": "71dc57f5",
   "metadata": {
    "ExecuteTime": {
     "end_time": "2022-10-20T19:11:15.680717Z",
     "start_time": "2022-10-20T19:11:15.644689Z"
    }
   },
   "outputs": [
    {
     "data": {
      "text/html": [
       "<div>\n",
       "<style scoped>\n",
       "    .dataframe tbody tr th:only-of-type {\n",
       "        vertical-align: middle;\n",
       "    }\n",
       "\n",
       "    .dataframe tbody tr th {\n",
       "        vertical-align: top;\n",
       "    }\n",
       "\n",
       "    .dataframe thead th {\n",
       "        text-align: right;\n",
       "    }\n",
       "</style>\n",
       "<table border=\"1\" class=\"dataframe\">\n",
       "  <thead>\n",
       "    <tr style=\"text-align: right;\">\n",
       "      <th></th>\n",
       "      <th>invoice_no</th>\n",
       "      <th>stock_code</th>\n",
       "      <th>description</th>\n",
       "      <th>quantity</th>\n",
       "      <th>invoice_date</th>\n",
       "      <th>unit_price</th>\n",
       "      <th>customer_id</th>\n",
       "      <th>country</th>\n",
       "    </tr>\n",
       "  </thead>\n",
       "  <tbody>\n",
       "    <tr>\n",
       "      <th>14436</th>\n",
       "      <td>C537581</td>\n",
       "      <td>S</td>\n",
       "      <td>SAMPLES</td>\n",
       "      <td>-1</td>\n",
       "      <td>2016-12-05</td>\n",
       "      <td>12.95</td>\n",
       "      <td>18600</td>\n",
       "      <td>United Kingdom</td>\n",
       "    </tr>\n",
       "    <tr>\n",
       "      <th>14437</th>\n",
       "      <td>C537581</td>\n",
       "      <td>S</td>\n",
       "      <td>SAMPLES</td>\n",
       "      <td>-1</td>\n",
       "      <td>2016-12-05</td>\n",
       "      <td>52.00</td>\n",
       "      <td>18600</td>\n",
       "      <td>United Kingdom</td>\n",
       "    </tr>\n",
       "    <tr>\n",
       "      <th>96680</th>\n",
       "      <td>C544580</td>\n",
       "      <td>S</td>\n",
       "      <td>SAMPLES</td>\n",
       "      <td>-1</td>\n",
       "      <td>2017-02-19</td>\n",
       "      <td>5.74</td>\n",
       "      <td>19207</td>\n",
       "      <td>United Kingdom</td>\n",
       "    </tr>\n",
       "    <tr>\n",
       "      <th>96681</th>\n",
       "      <td>C544580</td>\n",
       "      <td>S</td>\n",
       "      <td>SAMPLES</td>\n",
       "      <td>-1</td>\n",
       "      <td>2017-02-19</td>\n",
       "      <td>11.08</td>\n",
       "      <td>19207</td>\n",
       "      <td>United Kingdom</td>\n",
       "    </tr>\n",
       "    <tr>\n",
       "      <th>96682</th>\n",
       "      <td>C544580</td>\n",
       "      <td>S</td>\n",
       "      <td>SAMPLES</td>\n",
       "      <td>-1</td>\n",
       "      <td>2017-02-19</td>\n",
       "      <td>5.79</td>\n",
       "      <td>19207</td>\n",
       "      <td>United Kingdom</td>\n",
       "    </tr>\n",
       "  </tbody>\n",
       "</table>\n",
       "</div>"
      ],
      "text/plain": [
       "      invoice_no stock_code description  quantity invoice_date  unit_price  \\\n",
       "14436    C537581          S     SAMPLES        -1   2016-12-05       12.95   \n",
       "14437    C537581          S     SAMPLES        -1   2016-12-05       52.00   \n",
       "96680    C544580          S     SAMPLES        -1   2017-02-19        5.74   \n",
       "96681    C544580          S     SAMPLES        -1   2017-02-19       11.08   \n",
       "96682    C544580          S     SAMPLES        -1   2017-02-19        5.79   \n",
       "\n",
       "       customer_id         country  \n",
       "14436        18600  United Kingdom  \n",
       "14437        18600  United Kingdom  \n",
       "96680        19207  United Kingdom  \n",
       "96681        19207  United Kingdom  \n",
       "96682        19207  United Kingdom  "
      ]
     },
     "execution_count": 48,
     "metadata": {},
     "output_type": "execute_result"
    }
   ],
   "source": [
    "data[(data['stock_code'] == 'S')].head()"
   ]
  },
  {
   "cell_type": "markdown",
   "id": "f1ebcd82",
   "metadata": {},
   "source": [
    "stock_code = 'S' possuem descrição 'SAMPLES', o que deve significar que são amostras de determinado produto. Todos as linhas são de clientes com customer_id > 18500, ou seja, são clientes que não estavam na base de dados inicialmente. Vamos dropar."
   ]
  },
  {
   "cell_type": "code",
   "execution_count": 53,
   "id": "9c8fb81e",
   "metadata": {
    "ExecuteTime": {
     "end_time": "2022-10-20T19:18:04.020248Z",
     "start_time": "2022-10-20T19:18:03.983541Z"
    }
   },
   "outputs": [
    {
     "data": {
      "text/html": [
       "<div>\n",
       "<style scoped>\n",
       "    .dataframe tbody tr th:only-of-type {\n",
       "        vertical-align: middle;\n",
       "    }\n",
       "\n",
       "    .dataframe tbody tr th {\n",
       "        vertical-align: top;\n",
       "    }\n",
       "\n",
       "    .dataframe thead th {\n",
       "        text-align: right;\n",
       "    }\n",
       "</style>\n",
       "<table border=\"1\" class=\"dataframe\">\n",
       "  <thead>\n",
       "    <tr style=\"text-align: right;\">\n",
       "      <th></th>\n",
       "      <th>invoice_no</th>\n",
       "      <th>stock_code</th>\n",
       "      <th>description</th>\n",
       "      <th>quantity</th>\n",
       "      <th>invoice_date</th>\n",
       "      <th>unit_price</th>\n",
       "      <th>customer_id</th>\n",
       "      <th>country</th>\n",
       "    </tr>\n",
       "  </thead>\n",
       "  <tbody>\n",
       "    <tr>\n",
       "      <th>14514</th>\n",
       "      <td>C537600</td>\n",
       "      <td>AMAZONFEE</td>\n",
       "      <td>AMAZON FEE</td>\n",
       "      <td>-1</td>\n",
       "      <td>2016-12-05</td>\n",
       "      <td>1.00</td>\n",
       "      <td>18601</td>\n",
       "      <td>United Kingdom</td>\n",
       "    </tr>\n",
       "    <tr>\n",
       "      <th>15016</th>\n",
       "      <td>C537630</td>\n",
       "      <td>AMAZONFEE</td>\n",
       "      <td>AMAZON FEE</td>\n",
       "      <td>-1</td>\n",
       "      <td>2016-12-05</td>\n",
       "      <td>13541.33</td>\n",
       "      <td>18605</td>\n",
       "      <td>United Kingdom</td>\n",
       "    </tr>\n",
       "    <tr>\n",
       "      <th>15017</th>\n",
       "      <td>537632</td>\n",
       "      <td>AMAZONFEE</td>\n",
       "      <td>AMAZON FEE</td>\n",
       "      <td>1</td>\n",
       "      <td>2016-12-05</td>\n",
       "      <td>13541.33</td>\n",
       "      <td>18606</td>\n",
       "      <td>United Kingdom</td>\n",
       "    </tr>\n",
       "    <tr>\n",
       "      <th>16232</th>\n",
       "      <td>C537644</td>\n",
       "      <td>AMAZONFEE</td>\n",
       "      <td>AMAZON FEE</td>\n",
       "      <td>-1</td>\n",
       "      <td>2016-12-05</td>\n",
       "      <td>13474.79</td>\n",
       "      <td>18616</td>\n",
       "      <td>United Kingdom</td>\n",
       "    </tr>\n",
       "    <tr>\n",
       "      <th>16313</th>\n",
       "      <td>C537647</td>\n",
       "      <td>AMAZONFEE</td>\n",
       "      <td>AMAZON FEE</td>\n",
       "      <td>-1</td>\n",
       "      <td>2016-12-05</td>\n",
       "      <td>5519.25</td>\n",
       "      <td>18617</td>\n",
       "      <td>United Kingdom</td>\n",
       "    </tr>\n",
       "  </tbody>\n",
       "</table>\n",
       "</div>"
      ],
      "text/plain": [
       "      invoice_no stock_code description  quantity invoice_date  unit_price  \\\n",
       "14514    C537600  AMAZONFEE  AMAZON FEE        -1   2016-12-05        1.00   \n",
       "15016    C537630  AMAZONFEE  AMAZON FEE        -1   2016-12-05    13541.33   \n",
       "15017     537632  AMAZONFEE  AMAZON FEE         1   2016-12-05    13541.33   \n",
       "16232    C537644  AMAZONFEE  AMAZON FEE        -1   2016-12-05    13474.79   \n",
       "16313    C537647  AMAZONFEE  AMAZON FEE        -1   2016-12-05     5519.25   \n",
       "\n",
       "       customer_id         country  \n",
       "14514        18601  United Kingdom  \n",
       "15016        18605  United Kingdom  \n",
       "15017        18606  United Kingdom  \n",
       "16232        18616  United Kingdom  \n",
       "16313        18617  United Kingdom  "
      ]
     },
     "execution_count": 53,
     "metadata": {},
     "output_type": "execute_result"
    }
   ],
   "source": [
    "data[data['stock_code'] == 'AMAZONFEE'].head()"
   ]
  },
  {
   "cell_type": "markdown",
   "id": "cf20779e",
   "metadata": {},
   "source": [
    "'AMAZONFEE' deve tratar sobre algumas taxa da Amazon. Todos as linhas são de clientes com customer_id > 18500, ou seja, são clientes que não estavam na base de dados inicialmente. Vamos dropar."
   ]
  },
  {
   "cell_type": "code",
   "execution_count": 56,
   "id": "48ebdddb",
   "metadata": {
    "ExecuteTime": {
     "end_time": "2022-10-20T19:22:15.256952Z",
     "start_time": "2022-10-20T19:22:14.929576Z"
    }
   },
   "outputs": [
    {
     "data": {
      "text/html": [
       "<div>\n",
       "<style scoped>\n",
       "    .dataframe tbody tr th:only-of-type {\n",
       "        vertical-align: middle;\n",
       "    }\n",
       "\n",
       "    .dataframe tbody tr th {\n",
       "        vertical-align: top;\n",
       "    }\n",
       "\n",
       "    .dataframe thead th {\n",
       "        text-align: right;\n",
       "    }\n",
       "</style>\n",
       "<table border=\"1\" class=\"dataframe\">\n",
       "  <thead>\n",
       "    <tr style=\"text-align: right;\">\n",
       "      <th></th>\n",
       "      <th>invoice_no</th>\n",
       "      <th>stock_code</th>\n",
       "      <th>description</th>\n",
       "      <th>quantity</th>\n",
       "      <th>invoice_date</th>\n",
       "      <th>unit_price</th>\n",
       "      <th>customer_id</th>\n",
       "      <th>country</th>\n",
       "    </tr>\n",
       "  </thead>\n",
       "  <tbody>\n",
       "    <tr>\n",
       "      <th>21326</th>\n",
       "      <td>538071</td>\n",
       "      <td>DCGS0076</td>\n",
       "      <td>SUNJAR LED NIGHT NIGHT LIGHT</td>\n",
       "      <td>1</td>\n",
       "      <td>2016-12-07</td>\n",
       "      <td>16.13</td>\n",
       "      <td>18654</td>\n",
       "      <td>United Kingdom</td>\n",
       "    </tr>\n",
       "    <tr>\n",
       "      <th>24906</th>\n",
       "      <td>538349</td>\n",
       "      <td>DCGS0003</td>\n",
       "      <td>BOXED GLASS ASHTRAY</td>\n",
       "      <td>1</td>\n",
       "      <td>2016-12-08</td>\n",
       "      <td>2.51</td>\n",
       "      <td>18695</td>\n",
       "      <td>United Kingdom</td>\n",
       "    </tr>\n",
       "    <tr>\n",
       "      <th>36460</th>\n",
       "      <td>539451</td>\n",
       "      <td>DCGS0003</td>\n",
       "      <td>BOXED GLASS ASHTRAY</td>\n",
       "      <td>1</td>\n",
       "      <td>2016-12-15</td>\n",
       "      <td>2.51</td>\n",
       "      <td>18744</td>\n",
       "      <td>United Kingdom</td>\n",
       "    </tr>\n",
       "    <tr>\n",
       "      <th>39313</th>\n",
       "      <td>539631</td>\n",
       "      <td>DCGS0076</td>\n",
       "      <td>SUNJAR LED NIGHT NIGHT LIGHT</td>\n",
       "      <td>2</td>\n",
       "      <td>2016-12-18</td>\n",
       "      <td>16.13</td>\n",
       "      <td>18764</td>\n",
       "      <td>United Kingdom</td>\n",
       "    </tr>\n",
       "    <tr>\n",
       "      <th>40052</th>\n",
       "      <td>539718</td>\n",
       "      <td>DCGS0070</td>\n",
       "      <td>CAMOUFLAGE DOG COLLAR</td>\n",
       "      <td>1</td>\n",
       "      <td>2016-12-19</td>\n",
       "      <td>12.72</td>\n",
       "      <td>18777</td>\n",
       "      <td>United Kingdom</td>\n",
       "    </tr>\n",
       "  </tbody>\n",
       "</table>\n",
       "</div>"
      ],
      "text/plain": [
       "      invoice_no stock_code                   description  quantity  \\\n",
       "21326     538071   DCGS0076  SUNJAR LED NIGHT NIGHT LIGHT         1   \n",
       "24906     538349   DCGS0003           BOXED GLASS ASHTRAY         1   \n",
       "36460     539451   DCGS0003           BOXED GLASS ASHTRAY         1   \n",
       "39313     539631   DCGS0076  SUNJAR LED NIGHT NIGHT LIGHT         2   \n",
       "40052     539718   DCGS0070         CAMOUFLAGE DOG COLLAR         1   \n",
       "\n",
       "      invoice_date  unit_price  customer_id         country  \n",
       "21326   2016-12-07       16.13        18654  United Kingdom  \n",
       "24906   2016-12-08        2.51        18695  United Kingdom  \n",
       "36460   2016-12-15        2.51        18744  United Kingdom  \n",
       "39313   2016-12-18       16.13        18764  United Kingdom  \n",
       "40052   2016-12-19       12.72        18777  United Kingdom  "
      ]
     },
     "execution_count": 56,
     "metadata": {},
     "output_type": "execute_result"
    }
   ],
   "source": [
    "data.loc[data['stock_code'].apply(lambda x: bool(re.search('DCGS.', x))), :].head()"
   ]
  },
  {
   "cell_type": "markdown",
   "id": "f5173bc8",
   "metadata": {},
   "source": [
    "stock_code que começam com DCGS parecem compras normais. Todos as linhas são de clientes com customer_id > 18500, ou seja, são clientes que não estavam na base de dados inicialmente. Não vamos dropar."
   ]
  },
  {
   "cell_type": "code",
   "execution_count": 60,
   "id": "8614aa2c",
   "metadata": {
    "ExecuteTime": {
     "end_time": "2022-10-20T19:23:33.164296Z",
     "start_time": "2022-10-20T19:23:32.834636Z"
    }
   },
   "outputs": [
    {
     "data": {
      "text/html": [
       "<div>\n",
       "<style scoped>\n",
       "    .dataframe tbody tr th:only-of-type {\n",
       "        vertical-align: middle;\n",
       "    }\n",
       "\n",
       "    .dataframe tbody tr th {\n",
       "        vertical-align: top;\n",
       "    }\n",
       "\n",
       "    .dataframe thead th {\n",
       "        text-align: right;\n",
       "    }\n",
       "</style>\n",
       "<table border=\"1\" class=\"dataframe\">\n",
       "  <thead>\n",
       "    <tr style=\"text-align: right;\">\n",
       "      <th></th>\n",
       "      <th>invoice_no</th>\n",
       "      <th>stock_code</th>\n",
       "      <th>description</th>\n",
       "      <th>quantity</th>\n",
       "      <th>invoice_date</th>\n",
       "      <th>unit_price</th>\n",
       "      <th>customer_id</th>\n",
       "      <th>country</th>\n",
       "    </tr>\n",
       "  </thead>\n",
       "  <tbody>\n",
       "    <tr>\n",
       "      <th>38248</th>\n",
       "      <td>539492</td>\n",
       "      <td>gift_0001_40</td>\n",
       "      <td>Dotcomgiftshop Gift Voucher £40.00</td>\n",
       "      <td>1</td>\n",
       "      <td>2016-12-18</td>\n",
       "      <td>34.04</td>\n",
       "      <td>18753</td>\n",
       "      <td>United Kingdom</td>\n",
       "    </tr>\n",
       "    <tr>\n",
       "      <th>42057</th>\n",
       "      <td>539958</td>\n",
       "      <td>gift_0001_50</td>\n",
       "      <td>Dotcomgiftshop Gift Voucher £50.00</td>\n",
       "      <td>1</td>\n",
       "      <td>2016-12-21</td>\n",
       "      <td>42.55</td>\n",
       "      <td>18809</td>\n",
       "      <td>United Kingdom</td>\n",
       "    </tr>\n",
       "    <tr>\n",
       "      <th>44725</th>\n",
       "      <td>540238</td>\n",
       "      <td>gift_0001_30</td>\n",
       "      <td>Dotcomgiftshop Gift Voucher £30.00</td>\n",
       "      <td>1</td>\n",
       "      <td>2017-01-03</td>\n",
       "      <td>25.53</td>\n",
       "      <td>18841</td>\n",
       "      <td>United Kingdom</td>\n",
       "    </tr>\n",
       "    <tr>\n",
       "      <th>44794</th>\n",
       "      <td>540238</td>\n",
       "      <td>gift_0001_20</td>\n",
       "      <td>Dotcomgiftshop Gift Voucher £20.00</td>\n",
       "      <td>1</td>\n",
       "      <td>2017-01-03</td>\n",
       "      <td>17.02</td>\n",
       "      <td>18841</td>\n",
       "      <td>United Kingdom</td>\n",
       "    </tr>\n",
       "    <tr>\n",
       "      <th>55589</th>\n",
       "      <td>540995</td>\n",
       "      <td>gift_0001_20</td>\n",
       "      <td>Dotcomgiftshop Gift Voucher £20.00</td>\n",
       "      <td>1</td>\n",
       "      <td>2017-01-11</td>\n",
       "      <td>16.67</td>\n",
       "      <td>18900</td>\n",
       "      <td>United Kingdom</td>\n",
       "    </tr>\n",
       "  </tbody>\n",
       "</table>\n",
       "</div>"
      ],
      "text/plain": [
       "      invoice_no    stock_code                         description  quantity  \\\n",
       "38248     539492  gift_0001_40  Dotcomgiftshop Gift Voucher £40.00         1   \n",
       "42057     539958  gift_0001_50  Dotcomgiftshop Gift Voucher £50.00         1   \n",
       "44725     540238  gift_0001_30  Dotcomgiftshop Gift Voucher £30.00         1   \n",
       "44794     540238  gift_0001_20  Dotcomgiftshop Gift Voucher £20.00         1   \n",
       "55589     540995  gift_0001_20  Dotcomgiftshop Gift Voucher £20.00         1   \n",
       "\n",
       "      invoice_date  unit_price  customer_id         country  \n",
       "38248   2016-12-18       34.04        18753  United Kingdom  \n",
       "42057   2016-12-21       42.55        18809  United Kingdom  \n",
       "44725   2017-01-03       25.53        18841  United Kingdom  \n",
       "44794   2017-01-03       17.02        18841  United Kingdom  \n",
       "55589   2017-01-11       16.67        18900  United Kingdom  "
      ]
     },
     "execution_count": 60,
     "metadata": {},
     "output_type": "execute_result"
    }
   ],
   "source": [
    "data.loc[data['stock_code'].apply(lambda x: bool(re.search('gift.', x))), :].head()"
   ]
  },
  {
   "cell_type": "markdown",
   "id": "f7e176cf",
   "metadata": {},
   "source": [
    "stock_code que começam com 'gift' são compras de voucher de presente. Todos as linhas são de clientes com customer_id > 18500, ou seja, são clientes que não estavam na base de dados inicialmente. Não vamos dropar."
   ]
  },
  {
   "cell_type": "code",
   "execution_count": 66,
   "id": "15043217",
   "metadata": {
    "ExecuteTime": {
     "end_time": "2022-10-20T19:26:44.000960Z",
     "start_time": "2022-10-20T19:26:43.964124Z"
    }
   },
   "outputs": [
    {
     "data": {
      "text/html": [
       "<div>\n",
       "<style scoped>\n",
       "    .dataframe tbody tr th:only-of-type {\n",
       "        vertical-align: middle;\n",
       "    }\n",
       "\n",
       "    .dataframe tbody tr th {\n",
       "        vertical-align: top;\n",
       "    }\n",
       "\n",
       "    .dataframe thead th {\n",
       "        text-align: right;\n",
       "    }\n",
       "</style>\n",
       "<table border=\"1\" class=\"dataframe\">\n",
       "  <thead>\n",
       "    <tr style=\"text-align: right;\">\n",
       "      <th></th>\n",
       "      <th>invoice_no</th>\n",
       "      <th>stock_code</th>\n",
       "      <th>description</th>\n",
       "      <th>quantity</th>\n",
       "      <th>invoice_date</th>\n",
       "      <th>unit_price</th>\n",
       "      <th>customer_id</th>\n",
       "      <th>country</th>\n",
       "    </tr>\n",
       "  </thead>\n",
       "  <tbody>\n",
       "    <tr>\n",
       "      <th>299982</th>\n",
       "      <td>A563185</td>\n",
       "      <td>B</td>\n",
       "      <td>Adjust bad debt</td>\n",
       "      <td>1</td>\n",
       "      <td>2017-08-10</td>\n",
       "      <td>11062.06</td>\n",
       "      <td>20997</td>\n",
       "      <td>United Kingdom</td>\n",
       "    </tr>\n",
       "    <tr>\n",
       "      <th>299983</th>\n",
       "      <td>A563186</td>\n",
       "      <td>B</td>\n",
       "      <td>Adjust bad debt</td>\n",
       "      <td>1</td>\n",
       "      <td>2017-08-10</td>\n",
       "      <td>-11062.06</td>\n",
       "      <td>20998</td>\n",
       "      <td>United Kingdom</td>\n",
       "    </tr>\n",
       "    <tr>\n",
       "      <th>299984</th>\n",
       "      <td>A563187</td>\n",
       "      <td>B</td>\n",
       "      <td>Adjust bad debt</td>\n",
       "      <td>1</td>\n",
       "      <td>2017-08-10</td>\n",
       "      <td>-11062.06</td>\n",
       "      <td>20999</td>\n",
       "      <td>United Kingdom</td>\n",
       "    </tr>\n",
       "  </tbody>\n",
       "</table>\n",
       "</div>"
      ],
      "text/plain": [
       "       invoice_no stock_code      description  quantity invoice_date  \\\n",
       "299982    A563185          B  Adjust bad debt         1   2017-08-10   \n",
       "299983    A563186          B  Adjust bad debt         1   2017-08-10   \n",
       "299984    A563187          B  Adjust bad debt         1   2017-08-10   \n",
       "\n",
       "        unit_price  customer_id         country  \n",
       "299982    11062.06        20997  United Kingdom  \n",
       "299983   -11062.06        20998  United Kingdom  \n",
       "299984   -11062.06        20999  United Kingdom  "
      ]
     },
     "execution_count": 66,
     "metadata": {},
     "output_type": "execute_result"
    }
   ],
   "source": [
    "data[data['stock_code'] == 'B']"
   ]
  },
  {
   "cell_type": "markdown",
   "id": "567f987b",
   "metadata": {},
   "source": [
    "stock_code = 'B' são as mesmas linhas que possuem invoice_no começando com 'A', que já discutimos anteriormente  e serão dropadas."
   ]
  },
  {
   "cell_type": "markdown",
   "id": "3893fa6a",
   "metadata": {},
   "source": [
    "Diante disso faremos as seguintes considerações:\n",
    "- Vamos 'dropar' as  linhas com os stock_code: 'POST', 'C2', 'BANK CHARGES', 'PADS', 'DOT', 'CRUK', 'S', 'AMAZONFEE', 'B'.\n",
    "- Vamos deixar as linhas com os stock_code: 'D', 'M', 'DCGS...', 'gift...' \n",
    "- O cliente 14096 possui valores alto com 'DOT' e 'CRUK' que estamos dropando, ficaremos atentos nesse cliente em específico."
   ]
  },
  {
   "cell_type": "markdown",
   "id": "021cce56",
   "metadata": {},
   "source": [
    "#### 1.7.2.3 Description"
   ]
  },
  {
   "cell_type": "markdown",
   "id": "5f9eb9e2",
   "metadata": {},
   "source": [
    "Não utilizaremos a descrição."
   ]
  },
  {
   "cell_type": "markdown",
   "id": "5ea84cf6",
   "metadata": {},
   "source": [
    "#### 1.7.2.4 Country"
   ]
  },
  {
   "cell_type": "code",
   "execution_count": 68,
   "id": "edc4cd10",
   "metadata": {
    "ExecuteTime": {
     "end_time": "2022-10-20T19:33:22.372299Z",
     "start_time": "2022-10-20T19:33:22.346854Z"
    }
   },
   "outputs": [
    {
     "data": {
      "text/plain": [
       "array(['United Kingdom', 'France', 'Australia', 'Netherlands', 'Germany',\n",
       "       'Norway', 'EIRE', 'Switzerland', 'Spain', 'Poland', 'Portugal',\n",
       "       'Italy', 'Belgium', 'Lithuania', 'Japan', 'Iceland',\n",
       "       'Channel Islands', 'Denmark', 'Cyprus', 'Sweden', 'Austria',\n",
       "       'Israel', 'Finland', 'Bahrain', 'Greece', 'Hong Kong', 'Singapore',\n",
       "       'Lebanon', 'United Arab Emirates', 'Saudi Arabia',\n",
       "       'Czech Republic', 'Canada', 'Unspecified', 'Brazil', 'USA',\n",
       "       'European Community', 'Malta', 'RSA'], dtype=object)"
      ]
     },
     "execution_count": 68,
     "metadata": {},
     "output_type": "execute_result"
    }
   ],
   "source": [
    "data['country'].unique()"
   ]
  },
  {
   "cell_type": "code",
   "execution_count": 69,
   "id": "641b07a6",
   "metadata": {
    "ExecuteTime": {
     "end_time": "2022-10-20T19:33:22.840515Z",
     "start_time": "2022-10-20T19:33:22.808865Z"
    }
   },
   "outputs": [
    {
     "data": {
      "text/plain": [
       "38"
      ]
     },
     "execution_count": 69,
     "metadata": {},
     "output_type": "execute_result"
    }
   ],
   "source": [
    "len(data['country'].unique())"
   ]
  },
  {
   "cell_type": "markdown",
   "id": "382f577c",
   "metadata": {},
   "source": [
    "São 38 países."
   ]
  },
  {
   "cell_type": "code",
   "execution_count": 71,
   "id": "27338f52",
   "metadata": {
    "ExecuteTime": {
     "end_time": "2022-10-20T19:33:43.059339Z",
     "start_time": "2022-10-20T19:33:43.026276Z"
    }
   },
   "outputs": [
    {
     "data": {
      "text/plain": [
       "United Kingdom    0.914320\n",
       "Germany           0.017521\n",
       "France            0.015790\n",
       "EIRE              0.015124\n",
       "Spain             0.004674\n",
       "Name: country, dtype: float64"
      ]
     },
     "execution_count": 71,
     "metadata": {},
     "output_type": "execute_result"
    }
   ],
   "source": [
    "data['country'].value_counts(normalize=True).head()"
   ]
  },
  {
   "cell_type": "markdown",
   "id": "9f272c5d",
   "metadata": {},
   "source": [
    "# 2 Filtragem de Variáveis"
   ]
  },
  {
   "cell_type": "code",
   "execution_count": 83,
   "id": "064a978b",
   "metadata": {
    "ExecuteTime": {
     "end_time": "2022-10-20T20:33:12.339867Z",
     "start_time": "2022-10-20T20:33:12.321734Z"
    }
   },
   "outputs": [],
   "source": [
    "df2 = data.copy()"
   ]
  },
  {
   "cell_type": "code",
   "execution_count": 84,
   "id": "959d9e47",
   "metadata": {
    "ExecuteTime": {
     "end_time": "2022-10-20T20:33:13.545363Z",
     "start_time": "2022-10-20T20:33:13.361625Z"
    }
   },
   "outputs": [],
   "source": [
    "# Unit_price: maiores que 0.04\n",
    "df2 = df2[df2['unit_price'] > 0.04]\n",
    "\n",
    "# stock_code: drop 'POST', 'C2', 'BANK CHARGES', 'PADS', 'DOT', 'CRUK'\n",
    "df2 = df2[~df2['stock_code'].isin(['POST', 'C2', 'BANK CHARGES', 'PADS', 'DOT', 'CRUK', 'S', 'AMAZONFEE', 'B'])]\n",
    "\n",
    "# description: drop da coluna\n",
    "df2 = df2.drop('description', axis=1)\n",
    "\n",
    "# country: drop de 'European Community' e 'Unspecified' (idéia para os próximos ciclos)\n",
    "# df2 = df2[~df2['country'].isin(['European Community', 'Unspecified'])]\n",
    "\n",
    "# quantity\n",
    "df2_returns = df2[df2['quantity'] < 0].copy()\n",
    "df2_purchases = df2[df2['quantity'] >= 0].copy()\n",
    "\n"
   ]
  },
  {
   "cell_type": "code",
   "execution_count": 85,
   "id": "84e5dd87",
   "metadata": {
    "ExecuteTime": {
     "end_time": "2022-10-20T20:33:14.172111Z",
     "start_time": "2022-10-20T20:33:14.160292Z"
    }
   },
   "outputs": [
    {
     "data": {
      "text/html": [
       "<div>\n",
       "<style scoped>\n",
       "    .dataframe tbody tr th:only-of-type {\n",
       "        vertical-align: middle;\n",
       "    }\n",
       "\n",
       "    .dataframe tbody tr th {\n",
       "        vertical-align: top;\n",
       "    }\n",
       "\n",
       "    .dataframe thead th {\n",
       "        text-align: right;\n",
       "    }\n",
       "</style>\n",
       "<table border=\"1\" class=\"dataframe\">\n",
       "  <thead>\n",
       "    <tr style=\"text-align: right;\">\n",
       "      <th></th>\n",
       "      <th>invoice_no</th>\n",
       "      <th>stock_code</th>\n",
       "      <th>quantity</th>\n",
       "      <th>invoice_date</th>\n",
       "      <th>unit_price</th>\n",
       "      <th>customer_id</th>\n",
       "      <th>country</th>\n",
       "    </tr>\n",
       "  </thead>\n",
       "  <tbody>\n",
       "    <tr>\n",
       "      <th>0</th>\n",
       "      <td>536365</td>\n",
       "      <td>85123A</td>\n",
       "      <td>6</td>\n",
       "      <td>2016-11-29</td>\n",
       "      <td>2.55</td>\n",
       "      <td>17850</td>\n",
       "      <td>United Kingdom</td>\n",
       "    </tr>\n",
       "    <tr>\n",
       "      <th>1</th>\n",
       "      <td>536365</td>\n",
       "      <td>71053</td>\n",
       "      <td>6</td>\n",
       "      <td>2016-11-29</td>\n",
       "      <td>3.39</td>\n",
       "      <td>17850</td>\n",
       "      <td>United Kingdom</td>\n",
       "    </tr>\n",
       "    <tr>\n",
       "      <th>2</th>\n",
       "      <td>536365</td>\n",
       "      <td>84406B</td>\n",
       "      <td>8</td>\n",
       "      <td>2016-11-29</td>\n",
       "      <td>2.75</td>\n",
       "      <td>17850</td>\n",
       "      <td>United Kingdom</td>\n",
       "    </tr>\n",
       "    <tr>\n",
       "      <th>3</th>\n",
       "      <td>536365</td>\n",
       "      <td>84029G</td>\n",
       "      <td>6</td>\n",
       "      <td>2016-11-29</td>\n",
       "      <td>3.39</td>\n",
       "      <td>17850</td>\n",
       "      <td>United Kingdom</td>\n",
       "    </tr>\n",
       "    <tr>\n",
       "      <th>4</th>\n",
       "      <td>536365</td>\n",
       "      <td>84029E</td>\n",
       "      <td>6</td>\n",
       "      <td>2016-11-29</td>\n",
       "      <td>3.39</td>\n",
       "      <td>17850</td>\n",
       "      <td>United Kingdom</td>\n",
       "    </tr>\n",
       "  </tbody>\n",
       "</table>\n",
       "</div>"
      ],
      "text/plain": [
       "  invoice_no stock_code  quantity invoice_date  unit_price  customer_id  \\\n",
       "0     536365     85123A         6   2016-11-29        2.55        17850   \n",
       "1     536365      71053         6   2016-11-29        3.39        17850   \n",
       "2     536365     84406B         8   2016-11-29        2.75        17850   \n",
       "3     536365     84029G         6   2016-11-29        3.39        17850   \n",
       "4     536365     84029E         6   2016-11-29        3.39        17850   \n",
       "\n",
       "          country  \n",
       "0  United Kingdom  \n",
       "1  United Kingdom  \n",
       "2  United Kingdom  \n",
       "3  United Kingdom  \n",
       "4  United Kingdom  "
      ]
     },
     "execution_count": 85,
     "metadata": {},
     "output_type": "execute_result"
    }
   ],
   "source": [
    "df2.head()"
   ]
  },
  {
   "cell_type": "markdown",
   "id": "6a9bcde3",
   "metadata": {},
   "source": [
    "# 3 Features Engineering"
   ]
  },
  {
   "cell_type": "code",
   "execution_count": 86,
   "id": "a35aea09",
   "metadata": {
    "ExecuteTime": {
     "end_time": "2022-10-20T20:33:15.253446Z",
     "start_time": "2022-10-20T20:33:15.237897Z"
    }
   },
   "outputs": [],
   "source": [
    "df3 = df2.copy()"
   ]
  },
  {
   "cell_type": "code",
   "execution_count": 87,
   "id": "284c8604",
   "metadata": {
    "ExecuteTime": {
     "end_time": "2022-10-20T20:33:15.740632Z",
     "start_time": "2022-10-20T20:33:15.719859Z"
    }
   },
   "outputs": [],
   "source": [
    "df_ref = df3.drop(['invoice_no', 'stock_code', 'quantity', 'invoice_date', 'unit_price', 'country'], axis=1)\n",
    "df_ref = df_ref.drop_duplicates().reset_index(drop=True)"
   ]
  },
  {
   "cell_type": "markdown",
   "id": "706189b3",
   "metadata": {},
   "source": [
    "## 3.1 Criação de Features"
   ]
  },
  {
   "cell_type": "markdown",
   "id": "1f142a1f",
   "metadata": {},
   "source": [
    "### 3.1.1 Faturamento"
   ]
  },
  {
   "cell_type": "code",
   "execution_count": 88,
   "id": "8f00867b",
   "metadata": {
    "ExecuteTime": {
     "end_time": "2022-10-20T20:33:32.988542Z",
     "start_time": "2022-10-20T20:33:32.961245Z"
    }
   },
   "outputs": [],
   "source": [
    "# Monetary\n",
    "df2_purchases['monetary'] = df2_purchases['unit_price']*df2_purchases['quantity']\n",
    "df_monetary = df2_purchases[['customer_id', 'monetary']].groupby('customer_id').sum().reset_index()\n",
    "\n",
    "# join\n",
    "df_ref = df_ref.merge(df_monetary, how='left', on='customer_id')"
   ]
  },
  {
   "cell_type": "markdown",
   "id": "174610a6",
   "metadata": {},
   "source": [
    "### 3.1.2 Recência  (Quantidade de dias desde de última compra)"
   ]
  },
  {
   "cell_type": "code",
   "execution_count": 90,
   "id": "a1d17457",
   "metadata": {
    "ExecuteTime": {
     "end_time": "2022-10-20T20:34:42.197187Z",
     "start_time": "2022-10-20T20:34:42.146149Z"
    }
   },
   "outputs": [],
   "source": [
    "# Recency (Recência) - Quantidade de dias desde a última compra\n",
    "df2_purchases['recency_days'] = df2_purchases['invoice_date'].max() - df2_purchases['invoice_date']\n",
    "df_recency = df2_purchases[['customer_id', 'recency_days']].groupby('customer_id').min().reset_index()\n",
    "df_recency['recency_days'] = df_recency['recency_days'].dt.days     # extrai o dia como int64\n",
    "\n",
    "# join\n",
    "df_ref = df_ref.merge(df_recency, how='left', on='customer_id')\n"
   ]
  },
  {
   "cell_type": "markdown",
   "id": "57e11d58",
   "metadata": {},
   "source": [
    "### 3.1.3 Quantidade de compras realizadas"
   ]
  },
  {
   "cell_type": "code",
   "execution_count": null,
   "id": "e42ec321",
   "metadata": {},
   "outputs": [],
   "source": [
    "# Frequency\n",
    "df_freq = df2_purchases[['customer_id', 'invoice_no']].drop_duplicates().groupby('customer_id').count().reset_index()\n",
    "df_freq.columns = ['customer_id', 'frequency']\n",
    "\n",
    "# Join\n",
    "df_ref = df_ref.merge(df_freq, how='left', on='customer_id')"
   ]
  },
  {
   "cell_type": "markdown",
   "id": "e8bc5f4b",
   "metadata": {},
   "source": [
    "### 3.1.4 Quantidade de produtos comprados"
   ]
  },
  {
   "cell_type": "code",
   "execution_count": null,
   "id": "1f3c817e",
   "metadata": {},
   "outputs": [],
   "source": [
    "df_quant = df2_purchases[['customer_id', 'quantity']].drop_duplicates().groupby('customer_id').count().reset_index()\n",
    "\n",
    "# Join\n",
    "df_ref = df_ref.merge(df_quant, how='left', on='customer_id')"
   ]
  },
  {
   "cell_type": "markdown",
   "id": "6443388f",
   "metadata": {},
   "source": [
    "### 3.1.5 Ticket Médio"
   ]
  },
  {
   "cell_type": "code",
   "execution_count": null,
   "id": "1b4bb9af",
   "metadata": {},
   "outputs": [],
   "source": [
    "# AVG Ticket\n",
    "df_avg_ticket = df2_purchases[['customer_id', 'monetary']].groupby('customer_id').mean().reset_index().rename(columns={'monetary': 'avg_ticket'})\n",
    "\n",
    "# Join\n",
    "df_ref = df_ref.merge(df_avg_ticket, how='left', on='customer_id')"
   ]
  },
  {
   "cell_type": "markdown",
   "id": "56fcf906",
   "metadata": {},
   "source": [
    "### 3.1.6 Recência média entre as compras"
   ]
  },
  {
   "cell_type": "markdown",
   "id": "0feba801",
   "metadata": {},
   "source": [
    "### 3.1.7 Devoluções"
   ]
  },
  {
   "cell_type": "markdown",
   "id": "a1ae0dc6",
   "metadata": {},
   "source": [
    "### 3.1.8 Média da quantidade de produtos por compra"
   ]
  },
  {
   "cell_type": "code",
   "execution_count": null,
   "id": "afced25d",
   "metadata": {},
   "outputs": [],
   "source": []
  },
  {
   "cell_type": "code",
   "execution_count": 291,
   "id": "cf7fead5",
   "metadata": {
    "ExecuteTime": {
     "end_time": "2022-10-16T15:25:01.805762Z",
     "start_time": "2022-10-16T15:25:01.783843Z"
    }
   },
   "outputs": [],
   "source": []
  },
  {
   "cell_type": "code",
   "execution_count": 295,
   "id": "a012b87c",
   "metadata": {
    "ExecuteTime": {
     "end_time": "2022-10-16T15:25:02.820917Z",
     "start_time": "2022-10-16T15:25:02.802280Z"
    }
   },
   "outputs": [],
   "source": []
  },
  {
   "cell_type": "code",
   "execution_count": 296,
   "id": "e80c96ac",
   "metadata": {
    "ExecuteTime": {
     "end_time": "2022-10-16T15:25:03.034921Z",
     "start_time": "2022-10-16T15:25:03.026639Z"
    },
    "scrolled": true
   },
   "outputs": [
    {
     "data": {
      "text/html": [
       "<div>\n",
       "<style scoped>\n",
       "    .dataframe tbody tr th:only-of-type {\n",
       "        vertical-align: middle;\n",
       "    }\n",
       "\n",
       "    .dataframe tbody tr th {\n",
       "        vertical-align: top;\n",
       "    }\n",
       "\n",
       "    .dataframe thead th {\n",
       "        text-align: right;\n",
       "    }\n",
       "</style>\n",
       "<table border=\"1\" class=\"dataframe\">\n",
       "  <thead>\n",
       "    <tr style=\"text-align: right;\">\n",
       "      <th></th>\n",
       "      <th>customer_id</th>\n",
       "      <th>monetary</th>\n",
       "      <th>recency_days</th>\n",
       "      <th>frequency</th>\n",
       "      <th>avg_ticket</th>\n",
       "    </tr>\n",
       "  </thead>\n",
       "  <tbody>\n",
       "    <tr>\n",
       "      <th>0</th>\n",
       "      <td>17850</td>\n",
       "      <td>5391.21</td>\n",
       "      <td>372.0</td>\n",
       "      <td>34.0</td>\n",
       "      <td>18.152222</td>\n",
       "    </tr>\n",
       "    <tr>\n",
       "      <th>1</th>\n",
       "      <td>13047</td>\n",
       "      <td>3237.54</td>\n",
       "      <td>31.0</td>\n",
       "      <td>10.0</td>\n",
       "      <td>18.822907</td>\n",
       "    </tr>\n",
       "    <tr>\n",
       "      <th>2</th>\n",
       "      <td>12583</td>\n",
       "      <td>6705.38</td>\n",
       "      <td>2.0</td>\n",
       "      <td>15.0</td>\n",
       "      <td>28.902500</td>\n",
       "    </tr>\n",
       "    <tr>\n",
       "      <th>3</th>\n",
       "      <td>13748</td>\n",
       "      <td>948.25</td>\n",
       "      <td>95.0</td>\n",
       "      <td>5.0</td>\n",
       "      <td>33.866071</td>\n",
       "    </tr>\n",
       "    <tr>\n",
       "      <th>4</th>\n",
       "      <td>15100</td>\n",
       "      <td>876.00</td>\n",
       "      <td>333.0</td>\n",
       "      <td>3.0</td>\n",
       "      <td>292.000000</td>\n",
       "    </tr>\n",
       "  </tbody>\n",
       "</table>\n",
       "</div>"
      ],
      "text/plain": [
       "   customer_id  monetary  recency_days  frequency  avg_ticket\n",
       "0        17850   5391.21         372.0       34.0   18.152222\n",
       "1        13047   3237.54          31.0       10.0   18.822907\n",
       "2        12583   6705.38           2.0       15.0   28.902500\n",
       "3        13748    948.25          95.0        5.0   33.866071\n",
       "4        15100    876.00         333.0        3.0  292.000000"
      ]
     },
     "execution_count": 296,
     "metadata": {},
     "output_type": "execute_result"
    }
   ],
   "source": [
    "df_ref.head()"
   ]
  },
  {
   "cell_type": "code",
   "execution_count": 297,
   "id": "b1f9d44d",
   "metadata": {
    "ExecuteTime": {
     "end_time": "2022-10-16T15:25:03.245254Z",
     "start_time": "2022-10-16T15:25:03.239145Z"
    }
   },
   "outputs": [
    {
     "data": {
      "text/plain": [
       "customer_id      0\n",
       "monetary        34\n",
       "recency_days    34\n",
       "frequency       34\n",
       "avg_ticket      34\n",
       "dtype: int64"
      ]
     },
     "execution_count": 297,
     "metadata": {},
     "output_type": "execute_result"
    }
   ],
   "source": [
    "# Check NAs\n",
    "df_ref.isna().sum()"
   ]
  },
  {
   "cell_type": "markdown",
   "id": "04225ba5",
   "metadata": {},
   "source": [
    "Para esse ciclo vamos dropar essas 34 linhas com NA's."
   ]
  },
  {
   "cell_type": "code",
   "execution_count": null,
   "id": "54f11b88",
   "metadata": {},
   "outputs": [],
   "source": []
  },
  {
   "cell_type": "markdown",
   "id": "18b57218",
   "metadata": {},
   "source": [
    "# 4 Análise Exploratória dos Dados"
   ]
  },
  {
   "cell_type": "code",
   "execution_count": 298,
   "id": "581a866b",
   "metadata": {
    "ExecuteTime": {
     "end_time": "2022-10-16T15:25:04.279839Z",
     "start_time": "2022-10-16T15:25:04.274424Z"
    }
   },
   "outputs": [],
   "source": [
    "df4 = df_ref.dropna().copy()"
   ]
  },
  {
   "cell_type": "code",
   "execution_count": 299,
   "id": "6e312202",
   "metadata": {
    "ExecuteTime": {
     "end_time": "2022-10-16T15:25:05.071350Z",
     "start_time": "2022-10-16T15:25:05.054079Z"
    }
   },
   "outputs": [
    {
     "data": {
      "text/plain": [
       "customer_id     0\n",
       "monetary        0\n",
       "recency_days    0\n",
       "frequency       0\n",
       "avg_ticket      0\n",
       "dtype: int64"
      ]
     },
     "execution_count": 299,
     "metadata": {},
     "output_type": "execute_result"
    }
   ],
   "source": [
    "df4.isna().sum()"
   ]
  },
  {
   "cell_type": "markdown",
   "id": "3697e792",
   "metadata": {},
   "source": [
    "# 5 Preparação dos Dados"
   ]
  },
  {
   "cell_type": "code",
   "execution_count": 300,
   "id": "dc0fd42b",
   "metadata": {
    "ExecuteTime": {
     "end_time": "2022-10-16T15:25:07.735014Z",
     "start_time": "2022-10-16T15:25:07.730355Z"
    }
   },
   "outputs": [],
   "source": [
    "df5 = df4.copy()"
   ]
  },
  {
   "cell_type": "code",
   "execution_count": 301,
   "id": "4f52e75e",
   "metadata": {
    "ExecuteTime": {
     "end_time": "2022-10-16T15:25:08.075084Z",
     "start_time": "2022-10-16T15:25:08.072519Z"
    }
   },
   "outputs": [],
   "source": [
    "ss = StandardScaler()"
   ]
  },
  {
   "cell_type": "code",
   "execution_count": 302,
   "id": "6a74ffcd",
   "metadata": {
    "ExecuteTime": {
     "end_time": "2022-10-16T15:25:08.371882Z",
     "start_time": "2022-10-16T15:25:08.352325Z"
    }
   },
   "outputs": [],
   "source": [
    "df5['monetary'] = ss.fit_transform(df5[['monetary']])\n",
    "df5['recency_days'] = ss.fit_transform(df5[['recency_days']])\n",
    "df5['frequency'] = ss.fit_transform(df5[['frequency']])\n",
    "df5['avg_ticket'] = ss.fit_transform(df5[['avg_ticket']])\n"
   ]
  },
  {
   "cell_type": "code",
   "execution_count": 303,
   "id": "f231196f",
   "metadata": {
    "ExecuteTime": {
     "end_time": "2022-10-16T15:25:08.612953Z",
     "start_time": "2022-10-16T15:25:08.605112Z"
    }
   },
   "outputs": [
    {
     "data": {
      "text/html": [
       "<div>\n",
       "<style scoped>\n",
       "    .dataframe tbody tr th:only-of-type {\n",
       "        vertical-align: middle;\n",
       "    }\n",
       "\n",
       "    .dataframe tbody tr th {\n",
       "        vertical-align: top;\n",
       "    }\n",
       "\n",
       "    .dataframe thead th {\n",
       "        text-align: right;\n",
       "    }\n",
       "</style>\n",
       "<table border=\"1\" class=\"dataframe\">\n",
       "  <thead>\n",
       "    <tr style=\"text-align: right;\">\n",
       "      <th></th>\n",
       "      <th>customer_id</th>\n",
       "      <th>monetary</th>\n",
       "      <th>recency_days</th>\n",
       "      <th>frequency</th>\n",
       "      <th>avg_ticket</th>\n",
       "    </tr>\n",
       "  </thead>\n",
       "  <tbody>\n",
       "    <tr>\n",
       "      <th>0</th>\n",
       "      <td>17850</td>\n",
       "      <td>0.376325</td>\n",
       "      <td>2.799894</td>\n",
       "      <td>3.876667</td>\n",
       "      <td>-0.034218</td>\n",
       "    </tr>\n",
       "    <tr>\n",
       "      <th>1</th>\n",
       "      <td>13047</td>\n",
       "      <td>0.135025</td>\n",
       "      <td>-0.611005</td>\n",
       "      <td>0.748478</td>\n",
       "      <td>-0.033761</td>\n",
       "    </tr>\n",
       "    <tr>\n",
       "      <th>2</th>\n",
       "      <td>12583</td>\n",
       "      <td>0.523565</td>\n",
       "      <td>-0.901081</td>\n",
       "      <td>1.400184</td>\n",
       "      <td>-0.026895</td>\n",
       "    </tr>\n",
       "    <tr>\n",
       "      <th>3</th>\n",
       "      <td>13748</td>\n",
       "      <td>-0.121469</td>\n",
       "      <td>0.029164</td>\n",
       "      <td>0.096772</td>\n",
       "      <td>-0.023514</td>\n",
       "    </tr>\n",
       "    <tr>\n",
       "      <th>4</th>\n",
       "      <td>15100</td>\n",
       "      <td>-0.129564</td>\n",
       "      <td>2.409791</td>\n",
       "      <td>-0.163911</td>\n",
       "      <td>0.152333</td>\n",
       "    </tr>\n",
       "  </tbody>\n",
       "</table>\n",
       "</div>"
      ],
      "text/plain": [
       "   customer_id  monetary  recency_days  frequency  avg_ticket\n",
       "0        17850  0.376325      2.799894   3.876667   -0.034218\n",
       "1        13047  0.135025     -0.611005   0.748478   -0.033761\n",
       "2        12583  0.523565     -0.901081   1.400184   -0.026895\n",
       "3        13748 -0.121469      0.029164   0.096772   -0.023514\n",
       "4        15100 -0.129564      2.409791  -0.163911    0.152333"
      ]
     },
     "execution_count": 303,
     "metadata": {},
     "output_type": "execute_result"
    }
   ],
   "source": [
    "df5.head()"
   ]
  },
  {
   "cell_type": "markdown",
   "id": "ee4c95cb",
   "metadata": {},
   "source": [
    "# 6 Seleção dos Atributos"
   ]
  },
  {
   "cell_type": "code",
   "execution_count": 304,
   "id": "2176118e",
   "metadata": {
    "ExecuteTime": {
     "end_time": "2022-10-16T15:25:09.686140Z",
     "start_time": "2022-10-16T15:25:09.676537Z"
    }
   },
   "outputs": [],
   "source": [
    "df6 = df5.copy()"
   ]
  },
  {
   "cell_type": "markdown",
   "id": "4d5ba9c5",
   "metadata": {},
   "source": [
    "# 7 Hyperparameter Fine-Tunning"
   ]
  },
  {
   "cell_type": "code",
   "execution_count": 305,
   "id": "4236d010",
   "metadata": {
    "ExecuteTime": {
     "end_time": "2022-10-16T15:25:10.113495Z",
     "start_time": "2022-10-16T15:25:10.108559Z"
    }
   },
   "outputs": [],
   "source": [
    "df7 = df6.copy()"
   ]
  },
  {
   "cell_type": "code",
   "execution_count": 306,
   "id": "ac1181b6",
   "metadata": {
    "ExecuteTime": {
     "end_time": "2022-10-16T15:25:10.357075Z",
     "start_time": "2022-10-16T15:25:10.353737Z"
    }
   },
   "outputs": [],
   "source": [
    "X = df7.drop('customer_id', axis=1)"
   ]
  },
  {
   "cell_type": "code",
   "execution_count": 307,
   "id": "0e12adbd",
   "metadata": {
    "ExecuteTime": {
     "end_time": "2022-10-16T15:25:10.578050Z",
     "start_time": "2022-10-16T15:25:10.572930Z"
    }
   },
   "outputs": [],
   "source": [
    "clusters = [2, 3, 4, 5, 6, 7]"
   ]
  },
  {
   "cell_type": "markdown",
   "id": "52bc8986",
   "metadata": {},
   "source": [
    "## 7.1 Within-Cluster Sum of Square (WSS)"
   ]
  },
  {
   "cell_type": "markdown",
   "id": "37b2a460",
   "metadata": {
    "ExecuteTime": {
     "end_time": "2022-10-08T13:58:10.546761Z",
     "start_time": "2022-10-08T13:58:10.544019Z"
    }
   },
   "source": [
    "### 7.1.1 Sem usar a Biblioteca  Yellowbrick"
   ]
  },
  {
   "cell_type": "code",
   "execution_count": 308,
   "id": "54b7b70f",
   "metadata": {
    "ExecuteTime": {
     "end_time": "2022-10-16T15:25:12.350087Z",
     "start_time": "2022-10-16T15:25:11.795631Z"
    }
   },
   "outputs": [
    {
     "data": {
      "text/plain": [
       "Text(0.5, 1.0, 'WSS vs K')"
      ]
     },
     "execution_count": 308,
     "metadata": {},
     "output_type": "execute_result"
    },
    {
     "data": {
      "image/png": "[encoded data removed]",
      "text/plain": [
       "<Figure size 432x288 with 1 Axes>"
      ]
     },
     "metadata": {
      "needs_background": "light"
     },
     "output_type": "display_data"
    }
   ],
   "source": [
    "wss = []\n",
    "\n",
    "for k in clusters:\n",
    "    # model definition\n",
    "    kmeans = KMeans(init = 'random', n_clusters=k, n_init=10, max_iter=300, random_state=271)\n",
    "    \n",
    "    # model training\n",
    "    kmeans.fit(X)\n",
    "    \n",
    "    # validation\n",
    "    wss.append(kmeans.inertia_)\n",
    "    \n",
    "# plot\n",
    "\n",
    "plt.plot(clusters, wss, linestyle='-', marker='o', color='b')\n",
    "plt.xlabel('K')\n",
    "plt.ylabel('Within-Cluster Sum of Square (WSS)')\n",
    "plt.title('WSS vs K')\n",
    "    "
   ]
  },
  {
   "cell_type": "markdown",
   "id": "6c3e5db9",
   "metadata": {},
   "source": [
    "### 7.1.2 Usando a Biblioteca Yellowbrick"
   ]
  },
  {
   "cell_type": "code",
   "execution_count": null,
   "id": "4f84aea3",
   "metadata": {
    "ExecuteTime": {
     "end_time": "2022-10-09T17:46:23.933355Z",
     "start_time": "2022-10-09T17:46:23.926443Z"
    }
   },
   "outputs": [],
   "source": []
  },
  {
   "cell_type": "code",
   "execution_count": 309,
   "id": "41cd4ce4",
   "metadata": {
    "ExecuteTime": {
     "end_time": "2022-10-16T15:25:18.510030Z",
     "start_time": "2022-10-16T15:25:12.559137Z"
    }
   },
   "outputs": [
    {
     "data": {
      "image/png": "[encoded data removed]",
      "text/plain": [
       "<Figure size 432x288 with 1 Axes>"
      ]
     },
     "metadata": {
      "needs_background": "light"
     },
     "output_type": "display_data"
    },
    {
     "data": {
      "text/plain": [
       "<AxesSubplot: title={'center': 'Distortion Score Elbow for KMeans Clustering'}, xlabel='k', ylabel='distortion score'>"
      ]
     },
     "execution_count": 309,
     "metadata": {},
     "output_type": "execute_result"
    }
   ],
   "source": [
    "kmeans = KElbowVisualizer(KMeans(), k=clusters, timings=False)\n",
    "kmeans.fit(X)\n",
    "kmeans.show()"
   ]
  },
  {
   "cell_type": "markdown",
   "id": "eb3ea42e",
   "metadata": {},
   "source": [
    "## 7.2 Silhouette Score"
   ]
  },
  {
   "cell_type": "code",
   "execution_count": 310,
   "id": "4bd7c7e7",
   "metadata": {
    "ExecuteTime": {
     "end_time": "2022-10-16T15:25:25.921865Z",
     "start_time": "2022-10-16T15:25:18.705910Z"
    }
   },
   "outputs": [
    {
     "data": {
      "image/png": "[encoded data removed]",
      "text/plain": [
       "<Figure size 432x288 with 1 Axes>"
      ]
     },
     "metadata": {
      "needs_background": "light"
     },
     "output_type": "display_data"
    },
    {
     "data": {
      "text/plain": [
       "<AxesSubplot: title={'center': 'Silhouette Score Elbow for KMeans Clustering'}, xlabel='k', ylabel='silhouette score'>"
      ]
     },
     "execution_count": 310,
     "metadata": {},
     "output_type": "execute_result"
    }
   ],
   "source": [
    "kmeans = KElbowVisualizer(KMeans(), k=clusters, metric = 'silhouette', timings=False)\n",
    "kmeans.fit(X)\n",
    "kmeans.show()"
   ]
  },
  {
   "cell_type": "markdown",
   "id": "8214cd39",
   "metadata": {},
   "source": []
  },
  {
   "cell_type": "markdown",
   "id": "54c2f0ea",
   "metadata": {},
   "source": [
    "### 7.2.1 Análise da Silhueta "
   ]
  },
  {
   "cell_type": "code",
   "execution_count": 311,
   "id": "8e47d7da",
   "metadata": {
    "ExecuteTime": {
     "end_time": "2022-10-16T15:25:38.051527Z",
     "start_time": "2022-10-16T15:25:32.908101Z"
    }
   },
   "outputs": [
    {
     "data": {
      "image/png": "[encoded data removed]",
      "text/plain": [
       "<Figure size 1800x1296 with 6 Axes>"
      ]
     },
     "metadata": {
      "needs_background": "light"
     },
     "output_type": "display_data"
    }
   ],
   "source": [
    "\n",
    "fig, ax = plt.subplots(3, 2, figsize=(25,18))\n",
    "\n",
    "for k in clusters:\n",
    "    km = KMeans(n_clusters=k, init='random', n_init=10, max_iter=100, random_state=271)\n",
    "    \n",
    "    visualizer = SilhouetteVisualizer(km, colors='yellowbrick', ax=ax[k//2 -1][k%2])\n",
    "\n",
    "    visualizer.fit(X)\n",
    "\n",
    "    visualizer.finalize()"
   ]
  },
  {
   "cell_type": "markdown",
   "id": "da5fed0c",
   "metadata": {},
   "source": [
    "Analisando os resultados do WSS e da Silhueta vamos seguir para o Treinamento do Modelo com k = 3 (3 clusters)."
   ]
  },
  {
   "cell_type": "code",
   "execution_count": null,
   "id": "79204de1",
   "metadata": {},
   "outputs": [],
   "source": []
  },
  {
   "cell_type": "markdown",
   "id": "f182e675",
   "metadata": {},
   "source": [
    "# 8 Treinamento do Modelo"
   ]
  },
  {
   "cell_type": "markdown",
   "id": "eb7c226e",
   "metadata": {},
   "source": [
    "## 8.1 KMeans"
   ]
  },
  {
   "cell_type": "code",
   "execution_count": 312,
   "id": "270cf715",
   "metadata": {
    "ExecuteTime": {
     "end_time": "2022-10-16T15:25:58.926369Z",
     "start_time": "2022-10-16T15:25:58.847906Z"
    }
   },
   "outputs": [],
   "source": [
    "# model definion\n",
    "k = 3\n",
    "kmeans = KMeans(init='random', n_clusters=k, n_init=10, max_iter=300, random_state=271)\n",
    "\n",
    "# model training\n",
    "kmeans.fit(X)\n",
    "\n",
    "# clustering\n",
    "labels = kmeans.labels_"
   ]
  },
  {
   "cell_type": "markdown",
   "id": "7f34b511",
   "metadata": {
    "ExecuteTime": {
     "end_time": "2022-10-08T21:31:27.260656Z",
     "start_time": "2022-10-08T21:31:27.213316Z"
    }
   },
   "source": [
    "## 8.2 Validation"
   ]
  },
  {
   "cell_type": "code",
   "execution_count": 313,
   "id": "c03f2ddc",
   "metadata": {
    "ExecuteTime": {
     "end_time": "2022-10-16T15:25:59.675395Z",
     "start_time": "2022-10-16T15:25:59.356565Z"
    }
   },
   "outputs": [
    {
     "name": "stdout",
     "output_type": "stream",
     "text": [
      "WSS Score: 9431.336302879605\n",
      "Silhouette Score: 0.5878160951540814\n"
     ]
    }
   ],
   "source": [
    "# WSS\n",
    "print(f'WSS Score: {kmeans.inertia_}')\n",
    "\n",
    "\n",
    "# Silhouette\n",
    "s = silhouette_score(X, labels, metric='euclidean')\n",
    "print(f'Silhouette Score: {s}')"
   ]
  },
  {
   "cell_type": "markdown",
   "id": "e506621a",
   "metadata": {},
   "source": [
    "# 9 Análise dos Clusters"
   ]
  },
  {
   "cell_type": "code",
   "execution_count": 314,
   "id": "69394078",
   "metadata": {
    "ExecuteTime": {
     "end_time": "2022-10-16T15:26:01.099867Z",
     "start_time": "2022-10-16T15:26:01.096395Z"
    }
   },
   "outputs": [],
   "source": [
    "df9 = df7.copy()\n",
    "df9['clusters'] = labels"
   ]
  },
  {
   "cell_type": "code",
   "execution_count": 315,
   "id": "2b561ec4",
   "metadata": {
    "ExecuteTime": {
     "end_time": "2022-10-16T15:26:02.202036Z",
     "start_time": "2022-10-16T15:26:02.194191Z"
    }
   },
   "outputs": [
    {
     "data": {
      "text/html": [
       "<div>\n",
       "<style scoped>\n",
       "    .dataframe tbody tr th:only-of-type {\n",
       "        vertical-align: middle;\n",
       "    }\n",
       "\n",
       "    .dataframe tbody tr th {\n",
       "        vertical-align: top;\n",
       "    }\n",
       "\n",
       "    .dataframe thead th {\n",
       "        text-align: right;\n",
       "    }\n",
       "</style>\n",
       "<table border=\"1\" class=\"dataframe\">\n",
       "  <thead>\n",
       "    <tr style=\"text-align: right;\">\n",
       "      <th></th>\n",
       "      <th>customer_id</th>\n",
       "      <th>monetary</th>\n",
       "      <th>recency_days</th>\n",
       "      <th>frequency</th>\n",
       "      <th>avg_ticket</th>\n",
       "      <th>clusters</th>\n",
       "    </tr>\n",
       "  </thead>\n",
       "  <tbody>\n",
       "    <tr>\n",
       "      <th>0</th>\n",
       "      <td>17850</td>\n",
       "      <td>0.376325</td>\n",
       "      <td>2.799894</td>\n",
       "      <td>3.876667</td>\n",
       "      <td>-0.034218</td>\n",
       "      <td>2</td>\n",
       "    </tr>\n",
       "    <tr>\n",
       "      <th>1</th>\n",
       "      <td>13047</td>\n",
       "      <td>0.135025</td>\n",
       "      <td>-0.611005</td>\n",
       "      <td>0.748478</td>\n",
       "      <td>-0.033761</td>\n",
       "      <td>1</td>\n",
       "    </tr>\n",
       "    <tr>\n",
       "      <th>2</th>\n",
       "      <td>12583</td>\n",
       "      <td>0.523565</td>\n",
       "      <td>-0.901081</td>\n",
       "      <td>1.400184</td>\n",
       "      <td>-0.026895</td>\n",
       "      <td>1</td>\n",
       "    </tr>\n",
       "    <tr>\n",
       "      <th>3</th>\n",
       "      <td>13748</td>\n",
       "      <td>-0.121469</td>\n",
       "      <td>0.029164</td>\n",
       "      <td>0.096772</td>\n",
       "      <td>-0.023514</td>\n",
       "      <td>1</td>\n",
       "    </tr>\n",
       "    <tr>\n",
       "      <th>4</th>\n",
       "      <td>15100</td>\n",
       "      <td>-0.129564</td>\n",
       "      <td>2.409791</td>\n",
       "      <td>-0.163911</td>\n",
       "      <td>0.152333</td>\n",
       "      <td>2</td>\n",
       "    </tr>\n",
       "  </tbody>\n",
       "</table>\n",
       "</div>"
      ],
      "text/plain": [
       "   customer_id  monetary  recency_days  frequency  avg_ticket  clusters\n",
       "0        17850  0.376325      2.799894   3.876667   -0.034218         2\n",
       "1        13047  0.135025     -0.611005   0.748478   -0.033761         1\n",
       "2        12583  0.523565     -0.901081   1.400184   -0.026895         1\n",
       "3        13748 -0.121469      0.029164   0.096772   -0.023514         1\n",
       "4        15100 -0.129564      2.409791  -0.163911    0.152333         2"
      ]
     },
     "execution_count": 315,
     "metadata": {},
     "output_type": "execute_result"
    }
   ],
   "source": [
    "df9.head()"
   ]
  },
  {
   "cell_type": "markdown",
   "id": "f485b0e6",
   "metadata": {},
   "source": [
    "## 9.1 Inspeção por Visualização"
   ]
  },
  {
   "cell_type": "code",
   "execution_count": 316,
   "id": "d2c2f2af",
   "metadata": {
    "ExecuteTime": {
     "end_time": "2022-10-16T15:26:27.128524Z",
     "start_time": "2022-10-16T15:26:26.356272Z"
    }
   },
   "outputs": [
    {
     "name": "stderr",
     "output_type": "stream",
     "text": [
      "/home/jonas/.local/lib/python3.8/site-packages/sklearn/base.py:450: UserWarning: X does not have valid feature names, but KMeans was fitted with feature names\n",
      "  warnings.warn(\n"
     ]
    },
    {
     "data": {
      "image/png": "[encoded data removed]",
      "text/plain": [
       "<Figure size 432x288 with 1 Axes>"
      ]
     },
     "metadata": {
      "needs_background": "light"
     },
     "output_type": "display_data"
    }
   ],
   "source": [
    "visualizer = SilhouetteVisualizer(kmeans, colors='yellowbrick')\n",
    "\n",
    "visualizer.fit(X)\n",
    "\n",
    "visualizer.finalize()"
   ]
  },
  {
   "cell_type": "markdown",
   "id": "731b4f05",
   "metadata": {},
   "source": [
    "## 9.2 2D Plot"
   ]
  },
  {
   "cell_type": "code",
   "execution_count": 317,
   "id": "92abd97d",
   "metadata": {
    "ExecuteTime": {
     "end_time": "2022-10-16T15:26:27.322239Z",
     "start_time": "2022-10-16T15:26:27.318847Z"
    }
   },
   "outputs": [],
   "source": [
    "df_viz = df9.drop('customer_id', axis=1)"
   ]
  },
  {
   "cell_type": "code",
   "execution_count": 318,
   "id": "350ebf8b",
   "metadata": {
    "ExecuteTime": {
     "end_time": "2022-10-16T15:26:34.764566Z",
     "start_time": "2022-10-16T15:26:27.520020Z"
    }
   },
   "outputs": [
    {
     "data": {
      "text/plain": [
       "<seaborn.axisgrid.PairGrid at 0x7f549324e7c0>"
      ]
     },
     "execution_count": 318,
     "metadata": {},
     "output_type": "execute_result"
    },
    {
     "data": {
      "image/png": "[encoded data removed]",
      "text/plain": [
       "<Figure size 762.5x720 with 20 Axes>"
      ]
     },
     "metadata": {
      "needs_background": "light"
     },
     "output_type": "display_data"
    }
   ],
   "source": [
    "sns.pairplot(df_viz, hue='clusters')"
   ]
  },
  {
   "cell_type": "markdown",
   "id": "248dc0a7",
   "metadata": {},
   "source": [
    "## 9.3 UMAP"
   ]
  },
  {
   "cell_type": "code",
   "execution_count": 321,
   "id": "12ee0451",
   "metadata": {
    "ExecuteTime": {
     "end_time": "2022-10-16T15:27:15.112794Z",
     "start_time": "2022-10-16T15:27:07.173243Z"
    }
   },
   "outputs": [
    {
     "data": {
      "text/plain": [
       "<AxesSubplot: xlabel='embedding_x', ylabel='embedding_y'>"
      ]
     },
     "execution_count": 321,
     "metadata": {},
     "output_type": "execute_result"
    },
    {
     "data": {
      "image/png": "[encoded data removed]",
      "text/plain": [
       "<Figure size 432x288 with 1 Axes>"
      ]
     },
     "metadata": {
      "needs_background": "light"
     },
     "output_type": "display_data"
    }
   ],
   "source": [
    "reducer = umap.UMAP(n_neighbors = 30, random_state=42)\n",
    "embedding = reducer.fit_transform(X)\n",
    "\n",
    "# embedding\n",
    "df_viz['embedding_x'] = embedding[: , 0]\n",
    "df_viz['embedding_y'] = embedding[: , 1]\n",
    "\n",
    "# plot UMAP\n",
    "sns.scatterplot(x='embedding_x', y='embedding_y', \n",
    "                hue='clusters', palette=sns.color_palette('hls', n_colors=len(df_viz['clusters'].unique())),\n",
    "                data=df_viz)"
   ]
  },
  {
   "cell_type": "markdown",
   "id": "dfaf6e05",
   "metadata": {},
   "source": [
    "## 9.2 Perfil dos Clusters"
   ]
  },
  {
   "cell_type": "code",
   "execution_count": 322,
   "id": "70f3427f",
   "metadata": {
    "ExecuteTime": {
     "end_time": "2022-10-16T15:27:17.730939Z",
     "start_time": "2022-10-16T15:27:17.712392Z"
    }
   },
   "outputs": [
    {
     "data": {
      "text/html": [
       "<div>\n",
       "<style scoped>\n",
       "    .dataframe tbody tr th:only-of-type {\n",
       "        vertical-align: middle;\n",
       "    }\n",
       "\n",
       "    .dataframe tbody tr th {\n",
       "        vertical-align: top;\n",
       "    }\n",
       "\n",
       "    .dataframe thead th {\n",
       "        text-align: right;\n",
       "    }\n",
       "</style>\n",
       "<table border=\"1\" class=\"dataframe\">\n",
       "  <thead>\n",
       "    <tr style=\"text-align: right;\">\n",
       "      <th></th>\n",
       "      <th>customer_id</th>\n",
       "      <th>monetary</th>\n",
       "      <th>recency_days</th>\n",
       "      <th>frequency</th>\n",
       "      <th>avg_ticket</th>\n",
       "      <th>clusters</th>\n",
       "    </tr>\n",
       "  </thead>\n",
       "  <tbody>\n",
       "    <tr>\n",
       "      <th>0</th>\n",
       "      <td>17850</td>\n",
       "      <td>0.376325</td>\n",
       "      <td>2.799894</td>\n",
       "      <td>3.876667</td>\n",
       "      <td>-0.034218</td>\n",
       "      <td>2</td>\n",
       "    </tr>\n",
       "    <tr>\n",
       "      <th>1</th>\n",
       "      <td>13047</td>\n",
       "      <td>0.135025</td>\n",
       "      <td>-0.611005</td>\n",
       "      <td>0.748478</td>\n",
       "      <td>-0.033761</td>\n",
       "      <td>1</td>\n",
       "    </tr>\n",
       "    <tr>\n",
       "      <th>2</th>\n",
       "      <td>12583</td>\n",
       "      <td>0.523565</td>\n",
       "      <td>-0.901081</td>\n",
       "      <td>1.400184</td>\n",
       "      <td>-0.026895</td>\n",
       "      <td>1</td>\n",
       "    </tr>\n",
       "    <tr>\n",
       "      <th>3</th>\n",
       "      <td>13748</td>\n",
       "      <td>-0.121469</td>\n",
       "      <td>0.029164</td>\n",
       "      <td>0.096772</td>\n",
       "      <td>-0.023514</td>\n",
       "      <td>1</td>\n",
       "    </tr>\n",
       "    <tr>\n",
       "      <th>4</th>\n",
       "      <td>15100</td>\n",
       "      <td>-0.129564</td>\n",
       "      <td>2.409791</td>\n",
       "      <td>-0.163911</td>\n",
       "      <td>0.152333</td>\n",
       "      <td>2</td>\n",
       "    </tr>\n",
       "  </tbody>\n",
       "</table>\n",
       "</div>"
      ],
      "text/plain": [
       "   customer_id  monetary  recency_days  frequency  avg_ticket  clusters\n",
       "0        17850  0.376325      2.799894   3.876667   -0.034218         2\n",
       "1        13047  0.135025     -0.611005   0.748478   -0.033761         1\n",
       "2        12583  0.523565     -0.901081   1.400184   -0.026895         1\n",
       "3        13748 -0.121469      0.029164   0.096772   -0.023514         1\n",
       "4        15100 -0.129564      2.409791  -0.163911    0.152333         2"
      ]
     },
     "execution_count": 322,
     "metadata": {},
     "output_type": "execute_result"
    }
   ],
   "source": [
    "df9.head()"
   ]
  },
  {
   "cell_type": "code",
   "execution_count": 101,
   "id": "72ebf014",
   "metadata": {
    "ExecuteTime": {
     "end_time": "2022-10-09T19:18:03.376475Z",
     "start_time": "2022-10-09T19:18:03.350810Z"
    }
   },
   "outputs": [],
   "source": [
    "# Number of Clusters\n",
    "df_clusters = df9[['customer_id', 'clusters']].groupby('clusters').count().reset_index()\n",
    "df_clusters['customer_perc'] = 100*(df_clusters['customer_id'] / df_clusters['customer_id'].sum())\n",
    "\n",
    "# AVG Monetary\n",
    "df_avg_monetary = df9[['monetary', 'clusters']].groupby('clusters').mean().reset_index()\n",
    "df_clusters = df_clusters.merge(df_avg_monetary, on='clusters')\n",
    "df_clusters['monetary_avg_perc'] = 100*(df_clusters['monetary'] / df_clusters['monetary'].sum())\n",
    "\n",
    "# AVG Recency_days\n",
    "df_avg_recency = df9[['recency_days', 'clusters']].groupby('clusters').mean().reset_index()\n",
    "df_clusters = df_clusters.merge(df_avg_recency, on='clusters')\n",
    "\n",
    "# AVG Frequency\n",
    "df_avg_freq = df9[['frequency', 'clusters']].groupby('clusters').mean().reset_index()\n",
    "df_clusters = df_clusters.merge(df_avg_freq, on='clusters')\n",
    "\n",
    "# AVG Ticket\n",
    "df_avg_ticket = df9[['avg_ticket', 'clusters']].groupby('clusters').mean().reset_index()\n",
    "df_clusters = df_clusters.merge(df_avg_ticket, on='clusters')\n",
    "\n",
    "# Rename columns\n",
    "df_clusters.columns = ['clusters', 'num_customer', 'customer_perc', 'monetary_avg', 'monetary_avg_perc', 'recency_days_avg', 'frequency_avg', 'avg_ticket']"
   ]
  },
  {
   "cell_type": "code",
   "execution_count": 102,
   "id": "f1626aeb",
   "metadata": {
    "ExecuteTime": {
     "end_time": "2022-10-09T19:18:04.266036Z",
     "start_time": "2022-10-09T19:18:04.256054Z"
    }
   },
   "outputs": [
    {
     "data": {
      "text/html": [
       "<div>\n",
       "<style scoped>\n",
       "    .dataframe tbody tr th:only-of-type {\n",
       "        vertical-align: middle;\n",
       "    }\n",
       "\n",
       "    .dataframe tbody tr th {\n",
       "        vertical-align: top;\n",
       "    }\n",
       "\n",
       "    .dataframe thead th {\n",
       "        text-align: right;\n",
       "    }\n",
       "</style>\n",
       "<table border=\"1\" class=\"dataframe\">\n",
       "  <thead>\n",
       "    <tr style=\"text-align: right;\">\n",
       "      <th></th>\n",
       "      <th>clusters</th>\n",
       "      <th>num_customer</th>\n",
       "      <th>customer_perc</th>\n",
       "      <th>monetary_avg</th>\n",
       "      <th>monetary_avg_perc</th>\n",
       "      <th>recency_days_avg</th>\n",
       "      <th>frequency_avg</th>\n",
       "      <th>avg_ticket</th>\n",
       "    </tr>\n",
       "  </thead>\n",
       "  <tbody>\n",
       "    <tr>\n",
       "      <th>0</th>\n",
       "      <td>0</td>\n",
       "      <td>28</td>\n",
       "      <td>0.640439</td>\n",
       "      <td>42614.387143</td>\n",
       "      <td>18.224353</td>\n",
       "      <td>6.178571</td>\n",
       "      <td>57.821429</td>\n",
       "      <td>162.862605</td>\n",
       "    </tr>\n",
       "    <tr>\n",
       "      <th>1</th>\n",
       "      <td>1</td>\n",
       "      <td>267</td>\n",
       "      <td>6.107045</td>\n",
       "      <td>8089.028652</td>\n",
       "      <td>3.459332</td>\n",
       "      <td>20.280899</td>\n",
       "      <td>19.528090</td>\n",
       "      <td>62.783157</td>\n",
       "    </tr>\n",
       "    <tr>\n",
       "      <th>2</th>\n",
       "      <td>2</td>\n",
       "      <td>6</td>\n",
       "      <td>0.137237</td>\n",
       "      <td>182181.981667</td>\n",
       "      <td>77.911453</td>\n",
       "      <td>7.166667</td>\n",
       "      <td>89.000000</td>\n",
       "      <td>253.626345</td>\n",
       "    </tr>\n",
       "    <tr>\n",
       "      <th>3</th>\n",
       "      <td>3</td>\n",
       "      <td>4071</td>\n",
       "      <td>93.115279</td>\n",
       "      <td>946.696250</td>\n",
       "      <td>0.404862</td>\n",
       "      <td>96.969295</td>\n",
       "      <td>3.641120</td>\n",
       "      <td>25.359654</td>\n",
       "    </tr>\n",
       "  </tbody>\n",
       "</table>\n",
       "</div>"
      ],
      "text/plain": [
       "   clusters  num_customer  customer_perc   monetary_avg  monetary_avg_perc  \\\n",
       "0         0            28       0.640439   42614.387143          18.224353   \n",
       "1         1           267       6.107045    8089.028652           3.459332   \n",
       "2         2             6       0.137237  182181.981667          77.911453   \n",
       "3         3          4071      93.115279     946.696250           0.404862   \n",
       "\n",
       "   recency_days_avg  frequency_avg  avg_ticket  \n",
       "0          6.178571      57.821429  162.862605  \n",
       "1         20.280899      19.528090   62.783157  \n",
       "2          7.166667      89.000000  253.626345  \n",
       "3         96.969295       3.641120   25.359654  "
      ]
     },
     "execution_count": 102,
     "metadata": {},
     "output_type": "execute_result"
    }
   ],
   "source": [
    "df_clusters"
   ]
  },
  {
   "cell_type": "markdown",
   "id": "5c8004b1",
   "metadata": {},
   "source": [
    "### **Cluster 01 (Candidatos à Insiders):**\n",
    "- Número de Clientes: 6 (0.13% dos clientes)\n",
    "- Receita Média: \\$ 182.182,00 (77.9% da receita total)\n",
    "- Ticket Médio: \\$254,00\n",
    "- Recência Média: 7 dias\n",
    "- Frequência Média: 89 compras\n",
    "\n",
    "\n",
    "### **Cluster 02:**\n",
    "- Número de Clientes: 28 (0.65% dos clientes)\n",
    "- Receita Média: \\$ 42.614,00 (18.22% da receita total)\n",
    "- Ticket Médio: \\$ 163,00\n",
    "- Recência Média: 6 dias\n",
    "- Frequência Média: 57 compras\n",
    "\n",
    "### **Cluster 03:**\n",
    "- Número de Clientes: 267 (6.1% dos clientes)\n",
    "- Receita Média: \\$ 8.089,00 (3.5% da receita total)\n",
    "- Ticket Médio: \\$ 62,80\n",
    "- Recência Média: 20 dias\n",
    "- Frequência Média: 53 compras\n",
    "\n",
    "### **Cluster 04:**\n",
    "- Número de Clientes: 4071 (93.1%  dos clientes)\n",
    "- Receita Média: \\$ 946,00 (0.4% da receita total)\n",
    "- Ticket Médio: \\$ 25,00\n",
    "- Recência Média: 96 dias\n",
    "- Frequência Média: 4 compras\n"
   ]
  },
  {
   "cell_type": "markdown",
   "id": "888f4ec2",
   "metadata": {},
   "source": [
    "# 10 Deploy do Modelo em Produção"
   ]
  },
  {
   "cell_type": "code",
   "execution_count": null,
   "id": "87a11bce",
   "metadata": {},
   "outputs": [],
   "source": []
  }
 ],
 "metadata": {
  "kernelspec": {
   "display_name": "Python 3 (ipykernel)",
   "language": "python",
   "name": "python3"
  },
  "language_info": {
   "codemirror_mode": {
    "name": "ipython",
    "version": 3
   },
   "file_extension": ".py",
   "mimetype": "text/x-python",
   "name": "python",
   "nbconvert_exporter": "python",
   "pygments_lexer": "ipython3",
   "version": "3.8.10"
  },
  "latex_envs": {
   "LaTeX_envs_menu_present": true,
   "autoclose": false,
   "autocomplete": true,
   "bibliofile": "biblio.bib",
   "cite_by": "apalike",
   "current_citInitial": 1,
   "eqLabelWithNumbers": true,
   "eqNumInitial": 1,
   "hotkeys": {
    "equation": "Ctrl-E",
    "itemize": "Ctrl-I"
   },
   "labels_anchors": false,
   "latex_user_defs": false,
   "report_style_numbering": false,
   "user_envs_cfg": false
  },
  "varInspector": {
   "cols": {
    "lenName": 16,
    "lenType": 16,
    "lenVar": 40
   },
   "kernels_config": {
    "python": {
     "delete_cmd_postfix": "",
     "delete_cmd_prefix": "del ",
     "library": "var_list.py",
     "varRefreshCmd": "print(var_dic_list())"
    },
    "r": {
     "delete_cmd_postfix": ") ",
     "delete_cmd_prefix": "rm(",
     "library": "var_list.r",
     "varRefreshCmd": "cat(var_dic_list()) "
    }
   },
   "types_to_exclude": [
    "module",
    "function",
    "builtin_function_or_method",
    "instance",
    "_Feature"
   ],
   "window_display": false
  }
 },
 "nbformat": 4,
 "nbformat_minor": 5
}
